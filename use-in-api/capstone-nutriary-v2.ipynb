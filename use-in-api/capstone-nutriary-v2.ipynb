{
 "cells": [
  {
   "cell_type": "markdown",
   "id": "70a38ae5",
   "metadata": {
    "papermill": {
     "duration": 0.007612,
     "end_time": "2023-06-03T14:12:13.064669",
     "exception": false,
     "start_time": "2023-06-03T14:12:13.057057",
     "status": "completed"
    },
    "tags": []
   },
   "source": [
    "path train: '/kaggle/input/indonesian-food/dataset/train'<br>\n",
    "path test: '/kaggle/input/indonesian-food/dataset/test'<br>\n",
    "path valid: '/kaggle/input/indonesian-food/dataset/valid'<br>\n",
    "ada 4 kelas: bakso gado rendang sate"
   ]
  },
  {
   "cell_type": "code",
   "execution_count": 1,
   "id": "6adacd06",
   "metadata": {
    "execution": {
     "iopub.execute_input": "2023-06-03T14:12:13.077889Z",
     "iopub.status.busy": "2023-06-03T14:12:13.077146Z",
     "iopub.status.idle": "2023-06-03T14:12:32.928198Z",
     "shell.execute_reply": "2023-06-03T14:12:32.927025Z"
    },
    "papermill": {
     "duration": 19.860277,
     "end_time": "2023-06-03T14:12:32.930606",
     "exception": false,
     "start_time": "2023-06-03T14:12:13.070329",
     "status": "completed"
    },
    "tags": []
   },
   "outputs": [],
   "source": [
    "# Common imports\n",
    "import os\n",
    "import numpy as np\n",
    "import tensorflow as tf\n",
    "from tensorflow import keras\n",
    "from typing import Tuple, List\n",
    "\n",
    "# Data Imports\n",
    "import pandas as pd\n",
    "from tqdm import tqdm\n",
    "from glob import glob\n",
    "from tensorflow import data as tfd\n",
    "from tensorflow import image as tfi\n",
    "\n",
    "# Data Visualization\n",
    "import plotly.express as px\n",
    "import matplotlib.pyplot as plt\n",
    "from IPython.display import clear_output as cls\n",
    "\n",
    "# Model Architecture\n",
    "from tensorflow.keras import Sequential\n",
    "from tensorflow.keras.applications import ResNet50V2\n",
    "from tensorflow.keras.applications import ResNet152V2\n",
    "from tensorflow.keras.applications import InceptionV3\n",
    "from tensorflow.keras.applications import Xception\n",
    "from tensorflow.keras.layers import GlobalAveragePooling2D, Dropout, Dense\n",
    "import tensorflow.keras.layers as tflayers\n",
    "\n",
    "# Model Training\n",
    "from tensorflow.keras.callbacks import EarlyStopping\n",
    "from tensorflow.keras.callbacks import ModelCheckpoint\n",
    "from sklearn.metrics import precision_score, recall_score, f1_score, classification_report\n",
    "from tensorflow.keras.callbacks import EarlyStopping\n",
    "import tensorflow.keras.layers as tflayers\n",
    "from tensorflow.keras.models import Sequential\n",
    "from tensorflow.keras.optimizers import Adam, RMSprop\n",
    "from tensorflow.keras.preprocessing.image import ImageDataGenerator\n",
    "from keras_tuner import HyperModel, RandomSearch\n",
    "from keras_tuner.engine.hyperparameters import HyperParameters\n",
    "from tensorflow.keras import regularizers\n",
    "\n",
    "# Model Hypertunning\n",
    "!pip install Keras-Preprocessing\n",
    "cls()\n",
    "import keras_tuner as kt\n",
    "from keras_tuner import HyperModel, RandomSearch\n",
    "from keras_tuner.engine.hyperparameters import HyperParameters\n"
   ]
  },
  {
   "cell_type": "code",
   "execution_count": 2,
   "id": "51644476",
   "metadata": {
    "execution": {
     "iopub.execute_input": "2023-06-03T14:12:32.943423Z",
     "iopub.status.busy": "2023-06-03T14:12:32.943088Z",
     "iopub.status.idle": "2023-06-03T14:12:32.948575Z",
     "shell.execute_reply": "2023-06-03T14:12:32.947520Z"
    },
    "papermill": {
     "duration": 0.014656,
     "end_time": "2023-06-03T14:12:32.950911",
     "exception": false,
     "start_time": "2023-06-03T14:12:32.936255",
     "status": "completed"
    },
    "tags": []
   },
   "outputs": [],
   "source": [
    "IMAGE_SIZE = 224\n",
    "BATCH_SIZE = 64\n",
    "CLASS_NAMES = ['bakso', 'gado', 'rendang', 'sate']\n",
    "TRAINING_DIR = \"/kaggle/input/indonesian-food/dataset/train\"\n",
    "VALIDATION_DIR = \"/kaggle/input/indonesian-food/dataset/test\"\n",
    "TEST_DIR = '/kaggle/input/indonesian-food/dataset/val'"
   ]
  },
  {
   "cell_type": "code",
   "execution_count": 3,
   "id": "47bc5703",
   "metadata": {
    "execution": {
     "iopub.execute_input": "2023-06-03T14:12:32.962718Z",
     "iopub.status.busy": "2023-06-03T14:12:32.962451Z",
     "iopub.status.idle": "2023-06-03T14:12:35.292042Z",
     "shell.execute_reply": "2023-06-03T14:12:35.291090Z"
    },
    "papermill": {
     "duration": 2.338428,
     "end_time": "2023-06-03T14:12:35.294646",
     "exception": false,
     "start_time": "2023-06-03T14:12:32.956218",
     "status": "completed"
    },
    "tags": []
   },
   "outputs": [],
   "source": [
    "# with tf.device('/gpu:0'):\n",
    "model = Sequential()\n",
    "\n",
    "# base_model = Xception(\n",
    "#     input_shape = (IMAGE_SIZE, IMAGE_SIZE, 3),\n",
    "#     include_top=False,\n",
    "#     weights='imagenet'\n",
    "# )\n",
    "# model.add(base_model)\n",
    "# model.add(tf.keras.layers.GlobalAveragePooling2D())\n",
    "\n",
    "# nontransfer learning\n",
    "model.add(tflayers.Rescaling(1./255, offset=-1))\n",
    "model.add(tflayers.Conv2D(16, (3,3), activation='relu'))\n",
    "model.add(tflayers.MaxPooling2D(2,2))\n",
    "\n",
    "model.add(tflayers.Conv2D(32, (3,3), activation='relu'))\n",
    "model.add(tflayers.MaxPooling2D(2,2))\n",
    "\n",
    "model.add(tflayers.Conv2D(64, (3,3), activation='relu'))\n",
    "model.add(tflayers.MaxPooling2D(2,2))\n",
    "\n",
    "model.add(tflayers.Conv2D(128, (3,3), activation='relu'))\n",
    "model.add(tflayers.MaxPooling2D(2,2))\n",
    "model.add(tflayers.Conv2D(256, (3,3), activation='relu'))\n",
    "\n",
    "model.add(tflayers.MaxPooling2D(2,2))\n",
    "model.add(tflayers.Conv2D(512, (3,3), activation='relu'))\n",
    "model.add(tflayers.MaxPooling2D(2,2))\n",
    "model.add(tflayers.Flatten())\n",
    "\n",
    "# Tune the hyperparameters for the Dense layer\n",
    "model.add(Dense(512, activation='relu'))\n",
    "model.add(tflayers.Dropout(0.1))\n",
    "model.add(Dense(256, activation='relu'))\n",
    "model.add(Dense(128, activation='relu'))\n",
    "model.add(Dense(4, activation='softmax'))\n",
    "\n",
    "# Print the model summary\n",
    "# model.summary()"
   ]
  },
  {
   "cell_type": "code",
   "execution_count": 4,
   "id": "0f70e1ed",
   "metadata": {
    "execution": {
     "iopub.execute_input": "2023-06-03T14:12:35.307083Z",
     "iopub.status.busy": "2023-06-03T14:12:35.306757Z",
     "iopub.status.idle": "2023-06-03T14:12:35.332676Z",
     "shell.execute_reply": "2023-06-03T14:12:35.331764Z"
    },
    "papermill": {
     "duration": 0.034551,
     "end_time": "2023-06-03T14:12:35.334836",
     "exception": false,
     "start_time": "2023-06-03T14:12:35.300285",
     "status": "completed"
    },
    "tags": []
   },
   "outputs": [],
   "source": [
    "initial_LR = 6e-4\n",
    "\n",
    "optimizer = tf.keras.optimizers.Adam(learning_rate=initial_LR)\n",
    "\n",
    "model.compile(\n",
    "    optimizer=optimizer, \n",
    "    loss=tf.keras.losses.CategoricalCrossentropy(), \n",
    "    metrics=['accuracy']\n",
    ")"
   ]
  },
  {
   "cell_type": "code",
   "execution_count": 5,
   "id": "7af2f890",
   "metadata": {
    "execution": {
     "iopub.execute_input": "2023-06-03T14:12:35.356714Z",
     "iopub.status.busy": "2023-06-03T14:12:35.356331Z",
     "iopub.status.idle": "2023-06-03T14:12:43.380366Z",
     "shell.execute_reply": "2023-06-03T14:12:43.379415Z"
    },
    "papermill": {
     "duration": 8.037224,
     "end_time": "2023-06-03T14:12:43.382530",
     "exception": false,
     "start_time": "2023-06-03T14:12:35.345306",
     "status": "completed"
    },
    "tags": []
   },
   "outputs": [
    {
     "name": "stdout",
     "output_type": "stream",
     "text": [
      "Found 7887 files belonging to 4 classes.\n",
      "Found 866 files belonging to 4 classes.\n",
      "Found 343 files belonging to 4 classes.\n"
     ]
    }
   ],
   "source": [
    "IMAGES_SIZE = (IMAGE_SIZE, IMAGE_SIZE)\n",
    "data_augmentation = tf.keras.Sequential([\n",
    "    tf.keras.layers.experimental.preprocessing.RandomFlip(\"horizontal_and_vertical\"),\n",
    "    tf.keras.layers.experimental.preprocessing.RandomRotation(0.3),\n",
    "    tf.keras.layers.experimental.preprocessing.RandomContrast(factor=0.4)\n",
    "])\n",
    "\n",
    "train_generator = tf.keras.utils.image_dataset_from_directory(\n",
    "    TRAINING_DIR,\n",
    "    batch_size=BATCH_SIZE,\n",
    "    label_mode='categorical',\n",
    "    class_names=CLASS_NAMES,\n",
    "    image_size=IMAGES_SIZE\n",
    "    \n",
    ")\n",
    "\n",
    "validation_generator = tf.keras.utils.image_dataset_from_directory(\n",
    "    VALIDATION_DIR,\n",
    "    batch_size=BATCH_SIZE,\n",
    "    label_mode='categorical',\n",
    "    class_names=CLASS_NAMES,\n",
    "    image_size=IMAGES_SIZE\n",
    "    \n",
    ")\n",
    "\n",
    "test_dataset = tf.keras.utils.image_dataset_from_directory(\n",
    "    TEST_DIR,\n",
    "    batch_size=BATCH_SIZE,\n",
    "    label_mode='categorical',\n",
    "    class_names=CLASS_NAMES,\n",
    "    image_size=IMAGES_SIZE,\n",
    "    shuffle=False\n",
    ")"
   ]
  },
  {
   "cell_type": "code",
   "execution_count": 6,
   "id": "2a640ad5",
   "metadata": {
    "execution": {
     "iopub.execute_input": "2023-06-03T14:12:43.396258Z",
     "iopub.status.busy": "2023-06-03T14:12:43.395438Z",
     "iopub.status.idle": "2023-06-03T14:12:45.512428Z",
     "shell.execute_reply": "2023-06-03T14:12:45.511439Z"
    },
    "papermill": {
     "duration": 2.126496,
     "end_time": "2023-06-03T14:12:45.514971",
     "exception": false,
     "start_time": "2023-06-03T14:12:43.388475",
     "status": "completed"
    },
    "tags": []
   },
   "outputs": [],
   "source": [
    "train_generator = train_generator.map(lambda x, y: (data_augmentation(x, training=True), y))\n",
    "\n",
    "# Configure the dataset for performance\n",
    "train_generator = train_generator.prefetch(buffer_size=tf.data.AUTOTUNE)\n",
    "validation_generator = validation_generator.prefetch(buffer_size=tf.data.AUTOTUNE)"
   ]
  },
  {
   "cell_type": "code",
   "execution_count": 7,
   "id": "173751a7",
   "metadata": {
    "execution": {
     "iopub.execute_input": "2023-06-03T14:12:45.528370Z",
     "iopub.status.busy": "2023-06-03T14:12:45.527784Z",
     "iopub.status.idle": "2023-06-03T14:12:45.532912Z",
     "shell.execute_reply": "2023-06-03T14:12:45.531889Z"
    },
    "papermill": {
     "duration": 0.01386,
     "end_time": "2023-06-03T14:12:45.534870",
     "exception": false,
     "start_time": "2023-06-03T14:12:45.521010",
     "status": "completed"
    },
    "tags": []
   },
   "outputs": [],
   "source": [
    "# Perform hyperparameter tuning\n",
    "# tuner.search(\n",
    "#     train_generator, \n",
    "#     validation_data=validation_generator, \n",
    "#     epochs=10\n",
    "# #     steps_per_epoch=100\n",
    "# )\n",
    "\n",
    "# Get the best hyperparameters and build the final model\n",
    "# best_hps = tuner.get_best_hyperparameters(num_trials=1)[0]\n",
    "# model = tuner.hypermodel.build(best_hps)"
   ]
  },
  {
   "cell_type": "code",
   "execution_count": 8,
   "id": "81249c65",
   "metadata": {
    "execution": {
     "iopub.execute_input": "2023-06-03T14:12:45.547831Z",
     "iopub.status.busy": "2023-06-03T14:12:45.547110Z",
     "iopub.status.idle": "2023-06-03T15:06:18.010981Z",
     "shell.execute_reply": "2023-06-03T15:06:18.009851Z"
    },
    "papermill": {
     "duration": 3212.472844,
     "end_time": "2023-06-03T15:06:18.013423",
     "exception": false,
     "start_time": "2023-06-03T14:12:45.540579",
     "status": "completed"
    },
    "tags": []
   },
   "outputs": [
    {
     "name": "stdout",
     "output_type": "stream",
     "text": [
      "Epoch 1/100\n",
      "124/124 [==============================] - 92s 647ms/step - loss: 1.3416 - accuracy: 0.3279 - val_loss: 1.2616 - val_accuracy: 0.4053\n",
      "Epoch 2/100\n",
      "124/124 [==============================] - 68s 541ms/step - loss: 1.0746 - accuracy: 0.4999 - val_loss: 1.0124 - val_accuracy: 0.5231\n",
      "Epoch 3/100\n",
      "124/124 [==============================] - 69s 546ms/step - loss: 0.9701 - accuracy: 0.5603 - val_loss: 0.9688 - val_accuracy: 0.5624\n",
      "Epoch 4/100\n",
      "124/124 [==============================] - 68s 540ms/step - loss: 0.8999 - accuracy: 0.6043 - val_loss: 0.9522 - val_accuracy: 0.5924\n",
      "Epoch 5/100\n",
      "124/124 [==============================] - 69s 546ms/step - loss: 0.8432 - accuracy: 0.6345 - val_loss: 0.9231 - val_accuracy: 0.6062\n",
      "Epoch 6/100\n",
      "124/124 [==============================] - 71s 564ms/step - loss: 0.8034 - accuracy: 0.6589 - val_loss: 0.7897 - val_accuracy: 0.6490\n",
      "Epoch 7/100\n",
      "124/124 [==============================] - 69s 546ms/step - loss: 0.7660 - accuracy: 0.6823 - val_loss: 0.6802 - val_accuracy: 0.7136\n",
      "Epoch 8/100\n",
      "124/124 [==============================] - 68s 537ms/step - loss: 0.7178 - accuracy: 0.7053 - val_loss: 0.6267 - val_accuracy: 0.7413\n",
      "Epoch 9/100\n",
      "124/124 [==============================] - 67s 537ms/step - loss: 0.6842 - accuracy: 0.7250 - val_loss: 0.5886 - val_accuracy: 0.7587\n",
      "Epoch 10/100\n",
      "124/124 [==============================] - 67s 534ms/step - loss: 0.6578 - accuracy: 0.7439 - val_loss: 0.5903 - val_accuracy: 0.7552\n",
      "Epoch 11/100\n",
      "124/124 [==============================] - 66s 529ms/step - loss: 0.6233 - accuracy: 0.7526 - val_loss: 0.8787 - val_accuracy: 0.6316\n",
      "Epoch 12/100\n",
      "124/124 [==============================] - 67s 538ms/step - loss: 0.6192 - accuracy: 0.7563 - val_loss: 0.5264 - val_accuracy: 0.7979\n",
      "Epoch 13/100\n",
      "124/124 [==============================] - 67s 536ms/step - loss: 0.5566 - accuracy: 0.7864 - val_loss: 0.5301 - val_accuracy: 0.7852\n",
      "Epoch 14/100\n",
      "124/124 [==============================] - 66s 524ms/step - loss: 0.5402 - accuracy: 0.7908 - val_loss: 0.6706 - val_accuracy: 0.7425\n",
      "Epoch 15/100\n",
      "124/124 [==============================] - 68s 541ms/step - loss: 0.5174 - accuracy: 0.8078 - val_loss: 0.4722 - val_accuracy: 0.8256\n",
      "Epoch 16/100\n",
      "124/124 [==============================] - 68s 542ms/step - loss: 0.4916 - accuracy: 0.8101 - val_loss: 0.5468 - val_accuracy: 0.7841\n",
      "Epoch 17/100\n",
      "124/124 [==============================] - 68s 539ms/step - loss: 0.4731 - accuracy: 0.8220 - val_loss: 0.4885 - val_accuracy: 0.8268\n",
      "Epoch 18/100\n",
      "124/124 [==============================] - 68s 540ms/step - loss: 0.4492 - accuracy: 0.8273 - val_loss: 0.4869 - val_accuracy: 0.8256\n",
      "Epoch 19/100\n",
      "124/124 [==============================] - 68s 539ms/step - loss: 0.4110 - accuracy: 0.8486 - val_loss: 0.3768 - val_accuracy: 0.8557\n",
      "Epoch 20/100\n",
      "124/124 [==============================] - 67s 536ms/step - loss: 0.4261 - accuracy: 0.8421 - val_loss: 0.4510 - val_accuracy: 0.8372\n",
      "Epoch 21/100\n",
      "124/124 [==============================] - 68s 545ms/step - loss: 0.4145 - accuracy: 0.8409 - val_loss: 0.5081 - val_accuracy: 0.8187\n",
      "Epoch 22/100\n",
      "124/124 [==============================] - 68s 544ms/step - loss: 0.3854 - accuracy: 0.8585 - val_loss: 0.4081 - val_accuracy: 0.8533\n",
      "Epoch 23/100\n",
      "124/124 [==============================] - 67s 534ms/step - loss: 0.3699 - accuracy: 0.8621 - val_loss: 0.4316 - val_accuracy: 0.8360\n",
      "Epoch 24/100\n",
      "124/124 [==============================] - 68s 540ms/step - loss: 0.3520 - accuracy: 0.8667 - val_loss: 0.3656 - val_accuracy: 0.8903\n",
      "Epoch 25/100\n",
      "124/124 [==============================] - 67s 538ms/step - loss: 0.3292 - accuracy: 0.8770 - val_loss: 0.5025 - val_accuracy: 0.8245\n",
      "Epoch 26/100\n",
      "124/124 [==============================] - 67s 532ms/step - loss: 0.3297 - accuracy: 0.8813 - val_loss: 0.3247 - val_accuracy: 0.8811\n",
      "Epoch 27/100\n",
      "124/124 [==============================] - 68s 545ms/step - loss: 0.3045 - accuracy: 0.8889 - val_loss: 0.3523 - val_accuracy: 0.8718\n",
      "Epoch 28/100\n",
      "124/124 [==============================] - 66s 529ms/step - loss: 0.2912 - accuracy: 0.8927 - val_loss: 0.3525 - val_accuracy: 0.8764\n",
      "Epoch 29/100\n",
      "124/124 [==============================] - 68s 542ms/step - loss: 0.3163 - accuracy: 0.8827 - val_loss: 0.3340 - val_accuracy: 0.8915\n",
      "Epoch 30/100\n",
      "124/124 [==============================] - 67s 530ms/step - loss: 0.2914 - accuracy: 0.8944 - val_loss: 0.2941 - val_accuracy: 0.8984\n",
      "Epoch 31/100\n",
      "124/124 [==============================] - 67s 535ms/step - loss: 0.2675 - accuracy: 0.9040 - val_loss: 0.5379 - val_accuracy: 0.8072\n",
      "Epoch 32/100\n",
      "124/124 [==============================] - 65s 520ms/step - loss: 0.2796 - accuracy: 0.9001 - val_loss: 0.3689 - val_accuracy: 0.8718\n",
      "Epoch 33/100\n",
      "124/124 [==============================] - 67s 534ms/step - loss: 0.2600 - accuracy: 0.9053 - val_loss: 0.2674 - val_accuracy: 0.9099\n",
      "Epoch 34/100\n",
      "124/124 [==============================] - 68s 540ms/step - loss: 0.2375 - accuracy: 0.9133 - val_loss: 0.3097 - val_accuracy: 0.8926\n",
      "Epoch 35/100\n",
      "124/124 [==============================] - 65s 516ms/step - loss: 0.2446 - accuracy: 0.9124 - val_loss: 0.2658 - val_accuracy: 0.9169\n",
      "Epoch 36/100\n",
      "124/124 [==============================] - 69s 542ms/step - loss: 0.2411 - accuracy: 0.9121 - val_loss: 0.3464 - val_accuracy: 0.8845\n",
      "Epoch 37/100\n",
      "124/124 [==============================] - 67s 537ms/step - loss: 0.2251 - accuracy: 0.9172 - val_loss: 0.2625 - val_accuracy: 0.9180\n",
      "Epoch 38/100\n",
      "124/124 [==============================] - 68s 542ms/step - loss: 0.2372 - accuracy: 0.9121 - val_loss: 0.2329 - val_accuracy: 0.9238\n",
      "Epoch 39/100\n",
      "124/124 [==============================] - 69s 546ms/step - loss: 0.2010 - accuracy: 0.9282 - val_loss: 0.2679 - val_accuracy: 0.9122\n",
      "Epoch 40/100\n",
      "124/124 [==============================] - 68s 535ms/step - loss: 0.2311 - accuracy: 0.9156 - val_loss: 0.2733 - val_accuracy: 0.9088\n",
      "Epoch 41/100\n",
      "124/124 [==============================] - 69s 547ms/step - loss: 0.2131 - accuracy: 0.9215 - val_loss: 0.2084 - val_accuracy: 0.9388\n",
      "Epoch 42/100\n",
      "124/124 [==============================] - 68s 539ms/step - loss: 0.1990 - accuracy: 0.9303 - val_loss: 0.2537 - val_accuracy: 0.9134\n",
      "Epoch 43/100\n",
      "124/124 [==============================] - 66s 530ms/step - loss: 0.2013 - accuracy: 0.9249 - val_loss: 0.2996 - val_accuracy: 0.8972\n",
      "Epoch 44/100\n",
      "124/124 [==============================] - 66s 529ms/step - loss: 0.1854 - accuracy: 0.9318 - val_loss: 0.2488 - val_accuracy: 0.9296\n",
      "Epoch 45/100\n",
      "124/124 [==============================] - 68s 536ms/step - loss: 0.2011 - accuracy: 0.9281 - val_loss: 0.2230 - val_accuracy: 0.9365\n",
      "Epoch 46/100\n",
      "124/124 [==============================] - 67s 533ms/step - loss: 0.1771 - accuracy: 0.9390 - val_loss: 0.2372 - val_accuracy: 0.9215\n"
     ]
    }
   ],
   "source": [
    "# Define early stopping callback\n",
    "early_stopping = EarlyStopping(\n",
    "    monitor='val_loss', \n",
    "    patience=5, \n",
    "    restore_best_weights=True\n",
    ")\n",
    "\n",
    "# Train the model\n",
    "history = model.fit(\n",
    "    train_generator, \n",
    "    callbacks=[early_stopping], \n",
    "    epochs=100 ,\n",
    "    verbose=1, \n",
    "    validation_data = validation_generator,\n",
    "#     steps_per_epoch = 1\n",
    ")\n",
    "\n",
    "# val_loss_per_epoch = history.history['val_accuracy']\n",
    "# best_epoch = val_loss_per_epoch.index(min(val_loss_per_epoch)) + 1\n",
    "# print('Best epoch: %d' % (best_epoch,))"
   ]
  },
  {
   "cell_type": "code",
   "execution_count": 9,
   "id": "9d749a6a",
   "metadata": {
    "execution": {
     "iopub.execute_input": "2023-06-03T15:06:19.024801Z",
     "iopub.status.busy": "2023-06-03T15:06:19.024428Z",
     "iopub.status.idle": "2023-06-03T15:06:33.377657Z",
     "shell.execute_reply": "2023-06-03T15:06:33.376634Z"
    },
    "papermill": {
     "duration": 14.794425,
     "end_time": "2023-06-03T15:06:33.379795",
     "exception": false,
     "start_time": "2023-06-03T15:06:18.585370",
     "status": "completed"
    },
    "tags": []
   },
   "outputs": [
    {
     "data": {
      "image/png": "[encoded data removed]",
      "text/plain": [
       "<Figure size 1200x400 with 2 Axes>"
      ]
     },
     "metadata": {},
     "output_type": "display_data"
    }
   ],
   "source": [
    "import matplotlib.pyplot as plt\n",
    "\n",
    "# Plot the results\n",
    "acc = history.history['accuracy']\n",
    "val_acc = history.history['val_accuracy']\n",
    "loss = history.history['loss']\n",
    "val_loss = history.history['val_loss']\n",
    "\n",
    "epochs = range(len(acc))\n",
    "\n",
    "figure, axis = plt.subplots(1, 2, figsize=(12, 4))\n",
    "\n",
    "axis[0].plot(epochs, acc, 'r', label='Training accuracy')\n",
    "axis[0].plot(epochs, val_acc, 'b', label='Validation accuracy')\n",
    "axis[0].set_title(\"Training and validation accuracy\")\n",
    "axis[0].legend(loc=0)\n",
    "\n",
    "axis[1].plot(epochs, loss, 'r', label='Training loss')\n",
    "axis[1].plot(epochs, val_loss, 'b', label='Validation loss')\n",
    "axis[1].set_title(\"Training and validation loss\")\n",
    "axis[1].legend(loc=0)\n",
    "\n",
    "\n",
    "plt.show()"
   ]
  },
  {
   "cell_type": "code",
   "execution_count": 10,
   "id": "7d3c84ef",
   "metadata": {
    "execution": {
     "iopub.execute_input": "2023-06-03T15:06:34.263978Z",
     "iopub.status.busy": "2023-06-03T15:06:34.263596Z",
     "iopub.status.idle": "2023-06-03T15:06:34.356735Z",
     "shell.execute_reply": "2023-06-03T15:06:34.355720Z"
    },
    "papermill": {
     "duration": 0.540465,
     "end_time": "2023-06-03T15:06:34.359258",
     "exception": false,
     "start_time": "2023-06-03T15:06:33.818793",
     "status": "completed"
    },
    "tags": []
   },
   "outputs": [],
   "source": [
    "from datetime import datetime\n",
    "# current date and time\n",
    "now = datetime.now()\n",
    "\n",
    "time_stamp = datetime.timestamp(now)\n",
    "name = f'model-Bloss-{time_stamp}'\n",
    "model.save(f'{name}.h5')"
   ]
  },
  {
   "cell_type": "code",
   "execution_count": 11,
   "id": "23b31f52",
   "metadata": {
    "execution": {
     "iopub.execute_input": "2023-06-03T15:06:35.289893Z",
     "iopub.status.busy": "2023-06-03T15:06:35.289532Z",
     "iopub.status.idle": "2023-06-03T15:06:35.294140Z",
     "shell.execute_reply": "2023-06-03T15:06:35.293176Z"
    },
    "papermill": {
     "duration": 0.502192,
     "end_time": "2023-06-03T15:06:35.296071",
     "exception": false,
     "start_time": "2023-06-03T15:06:34.793879",
     "status": "completed"
    },
    "tags": []
   },
   "outputs": [],
   "source": [
    "# save_locally = tf.saved_model.SaveOptions(experimental_io_device='/job:localhost')\n",
    "# checkpoints_cb = tf.keras.callbacks.ModelCheckpoint('./checkpoints', options=save_locally)"
   ]
  },
  {
   "cell_type": "code",
   "execution_count": 12,
   "id": "1312c128",
   "metadata": {
    "execution": {
     "iopub.execute_input": "2023-06-03T15:06:36.171164Z",
     "iopub.status.busy": "2023-06-03T15:06:36.170128Z",
     "iopub.status.idle": "2023-06-03T15:06:36.175387Z",
     "shell.execute_reply": "2023-06-03T15:06:36.174211Z"
    },
    "papermill": {
     "duration": 0.44988,
     "end_time": "2023-06-03T15:06:36.177870",
     "exception": false,
     "start_time": "2023-06-03T15:06:35.727990",
     "status": "completed"
    },
    "tags": []
   },
   "outputs": [],
   "source": [
    "# # hypermodel = tuner.hypermodel.build(best_hps)\n",
    "\n",
    "# # Retrain the model\n",
    "# historyFinal = model.fit(\n",
    "#     train_generator, \n",
    "#     epochs=best_epoch, \n",
    "#     verbose=1,\n",
    "#     validation_data = validation_generator,\n",
    "#     callbacks=[checkpoints_cb],\n",
    "# #     steps_per_epoch = 10\n",
    "# )"
   ]
  },
  {
   "cell_type": "code",
   "execution_count": 13,
   "id": "ef94e550",
   "metadata": {
    "execution": {
     "iopub.execute_input": "2023-06-03T15:06:37.062440Z",
     "iopub.status.busy": "2023-06-03T15:06:37.062076Z",
     "iopub.status.idle": "2023-06-03T15:06:37.066446Z",
     "shell.execute_reply": "2023-06-03T15:06:37.065381Z"
    },
    "papermill": {
     "duration": 0.446917,
     "end_time": "2023-06-03T15:06:37.068736",
     "exception": false,
     "start_time": "2023-06-03T15:06:36.621819",
     "status": "completed"
    },
    "tags": []
   },
   "outputs": [],
   "source": [
    "# eval_result = hypermodel.evaluate(img_test, label_test)\n",
    "# print(\"[test loss, test accuracy]:\", eval_result)"
   ]
  },
  {
   "cell_type": "code",
   "execution_count": 14,
   "id": "e202a91d",
   "metadata": {
    "execution": {
     "iopub.execute_input": "2023-06-03T15:06:38.002696Z",
     "iopub.status.busy": "2023-06-03T15:06:38.001749Z",
     "iopub.status.idle": "2023-06-03T15:06:38.006819Z",
     "shell.execute_reply": "2023-06-03T15:06:38.005924Z"
    },
    "papermill": {
     "duration": 0.496098,
     "end_time": "2023-06-03T15:06:38.008861",
     "exception": false,
     "start_time": "2023-06-03T15:06:37.512763",
     "status": "completed"
    },
    "tags": []
   },
   "outputs": [],
   "source": [
    "# import matplotlib.pyplot as plt\n",
    "\n",
    "# # Plot the results\n",
    "# acc = historyFinal.history['accuracy']\n",
    "# val_acc = historyFinal.history['val_accuracy']\n",
    "# loss = historyFinal.history['loss']\n",
    "# val_loss = historyFinal.history['val_loss']\n",
    "\n",
    "# epochs = range(len(acc))\n",
    "\n",
    "# figure, axis = plt.subplots(1, 2, figsize=(12, 4))\n",
    "\n",
    "# axis[0].plot(epochs, acc, 'r', label='Training accuracy')\n",
    "# axis[0].plot(epochs, val_acc, 'b', label='Validation accuracy')\n",
    "# axis[0].set_title(\"Training and validation accuracy\")\n",
    "# axis[0].legend(loc=0)\n",
    "\n",
    "# axis[1].plot(epochs, loss, 'r', label='Training loss')\n",
    "# axis[1].plot(epochs, val_loss, 'b', label='Validation loss')\n",
    "# axis[1].set_title(\"Training and validation loss\")\n",
    "# axis[1].legend(loc=0)\n",
    "\n",
    "\n",
    "# plt.show()"
   ]
  },
  {
   "cell_type": "code",
   "execution_count": 15,
   "id": "1724fdd6",
   "metadata": {
    "execution": {
     "iopub.execute_input": "2023-06-03T15:06:38.882160Z",
     "iopub.status.busy": "2023-06-03T15:06:38.881301Z",
     "iopub.status.idle": "2023-06-03T15:06:38.888797Z",
     "shell.execute_reply": "2023-06-03T15:06:38.887652Z"
    },
    "papermill": {
     "duration": 0.447092,
     "end_time": "2023-06-03T15:06:38.891458",
     "exception": false,
     "start_time": "2023-06-03T15:06:38.444366",
     "status": "completed"
    },
    "tags": []
   },
   "outputs": [],
   "source": [
    "# # Define the path to the directory where the checkpoints were saved\n",
    "# checkpoint_dir = './checkpoints'\n",
    "\n",
    "# # Load the best checkpoint using tf.keras.models.load_model()\n",
    "# best_model = tf.keras.models.load_model(checkpoint_dir)"
   ]
  },
  {
   "cell_type": "code",
   "execution_count": 16,
   "id": "3e21bcd8",
   "metadata": {
    "execution": {
     "iopub.execute_input": "2023-06-03T15:06:39.818693Z",
     "iopub.status.busy": "2023-06-03T15:06:39.818330Z",
     "iopub.status.idle": "2023-06-03T15:06:39.822795Z",
     "shell.execute_reply": "2023-06-03T15:06:39.821869Z"
    },
    "papermill": {
     "duration": 0.49967,
     "end_time": "2023-06-03T15:06:39.824845",
     "exception": false,
     "start_time": "2023-06-03T15:06:39.325175",
     "status": "completed"
    },
    "tags": []
   },
   "outputs": [],
   "source": [
    "# from datetime import datetime\n",
    "# # current date and time\n",
    "# now = datetime.now()\n",
    "\n",
    "# time_stamp = datetime.timestamp(now)\n",
    "# name = f'model-train-{time_stamp}'\n",
    "# best_model.save(f'{name}.h5')"
   ]
  },
  {
   "cell_type": "code",
   "execution_count": 17,
   "id": "c1a71eae",
   "metadata": {
    "execution": {
     "iopub.execute_input": "2023-06-03T15:06:40.777862Z",
     "iopub.status.busy": "2023-06-03T15:06:40.777482Z",
     "iopub.status.idle": "2023-06-03T15:06:40.782073Z",
     "shell.execute_reply": "2023-06-03T15:06:40.781047Z"
    },
    "papermill": {
     "duration": 0.522427,
     "end_time": "2023-06-03T15:06:40.784150",
     "exception": false,
     "start_time": "2023-06-03T15:06:40.261723",
     "status": "completed"
    },
    "tags": []
   },
   "outputs": [],
   "source": [
    "# import tensorflow as tf\n",
    "# best_model = tf.keras.models.load_model(\n",
    "#     '/kaggle/input/models/model-train-1685722885.101213.h5'\n",
    "# )\n",
    "# model = tf.keras.models.load_model(\n",
    "#     '/kaggle/input/models/model-Bloss-1685721375.749981.h5'\n",
    "# )"
   ]
  },
  {
   "cell_type": "code",
   "execution_count": 18,
   "id": "f0b4c1ca",
   "metadata": {
    "execution": {
     "iopub.execute_input": "2023-06-03T15:06:41.670811Z",
     "iopub.status.busy": "2023-06-03T15:06:41.670357Z",
     "iopub.status.idle": "2023-06-03T15:06:43.356136Z",
     "shell.execute_reply": "2023-06-03T15:06:43.355171Z"
    },
    "papermill": {
     "duration": 2.139266,
     "end_time": "2023-06-03T15:06:43.358723",
     "exception": false,
     "start_time": "2023-06-03T15:06:41.219457",
     "status": "completed"
    },
    "tags": []
   },
   "outputs": [
    {
     "name": "stdout",
     "output_type": "stream",
     "text": [
      "\n",
      "model Bloss\n",
      " Loss    : 0.5758\n",
      " Accuracy: 80.47%\n",
      "\n"
     ]
    }
   ],
   "source": [
    "test_loss_loss, test_acc_loss = model.evaluate(test_dataset, verbose=0)\n",
    "\n",
    "# test_loss, test_acc = best_model.evaluate(test_dataset, verbose=0)\n",
    "# print(\n",
    "#     \"model train\\n\",\n",
    "#     \"Loss    : {:.4}\\n\".format(test_loss), \n",
    "#     \"Accuracy: {:.4}%\\n\".format(test_acc*100)\n",
    "# )\n",
    "print(\n",
    "    \"\\nmodel Bloss\\n\",\n",
    "    \"Loss    : {:.4}\\n\".format(test_loss_loss), \n",
    "    \"Accuracy: {:.4}%\\n\".format(test_acc_loss*100)\n",
    ")"
   ]
  },
  {
   "cell_type": "code",
   "execution_count": 19,
   "id": "fb861b75",
   "metadata": {
    "execution": {
     "iopub.execute_input": "2023-06-03T15:06:44.367095Z",
     "iopub.status.busy": "2023-06-03T15:06:44.366559Z",
     "iopub.status.idle": "2023-06-03T15:06:44.379425Z",
     "shell.execute_reply": "2023-06-03T15:06:44.378599Z"
    },
    "papermill": {
     "duration": 0.586898,
     "end_time": "2023-06-03T15:06:44.381527",
     "exception": false,
     "start_time": "2023-06-03T15:06:43.794629",
     "status": "completed"
    },
    "tags": []
   },
   "outputs": [],
   "source": [
    "def auto_testing(TEST_DIR, best_model):\n",
    "    for dirname, _, filenames in os.walk(TEST_DIR):\n",
    "        if dirname is not TEST_DIR:\n",
    "            last_dir = os.path.basename(os.path.normpath(dirname))\n",
    "            correct = 0\n",
    "            report = None\n",
    "            for idx, filename in enumerate(filenames):\n",
    "                path = filename\n",
    "\n",
    "                img = load_img(os.path.join(\n",
    "                    os.path.join(TEST_DIR, dirname), filename), target_size=(IMAGE_SIZE, IMAGE_SIZE))\n",
    "                x = img_to_array(img)\n",
    "                x = np.expand_dims(x, axis=0)\n",
    "\n",
    "                images = np.vstack([x])\n",
    "                classes = best_model.predict(images, batch_size=128, verbose=0)\n",
    "                score = tf.nn.softmax(classes[0])\n",
    "\n",
    "                predicted_class = np.argmax(score)\n",
    "                predicted_class_name = class_names[np.argmax(score)]\n",
    "\n",
    "                if(last_dir==predicted_class_name): correct += 1\n",
    "    #             print(\"Image: \", filename)\n",
    "    #             print(\n",
    "    #                 \"This image most likely belongs to {} with a {:.2f} percent confidence.\\n\"\n",
    "    #                 .format(predicted_class_name, 100 * np.max(score))\n",
    "    #             )\n",
    "\n",
    "            print(f'untuk folder {last_dir}')\n",
    "            print(\"Jumlah data\",len(os.listdir(os.path.join(TEST_DIR, dirname))))\n",
    "            print(\"Jumlah data benar\", correct)\n",
    "            print(\n",
    "                \"Akurasi {:.2f}\\n\"\n",
    "                .format(100*(correct/len(os.listdir(os.path.join(TEST_DIR, dirname)))))\n",
    "            )"
   ]
  },
  {
   "cell_type": "code",
   "execution_count": 20,
   "id": "8abba65c",
   "metadata": {
    "execution": {
     "iopub.execute_input": "2023-06-03T15:06:45.613697Z",
     "iopub.status.busy": "2023-06-03T15:06:45.613336Z",
     "iopub.status.idle": "2023-06-03T15:07:04.297647Z",
     "shell.execute_reply": "2023-06-03T15:07:04.296535Z"
    },
    "papermill": {
     "duration": 19.29966,
     "end_time": "2023-06-03T15:07:04.299823",
     "exception": false,
     "start_time": "2023-06-03T15:06:45.000163",
     "status": "completed"
    },
    "tags": []
   },
   "outputs": [
    {
     "name": "stdout",
     "output_type": "stream",
     "text": [
      "['bakso', 'gado', 'rendang', 'sate']\n",
      "===============================\n",
      "untuk folder sate\n",
      "Jumlah data 89\n",
      "Jumlah data benar 68\n",
      "Akurasi 76.40\n",
      "\n",
      "untuk folder bakso\n",
      "Jumlah data 89\n",
      "Jumlah data benar 78\n",
      "Akurasi 87.64\n",
      "\n",
      "untuk folder gado\n",
      "Jumlah data 87\n",
      "Jumlah data benar 63\n",
      "Akurasi 72.41\n",
      "\n",
      "untuk folder rendang\n",
      "Jumlah data 78\n",
      "Jumlah data benar 63\n",
      "Akurasi 80.77\n",
      "\n"
     ]
    }
   ],
   "source": [
    "import numpy as np\n",
    "import os\n",
    "from tensorflow.keras.utils import load_img, img_to_array\n",
    "import tensorflow as tf\n",
    "import numpy as np\n",
    "from sklearn.metrics import classification_report\n",
    "from tensorflow.keras.utils import to_categorical\n",
    "\n",
    "true_labels = np.concatenate([y for _, y in test_dataset], axis=0)\n",
    "\n",
    "true_labels = to_categorical(true_labels, num_classes=4)\n",
    "\n",
    "class_names = CLASS_NAMES\n",
    "print(class_names)\n",
    " \n",
    "# predicting images\n",
    "TEST_DIR = '/kaggle/input/indonesian-food/dataset/val'\n",
    "# auto_testing(TEST_DIR, best_model)\n",
    "print('===============================')\n",
    "auto_testing(TEST_DIR, model)\n",
    "\n"
   ]
  },
  {
   "cell_type": "code",
   "execution_count": 21,
   "id": "cfe6621c",
   "metadata": {
    "execution": {
     "iopub.execute_input": "2023-06-03T15:07:05.166134Z",
     "iopub.status.busy": "2023-06-03T15:07:05.165746Z",
     "iopub.status.idle": "2023-06-03T15:07:05.174243Z",
     "shell.execute_reply": "2023-06-03T15:07:05.173360Z"
    },
    "papermill": {
     "duration": 0.443172,
     "end_time": "2023-06-03T15:07:05.176239",
     "exception": false,
     "start_time": "2023-06-03T15:07:04.733067",
     "status": "completed"
    },
    "tags": []
   },
   "outputs": [],
   "source": [
    "# Function to load and preprocess images\n",
    "def load_images(directory):\n",
    "    images = []\n",
    "    labels = []\n",
    "    for class_name in CLASS_NAMES:\n",
    "        class_dir = os.path.join(directory, class_name)\n",
    "        for filename in os.listdir(class_dir):\n",
    "            img_path = os.path.join(class_dir, filename)\n",
    "            img = load_img(img_path, target_size=(IMAGE_SIZE, IMAGE_SIZE))\n",
    "            img = img_to_array(img) / 255.0\n",
    "            images.append(img)\n",
    "            labels.append(CLASS_NAMES.index(class_name))\n",
    "    return np.array(images), np.array(labels)"
   ]
  },
  {
   "cell_type": "code",
   "execution_count": 22,
   "id": "8e9e8f7f",
   "metadata": {
    "execution": {
     "iopub.execute_input": "2023-06-03T15:07:06.108406Z",
     "iopub.status.busy": "2023-06-03T15:07:06.107842Z",
     "iopub.status.idle": "2023-06-03T15:07:07.418154Z",
     "shell.execute_reply": "2023-06-03T15:07:07.417084Z"
    },
    "papermill": {
     "duration": 1.804198,
     "end_time": "2023-06-03T15:07:07.420715",
     "exception": false,
     "start_time": "2023-06-03T15:07:05.616517",
     "status": "completed"
    },
    "tags": []
   },
   "outputs": [
    {
     "name": "stdout",
     "output_type": "stream",
     "text": [
      "Baseline Performance\n",
      "Precision  : 0.056851\n",
      "Recall     : 0.25\n",
      "F1 Score   : 0.092637\n",
      "\n",
      "               precision    recall  f1-score   support\n",
      "\n",
      "           0       0.00      0.00      0.00        89\n",
      "           1       0.00      0.00      0.00        87\n",
      "           2       0.23      1.00      0.37        78\n",
      "           3       0.00      0.00      0.00        89\n",
      "\n",
      "    accuracy                           0.23       343\n",
      "   macro avg       0.06      0.25      0.09       343\n",
      "weighted avg       0.05      0.23      0.08       343\n",
      "\n"
     ]
    }
   ],
   "source": [
    "# Make predictions\n",
    "test_dataset, test_label = load_images(TEST_DIR)\n",
    "\n",
    "baseline_pred = np.argmax(model.predict(test_dataset, verbose=0), axis=-1)\n",
    "# best_pred = np.argmax(mobile_net_model.predict(X_test, verbose=0), axis=-1)\n",
    "\n",
    "# Evaluate prediction : Precision\n",
    "baseline_pre = precision_score(test_label, baseline_pred, average='macro', zero_division=0)\n",
    "# best_pre = precision_score(y_test, best_pred, average='macro')\n",
    "\n",
    "# Evaluate prediction : Recall\n",
    "baseline_recall = recall_score(test_label, baseline_pred, average='macro', zero_division=0)\n",
    "# best_recall = recall_score(y_test, best_pred, average='macro')\n",
    "\n",
    "# Evaluate prediction : F1 Score\n",
    "baseline_f1 = f1_score(test_label, baseline_pred, average='macro', zero_division=0)\n",
    "# best_f1 = f1_score(y_test, best_pred, average='macro')\n",
    "\n",
    "print(\"{:20}\".format(\"Baseline Performance\"))\n",
    "print(\"{:10} : {:.5}\".format(\"Precision\", baseline_pre))\n",
    "print(\"{:10} : {:.5}\".format(\"Recall\", baseline_recall))\n",
    "print(\"{:10} : {:.5}\".format(\"F1 Score\", baseline_f1))\n",
    "\n",
    "print('\\n',classification_report(test_label, baseline_pred, zero_division=0))"
   ]
  }
 ],
 "metadata": {
  "kernelspec": {
   "display_name": "Python 3",
   "language": "python",
   "name": "python3"
  },
  "language_info": {
   "codemirror_mode": {
    "name": "ipython",
    "version": 3
   },
   "file_extension": ".py",
   "mimetype": "text/x-python",
   "name": "python",
   "nbconvert_exporter": "python",
   "pygments_lexer": "ipython3",
   "version": "3.10.10"
  },
  "papermill": {
   "default_parameters": {},
   "duration": 3309.025635,
   "end_time": "2023-06-03T15:07:11.399531",
   "environment_variables": {},
   "exception": null,
   "input_path": "__notebook__.ipynb",
   "output_path": "__notebook__.ipynb",
   "parameters": {},
   "start_time": "2023-06-03T14:12:02.373896",
   "version": "2.4.0"
  }
 },
 "nbformat": 4,
 "nbformat_minor": 5
}
