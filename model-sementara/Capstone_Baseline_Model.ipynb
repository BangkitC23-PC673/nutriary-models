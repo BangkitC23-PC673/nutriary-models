{
  "nbformat": 4,
  "nbformat_minor": 0,
  "metadata": {
    "colab": {
      "provenance": [],
      "gpuType": "T4"
    },
    "kernelspec": {
      "name": "python3",
      "display_name": "Python 3"
    },
    "language_info": {
      "name": "python"
    },
    "gpuClass": "standard",
    "accelerator": "GPU"
  },
  "cells": [
    {
      "cell_type": "markdown",
      "source": [
        "[![Open In Colab](https://colab.research.google.com/assets/colab-badge.svg)](https://colab.research.google.com/path-to-your-notebook.ipynb)\n"
      ],
      "metadata": {
        "id": "goyb5iYlRF7W"
      }
    },
    {
      "cell_type": "markdown",
      "source": [
        "# Download Dataset melalui Kaggle"
      ],
      "metadata": {
        "id": "zW2l2XCt2lF4"
      }
    },
    {
      "cell_type": "code",
      "source": [
        "#from google.colab import files\n",
        "#files.upload()"
      ],
      "metadata": {
        "colab": {
          "base_uri": "https://localhost:8080/",
          "height": 90
        },
        "id": "vSE5ggY2vNMk",
        "outputId": "cafc2e67-509a-4e24-9c63-280050530036"
      },
      "execution_count": null,
      "outputs": [
        {
          "output_type": "display_data",
          "data": {
            "text/plain": [
              "<IPython.core.display.HTML object>"
            ],
            "text/html": [
              "\n",
              "     <input type=\"file\" id=\"files-5799ba9a-a8b0-4be5-ba82-6b61bc43d6c7\" name=\"files[]\" multiple disabled\n",
              "        style=\"border:none\" />\n",
              "     <output id=\"result-5799ba9a-a8b0-4be5-ba82-6b61bc43d6c7\">\n",
              "      Upload widget is only available when the cell has been executed in the\n",
              "      current browser session. Please rerun this cell to enable.\n",
              "      </output>\n",
              "      <script>// Copyright 2017 Google LLC\n",
              "//\n",
              "// Licensed under the Apache License, Version 2.0 (the \"License\");\n",
              "// you may not use this file except in compliance with the License.\n",
              "// You may obtain a copy of the License at\n",
              "//\n",
              "//      http://www.apache.org/licenses/LICENSE-2.0\n",
              "//\n",
              "// Unless required by applicable law or agreed to in writing, software\n",
              "// distributed under the License is distributed on an \"AS IS\" BASIS,\n",
              "// WITHOUT WARRANTIES OR CONDITIONS OF ANY KIND, either express or implied.\n",
              "// See the License for the specific language governing permissions and\n",
              "// limitations under the License.\n",
              "\n",
              "/**\n",
              " * @fileoverview Helpers for google.colab Python module.\n",
              " */\n",
              "(function(scope) {\n",
              "function span(text, styleAttributes = {}) {\n",
              "  const element = document.createElement('span');\n",
              "  element.textContent = text;\n",
              "  for (const key of Object.keys(styleAttributes)) {\n",
              "    element.style[key] = styleAttributes[key];\n",
              "  }\n",
              "  return element;\n",
              "}\n",
              "\n",
              "// Max number of bytes which will be uploaded at a time.\n",
              "const MAX_PAYLOAD_SIZE = 100 * 1024;\n",
              "\n",
              "function _uploadFiles(inputId, outputId) {\n",
              "  const steps = uploadFilesStep(inputId, outputId);\n",
              "  const outputElement = document.getElementById(outputId);\n",
              "  // Cache steps on the outputElement to make it available for the next call\n",
              "  // to uploadFilesContinue from Python.\n",
              "  outputElement.steps = steps;\n",
              "\n",
              "  return _uploadFilesContinue(outputId);\n",
              "}\n",
              "\n",
              "// This is roughly an async generator (not supported in the browser yet),\n",
              "// where there are multiple asynchronous steps and the Python side is going\n",
              "// to poll for completion of each step.\n",
              "// This uses a Promise to block the python side on completion of each step,\n",
              "// then passes the result of the previous step as the input to the next step.\n",
              "function _uploadFilesContinue(outputId) {\n",
              "  const outputElement = document.getElementById(outputId);\n",
              "  const steps = outputElement.steps;\n",
              "\n",
              "  const next = steps.next(outputElement.lastPromiseValue);\n",
              "  return Promise.resolve(next.value.promise).then((value) => {\n",
              "    // Cache the last promise value to make it available to the next\n",
              "    // step of the generator.\n",
              "    outputElement.lastPromiseValue = value;\n",
              "    return next.value.response;\n",
              "  });\n",
              "}\n",
              "\n",
              "/**\n",
              " * Generator function which is called between each async step of the upload\n",
              " * process.\n",
              " * @param {string} inputId Element ID of the input file picker element.\n",
              " * @param {string} outputId Element ID of the output display.\n",
              " * @return {!Iterable<!Object>} Iterable of next steps.\n",
              " */\n",
              "function* uploadFilesStep(inputId, outputId) {\n",
              "  const inputElement = document.getElementById(inputId);\n",
              "  inputElement.disabled = false;\n",
              "\n",
              "  const outputElement = document.getElementById(outputId);\n",
              "  outputElement.innerHTML = '';\n",
              "\n",
              "  const pickedPromise = new Promise((resolve) => {\n",
              "    inputElement.addEventListener('change', (e) => {\n",
              "      resolve(e.target.files);\n",
              "    });\n",
              "  });\n",
              "\n",
              "  const cancel = document.createElement('button');\n",
              "  inputElement.parentElement.appendChild(cancel);\n",
              "  cancel.textContent = 'Cancel upload';\n",
              "  const cancelPromise = new Promise((resolve) => {\n",
              "    cancel.onclick = () => {\n",
              "      resolve(null);\n",
              "    };\n",
              "  });\n",
              "\n",
              "  // Wait for the user to pick the files.\n",
              "  const files = yield {\n",
              "    promise: Promise.race([pickedPromise, cancelPromise]),\n",
              "    response: {\n",
              "      action: 'starting',\n",
              "    }\n",
              "  };\n",
              "\n",
              "  cancel.remove();\n",
              "\n",
              "  // Disable the input element since further picks are not allowed.\n",
              "  inputElement.disabled = true;\n",
              "\n",
              "  if (!files) {\n",
              "    return {\n",
              "      response: {\n",
              "        action: 'complete',\n",
              "      }\n",
              "    };\n",
              "  }\n",
              "\n",
              "  for (const file of files) {\n",
              "    const li = document.createElement('li');\n",
              "    li.append(span(file.name, {fontWeight: 'bold'}));\n",
              "    li.append(span(\n",
              "        `(${file.type || 'n/a'}) - ${file.size} bytes, ` +\n",
              "        `last modified: ${\n",
              "            file.lastModifiedDate ? file.lastModifiedDate.toLocaleDateString() :\n",
              "                                    'n/a'} - `));\n",
              "    const percent = span('0% done');\n",
              "    li.appendChild(percent);\n",
              "\n",
              "    outputElement.appendChild(li);\n",
              "\n",
              "    const fileDataPromise = new Promise((resolve) => {\n",
              "      const reader = new FileReader();\n",
              "      reader.onload = (e) => {\n",
              "        resolve(e.target.result);\n",
              "      };\n",
              "      reader.readAsArrayBuffer(file);\n",
              "    });\n",
              "    // Wait for the data to be ready.\n",
              "    let fileData = yield {\n",
              "      promise: fileDataPromise,\n",
              "      response: {\n",
              "        action: 'continue',\n",
              "      }\n",
              "    };\n",
              "\n",
              "    // Use a chunked sending to avoid message size limits. See b/62115660.\n",
              "    let position = 0;\n",
              "    do {\n",
              "      const length = Math.min(fileData.byteLength - position, MAX_PAYLOAD_SIZE);\n",
              "      const chunk = new Uint8Array(fileData, position, length);\n",
              "      position += length;\n",
              "\n",
              "      const base64 = btoa(String.fromCharCode.apply(null, chunk));\n",
              "      yield {\n",
              "        response: {\n",
              "          action: 'append',\n",
              "          file: file.name,\n",
              "          data: base64,\n",
              "        },\n",
              "      };\n",
              "\n",
              "      let percentDone = fileData.byteLength === 0 ?\n",
              "          100 :\n",
              "          Math.round((position / fileData.byteLength) * 100);\n",
              "      percent.textContent = `${percentDone}% done`;\n",
              "\n",
              "    } while (position < fileData.byteLength);\n",
              "  }\n",
              "\n",
              "  // All done.\n",
              "  yield {\n",
              "    response: {\n",
              "      action: 'complete',\n",
              "    }\n",
              "  };\n",
              "}\n",
              "\n",
              "scope.google = scope.google || {};\n",
              "scope.google.colab = scope.google.colab || {};\n",
              "scope.google.colab._files = {\n",
              "  _uploadFiles,\n",
              "  _uploadFilesContinue,\n",
              "};\n",
              "})(self);\n",
              "</script> "
            ]
          },
          "metadata": {}
        },
        {
          "output_type": "stream",
          "name": "stdout",
          "text": [
            "Saving kaggle.json to kaggle.json\n"
          ]
        },
        {
          "output_type": "execute_result",
          "data": {
            "text/plain": [
              "{'kaggle.json': b'{\"username\":\"alifrachmat\",\"key\":\"9db67d18d2f65c017273b4d357dd2c1c\"}'}"
            ]
          },
          "metadata": {},
          "execution_count": 1
        }
      ]
    },
    {
      "cell_type": "code",
      "source": [
        "#!ls -lha kaggle.json"
      ],
      "metadata": {
        "colab": {
          "base_uri": "https://localhost:8080/"
        },
        "id": "7dWDV9u-yOKJ",
        "outputId": "11ec99e4-e429-46ab-9f46-48988eeed933"
      },
      "execution_count": null,
      "outputs": [
        {
          "output_type": "stream",
          "name": "stdout",
          "text": [
            "-rw-r--r-- 1 root root 67 May 19 03:47 kaggle.json\n"
          ]
        }
      ]
    },
    {
      "cell_type": "code",
      "source": [
        "#!pip install -q kaggle "
      ],
      "metadata": {
        "id": "1bQk04gtyTDL"
      },
      "execution_count": null,
      "outputs": []
    },
    {
      "cell_type": "code",
      "source": [
        "#!mkdir -p ~/.kaggle\n",
        "\n",
        "#!cp kaggle.json ~/.kaggle/"
      ],
      "metadata": {
        "id": "Qkxmwk21ycHT"
      },
      "execution_count": null,
      "outputs": []
    },
    {
      "cell_type": "code",
      "source": [
        "#!chmod 600 /root/.kaggle/kaggle.json"
      ],
      "metadata": {
        "id": "ZDQfw076yTz_"
      },
      "execution_count": null,
      "outputs": []
    },
    {
      "cell_type": "code",
      "source": [
        "#!kaggle datasets download -d theresalusiana/indonesian-food --force"
      ],
      "metadata": {
        "colab": {
          "base_uri": "https://localhost:8080/"
        },
        "id": "edOL1Lk2yW3B",
        "outputId": "8390672c-fcb6-4a37-ee79-9226671bd617"
      },
      "execution_count": null,
      "outputs": [
        {
          "output_type": "stream",
          "name": "stdout",
          "text": [
            "Downloading indonesian-food.zip to /content\n",
            " 98% 663M/673M [00:07<00:00, 126MB/s]\n",
            "100% 673M/673M [00:07<00:00, 91.9MB/s]\n"
          ]
        }
      ]
    },
    {
      "cell_type": "markdown",
      "source": [
        "# Extract file Dataset yang sudah di-download"
      ],
      "metadata": {
        "id": "CgXqwCjE2ptl"
      }
    },
    {
      "cell_type": "code",
      "source": [
        "#import zipfile\n",
        "\n",
        "#local_zip = \"./indonesian-food.zip\"\n",
        "#zip_ref = zipfile.ZipFile(local_zip,'r')#\n",
        "#zip_ref.extractall()\n",
        "#zip_ref.close()\n"
      ],
      "metadata": {
        "id": "dKwnNvC-yoal"
      },
      "execution_count": null,
      "outputs": []
    },
    {
      "cell_type": "code",
      "source": [
        "from google.colab import drive\n",
        "import shutil"
      ],
      "metadata": {
        "id": "QZLzHCD6IbF5"
      },
      "execution_count": null,
      "outputs": []
    },
    {
      "cell_type": "code",
      "source": [
        "drive.mount(\"/content/drive\")"
      ],
      "metadata": {
        "colab": {
          "base_uri": "https://localhost:8080/"
        },
        "id": "DSHfDNUcIne1",
        "outputId": "c9d981ff-7803-4503-e71f-9042f4137bd4"
      },
      "execution_count": null,
      "outputs": [
        {
          "output_type": "stream",
          "name": "stdout",
          "text": [
            "Mounted at /content/drive\n"
          ]
        }
      ]
    },
    {
      "cell_type": "code",
      "source": [
        "#import os\n",
        "\n",
        "#src = os.path.join(\"./dataset\")\n",
        "#dst = os.path.join(\"/content/drive/MyDrive/Dataset/\")\n",
        "\n",
        "#shutil.copytree(src,dst)"
      ],
      "metadata": {
        "id": "C3jBZPN4JHCn"
      },
      "execution_count": null,
      "outputs": []
    },
    {
      "cell_type": "code",
      "source": [
        "import os\n",
        "\n",
        "dataset_dir = \"/content/drive/MyDrive/Dataset\"\n",
        "train_dir = os.path.join(dataset_dir,'train')\n",
        "validation_dir = os.path.join(dataset_dir,'valid')\n",
        "test_dir = os.path.join(dataset_dir,'test')"
      ],
      "metadata": {
        "id": "5TUOZ2jgy7k4"
      },
      "execution_count": null,
      "outputs": []
    },
    {
      "cell_type": "code",
      "source": [
        "print(os.listdir(train_dir))\n",
        "print(os.listdir(validation_dir))\n",
        "print(os.listdir(test_dir))"
      ],
      "metadata": {
        "colab": {
          "base_uri": "https://localhost:8080/"
        },
        "id": "GdGpHBCe4x9G",
        "outputId": "476fc5b8-b627-4656-a9cf-ae512c49b476"
      },
      "execution_count": null,
      "outputs": [
        {
          "output_type": "stream",
          "name": "stdout",
          "text": [
            "['bakso', 'gado', 'gudeg', 'rendang', 'sate']\n",
            "['bakso', 'gudeg', 'sate', 'rendang', 'gado']\n",
            "['gado', 'gudeg', 'sate', 'bakso', 'rendang']\n"
          ]
        }
      ]
    },
    {
      "cell_type": "code",
      "source": [
        "train_bakso_dir = os.path.join(train_dir, \"bakso\")\n",
        "train_gado_dir = os.path.join(train_dir, \"gado\")\n",
        "train_sate_dir = os.path.join(train_dir, \"sate\")\n",
        "train_gudeg_dir = os.path.join(train_dir, \"gudeg\")\n",
        "train_rendang_dir = os.path.join(train_dir, \"rendang\")"
      ],
      "metadata": {
        "id": "Xqkqi2yd4rRd"
      },
      "execution_count": null,
      "outputs": []
    },
    {
      "cell_type": "markdown",
      "source": [
        "# Mengecek Jumlah Gambar untuk Training, Validation dan Test"
      ],
      "metadata": {
        "id": "WW1FvH0c2CRU"
      }
    },
    {
      "cell_type": "code",
      "source": [
        "for dirs in os.listdir(train_dir):\n",
        "  dir = os.path.join(train_dir, dirs)\n",
        "  print(\"Jumlah Gambar {0} pada training set adalah {1}\".format(dirs, len(os.listdir(dir))))"
      ],
      "metadata": {
        "colab": {
          "base_uri": "https://localhost:8080/"
        },
        "id": "GpR_swH-z4Ie",
        "outputId": "f9cfd4ed-977c-479c-dc9a-359828337c54"
      },
      "execution_count": null,
      "outputs": [
        {
          "output_type": "stream",
          "name": "stdout",
          "text": [
            "Jumlah Gambar bakso pada training set adalah 1726\n",
            "Jumlah Gambar gado pada training set adalah 1720\n",
            "Jumlah Gambar gudeg pada training set adalah 375\n",
            "Jumlah Gambar rendang pada training set adalah 1731\n",
            "Jumlah Gambar sate pada training set adalah 1708\n"
          ]
        }
      ]
    },
    {
      "cell_type": "code",
      "source": [
        "for dirs in os.listdir(validation_dir):\n",
        "  dir = os.path.join(validation_dir, dirs)\n",
        "  print(\"Jumlah Gambar {0} pada Validation set adalah {1}\".format(dirs, len(os.listdir(dir))))"
      ],
      "metadata": {
        "colab": {
          "base_uri": "https://localhost:8080/"
        },
        "id": "FofADwzB1dU4",
        "outputId": "d5c62148-6abf-4654-8802-a10a72b4bfcc"
      },
      "execution_count": null,
      "outputs": [
        {
          "output_type": "stream",
          "name": "stdout",
          "text": [
            "Jumlah Gambar bakso pada Validation set adalah 214\n",
            "Jumlah Gambar gudeg pada Validation set adalah 47\n",
            "Jumlah Gambar sate pada Validation set adalah 214\n",
            "Jumlah Gambar rendang pada Validation set adalah 218\n",
            "Jumlah Gambar gado pada Validation set adalah 209\n"
          ]
        }
      ]
    },
    {
      "cell_type": "code",
      "source": [
        "for dirs in os.listdir(test_dir):\n",
        "  dir = os.path.join(test_dir, dirs)\n",
        "  print(\"Jumlah Gambar {0} untuk pada test set adalah adalah {1}\".format(dirs, len(os.listdir(dir))))"
      ],
      "metadata": {
        "colab": {
          "base_uri": "https://localhost:8080/"
        },
        "id": "vtC0okB42TM0",
        "outputId": "350f9c6a-f8c0-40b0-f961-7aecaf1e2434"
      },
      "execution_count": null,
      "outputs": [
        {
          "output_type": "stream",
          "name": "stdout",
          "text": [
            "Jumlah Gambar gado untuk pada test set adalah adalah 216\n",
            "Jumlah Gambar gudeg untuk pada test set adalah adalah 47\n",
            "Jumlah Gambar sate untuk pada test set adalah adalah 214\n",
            "Jumlah Gambar bakso untuk pada test set adalah adalah 214\n",
            "Jumlah Gambar rendang untuk pada test set adalah adalah 222\n"
          ]
        }
      ]
    },
    {
      "cell_type": "markdown",
      "source": [
        "# Mengecek ukuran gambar pada Dataset"
      ],
      "metadata": {
        "id": "JcK3lQ844mQe"
      }
    },
    {
      "cell_type": "code",
      "source": [
        "import tensorflow as tf\n",
        "import matplotlib.pyplot as plt\n",
        "from tensorflow.keras.utils import img_to_array, load_img\n",
        "from tensorflow.keras.preprocessing.image import ImageDataGenerator"
      ],
      "metadata": {
        "id": "7eb9KIEd3Ln0"
      },
      "execution_count": null,
      "outputs": []
    },
    {
      "cell_type": "code",
      "source": [
        "# Load the first example of a horse\n",
        "sample_image  = load_img(f\"{os.path.join(train_bakso_dir, os.listdir(train_bakso_dir)[0])}\")\n",
        "\n",
        "# Convert the image into its numpy array representation\n",
        "sample_array = img_to_array(sample_image)\n",
        "IMAGE_SIZE = sample_array.shape[0]\n",
        "print(IMAGE_SIZE)\n",
        "print(f\"Each image has shape: {sample_array.shape}\")"
      ],
      "metadata": {
        "colab": {
          "base_uri": "https://localhost:8080/"
        },
        "id": "gUWhZUhr4k1v",
        "outputId": "f0339776-6446-4f79-c467-7cf1b325585b"
      },
      "execution_count": null,
      "outputs": [
        {
          "output_type": "stream",
          "name": "stdout",
          "text": [
            "299\n",
            "Each image has shape: (299, 299, 3)\n"
          ]
        }
      ]
    },
    {
      "cell_type": "markdown",
      "source": [
        "# Buat Generator untuk Training, Validation dan Test"
      ],
      "metadata": {
        "id": "-Oqkq22w7jTV"
      }
    },
    {
      "cell_type": "code",
      "source": [
        "# GRADED FUNCTION: train_val_generators\n",
        "def train_val_test_generators(TRAINING_DIR, VALIDATION_DIR,TEST_DIR):\n",
        "  \"\"\"\n",
        "  Creates the training and validation data generators\n",
        "  \n",
        "  Args:\n",
        "    TRAINING_DIR (string): directory path containing the training images\n",
        "    VALIDATION_DIR (string): directory path containing the testing/validation images\n",
        "    \n",
        "  Returns:\n",
        "    train_generator, validation_generator: tuple containing the generators\n",
        "  \"\"\"\n",
        "\n",
        "  train_datagen = ImageDataGenerator(rescale=1./255\n",
        "                                     #rotation_range=40,\n",
        "                                     #width_shift_range=0.2,\n",
        "                                     #height_shift_range=0.2,\n",
        "                                     #shear_range=0.2,\n",
        "                                     #zoom_range=0.2,\n",
        "                                     #horizontal_flip=True,\n",
        "                                     #fill_mode='nearest'\n",
        "                                     )\n",
        "\n",
        "\n",
        "  train_generator = train_datagen.flow_from_directory(directory=TRAINING_DIR,\n",
        "                                                      batch_size=32, \n",
        "                                                      class_mode='categorical',\n",
        "                                                      target_size=(IMAGE_SIZE,IMAGE_SIZE))\n",
        "\n",
        "\n",
        "  validation_datagen = ImageDataGenerator(rescale=1./255)\n",
        "\n",
        "  # Pass in the appropriate arguments to the flow_from_directory method\n",
        "  validation_generator = validation_datagen.flow_from_directory(directory=VALIDATION_DIR,\n",
        "                                                                batch_size=32, \n",
        "                                                                class_mode='categorical',\n",
        "                                                                target_size=(IMAGE_SIZE, IMAGE_SIZE))\n",
        "  \n",
        "  test_generator = validation_datagen.flow_from_directory(directory=TEST_DIR,\n",
        "                                                                batch_size=32, \n",
        "                                                                class_mode='categorical',\n",
        "                                                                target_size=(IMAGE_SIZE, IMAGE_SIZE))\n",
        "  ### END CODE HERE\n",
        "  return train_generator, validation_generator, test_generator"
      ],
      "metadata": {
        "id": "CzMEf6VP4SVF"
      },
      "execution_count": null,
      "outputs": []
    },
    {
      "cell_type": "code",
      "source": [
        "train_generator, validation_generator, test_generator = train_val_test_generators(train_dir, validation_dir, test_dir)"
      ],
      "metadata": {
        "colab": {
          "base_uri": "https://localhost:8080/"
        },
        "id": "sptWMFeQ6Vda",
        "outputId": "a146f4bd-ad34-4c10-98ff-006bab398162"
      },
      "execution_count": null,
      "outputs": [
        {
          "output_type": "stream",
          "name": "stdout",
          "text": [
            "Found 7260 images belonging to 5 classes.\n",
            "Found 902 images belonging to 5 classes.\n",
            "Found 913 images belonging to 5 classes.\n"
          ]
        }
      ]
    },
    {
      "cell_type": "markdown",
      "source": [
        "# Buat Model Pre-Trained MobileNet"
      ],
      "metadata": {
        "id": "V3KI7RDXYHvV"
      }
    },
    {
      "cell_type": "code",
      "source": [
        "def pre_trained_model():\n",
        "  pre_trained_model = tf.keras.applications.MobileNet(weights='imagenet', include_top=False, input_shape=(299,299,3))\n",
        "  \n",
        "  for layer in pre_trained_model.layers:\n",
        "    layer.trainable = False\n",
        "\n",
        "  return pre_trained_model"
      ],
      "metadata": {
        "id": "Qo7NhhF-6uxA"
      },
      "execution_count": null,
      "outputs": []
    },
    {
      "cell_type": "code",
      "source": [
        "pre_trained_model = pre_trained_model()\n",
        "pre_trained_model.summary()"
      ],
      "metadata": {
        "colab": {
          "base_uri": "https://localhost:8080/"
        },
        "id": "SZVcHa1FBreS",
        "outputId": "49ff0a77-d5f0-4359-a0fd-040d364bee72"
      },
      "execution_count": null,
      "outputs": [
        {
          "output_type": "stream",
          "name": "stderr",
          "text": [
            "WARNING:tensorflow:`input_shape` is undefined or non-square, or `rows` is not in [128, 160, 192, 224]. Weights for input shape (224, 224) will be loaded as the default.\n"
          ]
        },
        {
          "output_type": "stream",
          "name": "stdout",
          "text": [
            "Model: \"mobilenet_1.00_224\"\n",
            "_________________________________________________________________\n",
            " Layer (type)                Output Shape              Param #   \n",
            "=================================================================\n",
            " input_3 (InputLayer)        [(None, 299, 299, 3)]     0         \n",
            "                                                                 \n",
            " conv1 (Conv2D)              (None, 150, 150, 32)      864       \n",
            "                                                                 \n",
            " conv1_bn (BatchNormalizatio  (None, 150, 150, 32)     128       \n",
            " n)                                                              \n",
            "                                                                 \n",
            " conv1_relu (ReLU)           (None, 150, 150, 32)      0         \n",
            "                                                                 \n",
            " conv_dw_1 (DepthwiseConv2D)  (None, 150, 150, 32)     288       \n",
            "                                                                 \n",
            " conv_dw_1_bn (BatchNormaliz  (None, 150, 150, 32)     128       \n",
            " ation)                                                          \n",
            "                                                                 \n",
            " conv_dw_1_relu (ReLU)       (None, 150, 150, 32)      0         \n",
            "                                                                 \n",
            " conv_pw_1 (Conv2D)          (None, 150, 150, 64)      2048      \n",
            "                                                                 \n",
            " conv_pw_1_bn (BatchNormaliz  (None, 150, 150, 64)     256       \n",
            " ation)                                                          \n",
            "                                                                 \n",
            " conv_pw_1_relu (ReLU)       (None, 150, 150, 64)      0         \n",
            "                                                                 \n",
            " conv_pad_2 (ZeroPadding2D)  (None, 151, 151, 64)      0         \n",
            "                                                                 \n",
            " conv_dw_2 (DepthwiseConv2D)  (None, 75, 75, 64)       576       \n",
            "                                                                 \n",
            " conv_dw_2_bn (BatchNormaliz  (None, 75, 75, 64)       256       \n",
            " ation)                                                          \n",
            "                                                                 \n",
            " conv_dw_2_relu (ReLU)       (None, 75, 75, 64)        0         \n",
            "                                                                 \n",
            " conv_pw_2 (Conv2D)          (None, 75, 75, 128)       8192      \n",
            "                                                                 \n",
            " conv_pw_2_bn (BatchNormaliz  (None, 75, 75, 128)      512       \n",
            " ation)                                                          \n",
            "                                                                 \n",
            " conv_pw_2_relu (ReLU)       (None, 75, 75, 128)       0         \n",
            "                                                                 \n",
            " conv_dw_3 (DepthwiseConv2D)  (None, 75, 75, 128)      1152      \n",
            "                                                                 \n",
            " conv_dw_3_bn (BatchNormaliz  (None, 75, 75, 128)      512       \n",
            " ation)                                                          \n",
            "                                                                 \n",
            " conv_dw_3_relu (ReLU)       (None, 75, 75, 128)       0         \n",
            "                                                                 \n",
            " conv_pw_3 (Conv2D)          (None, 75, 75, 128)       16384     \n",
            "                                                                 \n",
            " conv_pw_3_bn (BatchNormaliz  (None, 75, 75, 128)      512       \n",
            " ation)                                                          \n",
            "                                                                 \n",
            " conv_pw_3_relu (ReLU)       (None, 75, 75, 128)       0         \n",
            "                                                                 \n",
            " conv_pad_4 (ZeroPadding2D)  (None, 76, 76, 128)       0         \n",
            "                                                                 \n",
            " conv_dw_4 (DepthwiseConv2D)  (None, 37, 37, 128)      1152      \n",
            "                                                                 \n",
            " conv_dw_4_bn (BatchNormaliz  (None, 37, 37, 128)      512       \n",
            " ation)                                                          \n",
            "                                                                 \n",
            " conv_dw_4_relu (ReLU)       (None, 37, 37, 128)       0         \n",
            "                                                                 \n",
            " conv_pw_4 (Conv2D)          (None, 37, 37, 256)       32768     \n",
            "                                                                 \n",
            " conv_pw_4_bn (BatchNormaliz  (None, 37, 37, 256)      1024      \n",
            " ation)                                                          \n",
            "                                                                 \n",
            " conv_pw_4_relu (ReLU)       (None, 37, 37, 256)       0         \n",
            "                                                                 \n",
            " conv_dw_5 (DepthwiseConv2D)  (None, 37, 37, 256)      2304      \n",
            "                                                                 \n",
            " conv_dw_5_bn (BatchNormaliz  (None, 37, 37, 256)      1024      \n",
            " ation)                                                          \n",
            "                                                                 \n",
            " conv_dw_5_relu (ReLU)       (None, 37, 37, 256)       0         \n",
            "                                                                 \n",
            " conv_pw_5 (Conv2D)          (None, 37, 37, 256)       65536     \n",
            "                                                                 \n",
            " conv_pw_5_bn (BatchNormaliz  (None, 37, 37, 256)      1024      \n",
            " ation)                                                          \n",
            "                                                                 \n",
            " conv_pw_5_relu (ReLU)       (None, 37, 37, 256)       0         \n",
            "                                                                 \n",
            " conv_pad_6 (ZeroPadding2D)  (None, 38, 38, 256)       0         \n",
            "                                                                 \n",
            " conv_dw_6 (DepthwiseConv2D)  (None, 18, 18, 256)      2304      \n",
            "                                                                 \n",
            " conv_dw_6_bn (BatchNormaliz  (None, 18, 18, 256)      1024      \n",
            " ation)                                                          \n",
            "                                                                 \n",
            " conv_dw_6_relu (ReLU)       (None, 18, 18, 256)       0         \n",
            "                                                                 \n",
            " conv_pw_6 (Conv2D)          (None, 18, 18, 512)       131072    \n",
            "                                                                 \n",
            " conv_pw_6_bn (BatchNormaliz  (None, 18, 18, 512)      2048      \n",
            " ation)                                                          \n",
            "                                                                 \n",
            " conv_pw_6_relu (ReLU)       (None, 18, 18, 512)       0         \n",
            "                                                                 \n",
            " conv_dw_7 (DepthwiseConv2D)  (None, 18, 18, 512)      4608      \n",
            "                                                                 \n",
            " conv_dw_7_bn (BatchNormaliz  (None, 18, 18, 512)      2048      \n",
            " ation)                                                          \n",
            "                                                                 \n",
            " conv_dw_7_relu (ReLU)       (None, 18, 18, 512)       0         \n",
            "                                                                 \n",
            " conv_pw_7 (Conv2D)          (None, 18, 18, 512)       262144    \n",
            "                                                                 \n",
            " conv_pw_7_bn (BatchNormaliz  (None, 18, 18, 512)      2048      \n",
            " ation)                                                          \n",
            "                                                                 \n",
            " conv_pw_7_relu (ReLU)       (None, 18, 18, 512)       0         \n",
            "                                                                 \n",
            " conv_dw_8 (DepthwiseConv2D)  (None, 18, 18, 512)      4608      \n",
            "                                                                 \n",
            " conv_dw_8_bn (BatchNormaliz  (None, 18, 18, 512)      2048      \n",
            " ation)                                                          \n",
            "                                                                 \n",
            " conv_dw_8_relu (ReLU)       (None, 18, 18, 512)       0         \n",
            "                                                                 \n",
            " conv_pw_8 (Conv2D)          (None, 18, 18, 512)       262144    \n",
            "                                                                 \n",
            " conv_pw_8_bn (BatchNormaliz  (None, 18, 18, 512)      2048      \n",
            " ation)                                                          \n",
            "                                                                 \n",
            " conv_pw_8_relu (ReLU)       (None, 18, 18, 512)       0         \n",
            "                                                                 \n",
            " conv_dw_9 (DepthwiseConv2D)  (None, 18, 18, 512)      4608      \n",
            "                                                                 \n",
            " conv_dw_9_bn (BatchNormaliz  (None, 18, 18, 512)      2048      \n",
            " ation)                                                          \n",
            "                                                                 \n",
            " conv_dw_9_relu (ReLU)       (None, 18, 18, 512)       0         \n",
            "                                                                 \n",
            " conv_pw_9 (Conv2D)          (None, 18, 18, 512)       262144    \n",
            "                                                                 \n",
            " conv_pw_9_bn (BatchNormaliz  (None, 18, 18, 512)      2048      \n",
            " ation)                                                          \n",
            "                                                                 \n",
            " conv_pw_9_relu (ReLU)       (None, 18, 18, 512)       0         \n",
            "                                                                 \n",
            " conv_dw_10 (DepthwiseConv2D  (None, 18, 18, 512)      4608      \n",
            " )                                                               \n",
            "                                                                 \n",
            " conv_dw_10_bn (BatchNormali  (None, 18, 18, 512)      2048      \n",
            " zation)                                                         \n",
            "                                                                 \n",
            " conv_dw_10_relu (ReLU)      (None, 18, 18, 512)       0         \n",
            "                                                                 \n",
            " conv_pw_10 (Conv2D)         (None, 18, 18, 512)       262144    \n",
            "                                                                 \n",
            " conv_pw_10_bn (BatchNormali  (None, 18, 18, 512)      2048      \n",
            " zation)                                                         \n",
            "                                                                 \n",
            " conv_pw_10_relu (ReLU)      (None, 18, 18, 512)       0         \n",
            "                                                                 \n",
            " conv_dw_11 (DepthwiseConv2D  (None, 18, 18, 512)      4608      \n",
            " )                                                               \n",
            "                                                                 \n",
            " conv_dw_11_bn (BatchNormali  (None, 18, 18, 512)      2048      \n",
            " zation)                                                         \n",
            "                                                                 \n",
            " conv_dw_11_relu (ReLU)      (None, 18, 18, 512)       0         \n",
            "                                                                 \n",
            " conv_pw_11 (Conv2D)         (None, 18, 18, 512)       262144    \n",
            "                                                                 \n",
            " conv_pw_11_bn (BatchNormali  (None, 18, 18, 512)      2048      \n",
            " zation)                                                         \n",
            "                                                                 \n",
            " conv_pw_11_relu (ReLU)      (None, 18, 18, 512)       0         \n",
            "                                                                 \n",
            " conv_pad_12 (ZeroPadding2D)  (None, 19, 19, 512)      0         \n",
            "                                                                 \n",
            " conv_dw_12 (DepthwiseConv2D  (None, 9, 9, 512)        4608      \n",
            " )                                                               \n",
            "                                                                 \n",
            " conv_dw_12_bn (BatchNormali  (None, 9, 9, 512)        2048      \n",
            " zation)                                                         \n",
            "                                                                 \n",
            " conv_dw_12_relu (ReLU)      (None, 9, 9, 512)         0         \n",
            "                                                                 \n",
            " conv_pw_12 (Conv2D)         (None, 9, 9, 1024)        524288    \n",
            "                                                                 \n",
            " conv_pw_12_bn (BatchNormali  (None, 9, 9, 1024)       4096      \n",
            " zation)                                                         \n",
            "                                                                 \n",
            " conv_pw_12_relu (ReLU)      (None, 9, 9, 1024)        0         \n",
            "                                                                 \n",
            " conv_dw_13 (DepthwiseConv2D  (None, 9, 9, 1024)       9216      \n",
            " )                                                               \n",
            "                                                                 \n",
            " conv_dw_13_bn (BatchNormali  (None, 9, 9, 1024)       4096      \n",
            " zation)                                                         \n",
            "                                                                 \n",
            " conv_dw_13_relu (ReLU)      (None, 9, 9, 1024)        0         \n",
            "                                                                 \n",
            " conv_pw_13 (Conv2D)         (None, 9, 9, 1024)        1048576   \n",
            "                                                                 \n",
            " conv_pw_13_bn (BatchNormali  (None, 9, 9, 1024)       4096      \n",
            " zation)                                                         \n",
            "                                                                 \n",
            " conv_pw_13_relu (ReLU)      (None, 9, 9, 1024)        0         \n",
            "                                                                 \n",
            "=================================================================\n",
            "Total params: 3,228,864\n",
            "Trainable params: 0\n",
            "Non-trainable params: 3,228,864\n",
            "_________________________________________________________________\n"
          ]
        }
      ]
    },
    {
      "cell_type": "code",
      "source": [
        "last_layer = pre_trained_model.output"
      ],
      "metadata": {
        "id": "u9WeYz_KBxaJ"
      },
      "execution_count": null,
      "outputs": []
    },
    {
      "cell_type": "code",
      "source": [
        "class myCallback(tf.keras.callbacks.Callback):\n",
        "  def __init__(self):\n",
        "        self.threshold = 0.99\n",
        "  def on_epoch_end(self, epoch, logs=None):\n",
        "        if logs.get('accuracy') >= self.threshold:\n",
        "            print(f\"\\nTraining stopped. Reached accuracy threshold\")\n",
        "            self.model.stop_training = True\n",
        "\n",
        "callback = myCallback()\n",
        "print(type(callback))"
      ],
      "metadata": {
        "colab": {
          "base_uri": "https://localhost:8080/"
        },
        "id": "9AxqQ2BGn54c",
        "outputId": "fe13f62b-9f52-4657-89a0-3522b04404ff"
      },
      "execution_count": null,
      "outputs": [
        {
          "output_type": "stream",
          "name": "stdout",
          "text": [
            "<class '__main__.myCallback'>\n"
          ]
        }
      ]
    },
    {
      "cell_type": "code",
      "source": [
        "def build_final_model(pre_trained_model, last_layer):\n",
        "  x = tf.keras.layers.Flatten()(last_layer)\n",
        "  x = tf.keras.layers.Dense(512,activation='relu')(x)\n",
        "  x = tf.keras.layers.Dropout(0.2)(x)\n",
        "  x = tf.keras.layers.Dense(5, activation='softmax')(x)\n",
        "\n",
        "  model = tf.keras.models.Model(inputs=pre_trained_model.input,outputs=x)\n",
        "\n",
        "  model.compile(optimizer = 'Adam',\n",
        "                loss='categorical_crossentropy',\n",
        "                metrics=['accuracy']\n",
        "                #callbacks=[callback()])\n",
        "                )\n",
        "  \n",
        "  return model"
      ],
      "metadata": {
        "id": "0h1fpBPcCgxX"
      },
      "execution_count": null,
      "outputs": []
    },
    {
      "cell_type": "code",
      "source": [
        "model = build_final_model(pre_trained_model, last_layer)"
      ],
      "metadata": {
        "id": "6lUzfrRODcy7"
      },
      "execution_count": null,
      "outputs": []
    },
    {
      "cell_type": "code",
      "source": [
        "def train_model(model,epochs,train_data,validation_data, verbose=1):\n",
        "  model = model\n",
        "  history = model.fit(train_data,\n",
        "                    validation_data=validation_data,\n",
        "                    steps_per_epoch=7260/32,\n",
        "                    validation_steps=902/32,\n",
        "                    epochs = epochs,\n",
        "                    verbose = verbose,\n",
        "                    callbacks=callback)\n",
        "  return history"
      ],
      "metadata": {
        "id": "Mu61idOnDi4n"
      },
      "execution_count": null,
      "outputs": []
    },
    {
      "cell_type": "code",
      "source": [
        "history = train_model(model,20,train_generator,validation_generator)"
      ],
      "metadata": {
        "id": "LegBJOtrMaI4",
        "colab": {
          "base_uri": "https://localhost:8080/"
        },
        "outputId": "e33fbbf9-7899-4140-f745-388d89eeee83"
      },
      "execution_count": null,
      "outputs": [
        {
          "output_type": "stream",
          "name": "stdout",
          "text": [
            "Epoch 1/20\n",
            "226/226 [==============================] - 3016s 13s/step - loss: 0.1972 - accuracy: 0.9409 - val_loss: 0.4059 - val_accuracy: 0.9069\n",
            "Epoch 2/20\n",
            "226/226 [==============================] - 58s 253ms/step - loss: 0.0823 - accuracy: 0.9740 - val_loss: 0.2340 - val_accuracy: 0.9390\n",
            "Epoch 3/20\n",
            "226/226 [==============================] - 60s 264ms/step - loss: 0.0500 - accuracy: 0.9853 - val_loss: 0.3517 - val_accuracy: 0.9435\n",
            "Epoch 4/20\n",
            "226/226 [==============================] - 60s 264ms/step - loss: 0.0477 - accuracy: 0.9850 - val_loss: 0.3427 - val_accuracy: 0.9435\n",
            "Epoch 5/20\n",
            "226/226 [==============================] - 57s 252ms/step - loss: 0.0839 - accuracy: 0.9792 - val_loss: 0.5398 - val_accuracy: 0.9069\n",
            "Epoch 6/20\n",
            "226/226 [==============================] - 57s 250ms/step - loss: 0.0482 - accuracy: 0.9868 - val_loss: 0.4057 - val_accuracy: 0.9424\n",
            "Epoch 7/20\n",
            "226/226 [==============================] - 56s 249ms/step - loss: 0.0494 - accuracy: 0.9853 - val_loss: 0.2957 - val_accuracy: 0.9435\n",
            "Epoch 8/20\n",
            "226/226 [==============================] - 57s 251ms/step - loss: 0.0595 - accuracy: 0.9818 - val_loss: 0.2526 - val_accuracy: 0.9457\n",
            "Epoch 9/20\n",
            "227/226 [==============================] - ETA: 0s - loss: 0.0360 - accuracy: 0.9909\n",
            "Training stopped. Reached accuracy threshold\n",
            "226/226 [==============================] - 57s 253ms/step - loss: 0.0360 - accuracy: 0.9909 - val_loss: 0.3538 - val_accuracy: 0.9279\n"
          ]
        }
      ]
    },
    {
      "cell_type": "code",
      "source": [
        "history = model.fit(train_generator,\n",
        "                    validation_data=validation_generator,\n",
        "                    epochs = 20,\n",
        "                    verbose = 1)"
      ],
      "metadata": {
        "colab": {
          "base_uri": "https://localhost:8080/",
          "height": 224
        },
        "id": "CLTn6WmQO0qU",
        "outputId": "cb2d8412-e587-4d5d-ebb8-8c1f2aa855c4"
      },
      "execution_count": null,
      "outputs": [
        {
          "output_type": "error",
          "ename": "NameError",
          "evalue": "ignored",
          "traceback": [
            "\u001b[0;31m---------------------------------------------------------------------------\u001b[0m",
            "\u001b[0;31mNameError\u001b[0m                                 Traceback (most recent call last)",
            "\u001b[0;32m<ipython-input-1-5f3fc2f27f5a>\u001b[0m in \u001b[0;36m<cell line: 1>\u001b[0;34m()\u001b[0m\n\u001b[0;32m----> 1\u001b[0;31m history = model.fit(train_generator,\n\u001b[0m\u001b[1;32m      2\u001b[0m                     \u001b[0mvalidation_data\u001b[0m\u001b[0;34m=\u001b[0m\u001b[0mvalidation_generator\u001b[0m\u001b[0;34m,\u001b[0m\u001b[0;34m\u001b[0m\u001b[0;34m\u001b[0m\u001b[0m\n\u001b[1;32m      3\u001b[0m                     \u001b[0mepochs\u001b[0m \u001b[0;34m=\u001b[0m \u001b[0;36m20\u001b[0m\u001b[0;34m,\u001b[0m\u001b[0;34m\u001b[0m\u001b[0;34m\u001b[0m\u001b[0m\n\u001b[1;32m      4\u001b[0m                     verbose = 1)\n",
            "\u001b[0;31mNameError\u001b[0m: name 'model' is not defined"
          ]
        }
      ]
    },
    {
      "cell_type": "code",
      "source": [
        "history = history.history\n",
        "\n",
        "print(history.keys())"
      ],
      "metadata": {
        "colab": {
          "base_uri": "https://localhost:8080/"
        },
        "id": "UXdXsobuFLd-",
        "outputId": "b1f97b4f-1c33-4736-fc69-04cac9a0df6d"
      },
      "execution_count": null,
      "outputs": [
        {
          "output_type": "stream",
          "name": "stdout",
          "text": [
            "dict_keys(['loss', 'accuracy', 'val_loss', 'val_accuracy'])\n"
          ]
        }
      ]
    },
    {
      "cell_type": "code",
      "source": [
        "loss = history.history['loss']\n",
        "val_loss = history.history['val_loss']\n",
        "\n",
        "acc = history.history['accuracy']\n",
        "val_acc = history.history['val_accuracy']\n",
        "\n",
        "epochs = range(len(loss))\n",
        "plt.plot(epochs,loss,'b',label=\"Training Loss\")\n",
        "plt.plot(epochs,val_loss,'r',label=\"Validation Loss\")\n",
        "plt.xlabel(\"epoch\")\n",
        "plt.ylabel(\"Loss\")\n",
        "plt.legend()\n",
        "plt.title(\"Training vs Val Loss\")\n",
        "plt.show()\n",
        "\n",
        "plt.clf()\n",
        "plt.plot(epochs,acc,'r',label=\"Training Loss\")\n",
        "plt.plot(epochs,val_acc,'b',label=\"Validation Loss\")\n",
        "plt.xlabel(\"epoch\")\n",
        "plt.ylabel(\"Acc\")\n",
        "plt.legend()\n",
        "plt.title(\"Training vs Val Acc\")\n",
        "plt.show()"
      ],
      "metadata": {
        "colab": {
          "base_uri": "https://localhost:8080/",
          "height": 927
        },
        "id": "-UUxclodE8yJ",
        "outputId": "47c31899-448a-4fbe-f981-6a63238aa3ec"
      },
      "execution_count": null,
      "outputs": [
        {
          "output_type": "display_data",
          "data": {
            "text/plain": [
              "<Figure size 640x480 with 1 Axes>"
            ],
            "image/png": "[encoded data removed]"
          },
          "metadata": {}
        },
        {
          "output_type": "display_data",
          "data": {
            "text/plain": [
              "<Figure size 640x480 with 1 Axes>"
            ],
            "image/png": "[encoded data removed]"
          },
          "metadata": {}
        }
      ]
    },
    {
      "cell_type": "code",
      "source": [
        "model.evaluate(test_generator)"
      ],
      "metadata": {
        "colab": {
          "base_uri": "https://localhost:8080/"
        },
        "id": "LIFqEeOuJ0-2",
        "outputId": "9b115381-8338-4920-e0ce-348968301d4f"
      },
      "execution_count": null,
      "outputs": [
        {
          "output_type": "stream",
          "name": "stdout",
          "text": [
            "29/29 [==============================] - 7s 247ms/step - loss: 0.3770 - accuracy: 0.9441\n"
          ]
        },
        {
          "output_type": "execute_result",
          "data": {
            "text/plain": [
              "[0.37701883912086487, 0.9441401958465576]"
            ]
          },
          "metadata": {},
          "execution_count": 37
        }
      ]
    },
    {
      "cell_type": "code",
      "source": [
        "import numpy as np"
      ],
      "metadata": {
        "id": "hpm6MhKwcDFy"
      },
      "execution_count": null,
      "outputs": []
    },
    {
      "cell_type": "code",
      "source": [
        "class_names = list(train_generator.class_indices)\n",
        "print(class_names)\n",
        "\n",
        "\n",
        "TEST_DIR = test_dir\n",
        "for dirname, _, filenames in os.walk(TEST_DIR):\n",
        "    if dirname is not TEST_DIR:\n",
        "        last_dir = os.path.basename(os.path.normpath(dirname))\n",
        "        correct = 0\n",
        "        for idx, filename in enumerate(filenames):\n",
        "            path = filename\n",
        "\n",
        "            img = load_img(os.path.join(\n",
        "                os.path.join(TEST_DIR, dirname), filename), target_size=(299, 299))\n",
        "            x = img_to_array(img)\n",
        "            x = np.expand_dims(x, axis=0)\n",
        "\n",
        "            images = np.vstack([x])\n",
        "            classes = model.predict(images, batch_size=32, verbose=0)\n",
        "#             classes = loaded_model.predict(images, batch_size=BATCH_SIZE, verbose=0)\n",
        "            score = tf.nn.softmax(classes[0])\n",
        "            \n",
        "            predicted_class = np.argmax(score)\n",
        "            predicted_class_name = class_names[np.argmax(score)]\n",
        "\n",
        "            if(last_dir==predicted_class_name): correct += 1\n",
        "#             print(\"Image: \", filename)\n",
        "#             print(\n",
        "#                 \"This image most likely belongs to {} with a {:.2f} percent confidence.\\n\"\n",
        "#                 .format(predicted_class_name, 100 * np.max(score))\n",
        "#             )\n",
        "        \n",
        "        print(f'untuk folder {last_dir}')\n",
        "        print(\"Jumlah data\",len(os.listdir(os.path.join(TEST_DIR, dirname))))\n",
        "        print(\"Jumlah data benar\", correct)\n",
        "        print(\n",
        "            \"Akurasi {:.2f}\\n\"\n",
        "            .format(100*(correct/len(os.listdir(os.path.join(TEST_DIR, dirname)))))\n",
        "        )"
      ],
      "metadata": {
        "id": "Ey0sI4iXK0Ab",
        "colab": {
          "base_uri": "https://localhost:8080/"
        },
        "outputId": "711bb122-c89f-4dea-f41d-9138dbd091ba"
      },
      "execution_count": null,
      "outputs": [
        {
          "output_type": "stream",
          "name": "stdout",
          "text": [
            "['bakso', 'gado', 'gudeg', 'rendang', 'sate']\n",
            "untuk folder gado\n",
            "Jumlah data 216\n",
            "Jumlah data benar 2\n",
            "Akurasi 0.93\n",
            "\n",
            "untuk folder gudeg\n",
            "Jumlah data 47\n",
            "Jumlah data benar 32\n",
            "Akurasi 68.09\n",
            "\n",
            "untuk folder sate\n",
            "Jumlah data 214\n",
            "Jumlah data benar 137\n",
            "Akurasi 64.02\n",
            "\n",
            "untuk folder bakso\n",
            "Jumlah data 214\n",
            "Jumlah data benar 0\n",
            "Akurasi 0.00\n",
            "\n",
            "untuk folder rendang\n",
            "Jumlah data 222\n",
            "Jumlah data benar 44\n",
            "Akurasi 19.82\n",
            "\n"
          ]
        }
      ]
    },
    {
      "cell_type": "code",
      "source": [],
      "metadata": {
        "id": "Z-GjkD1scPuv"
      },
      "execution_count": null,
      "outputs": []
    }
  ]
}