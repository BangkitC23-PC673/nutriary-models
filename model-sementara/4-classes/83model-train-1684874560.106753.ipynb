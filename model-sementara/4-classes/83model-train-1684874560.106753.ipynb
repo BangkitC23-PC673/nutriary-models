{
 "cells": [
  {
   "cell_type": "code",
   "execution_count": null,
   "id": "6bf7c214",
   "metadata": {
    "_cell_guid": "b1076dfc-b9ad-4769-8c92-a6c4dae69d19",
    "_uuid": "8f2839f25d086af736a60e9eeb907d3b93b6e0e5",
    "papermill": {
     "duration": 0.007518,
     "end_time": "2023-05-23T16:32:57.729557",
     "exception": false,
     "start_time": "2023-05-23T16:32:57.722039",
     "status": "completed"
    },
    "tags": []
   },
   "outputs": [],
   "source": []
  },
  {
   "cell_type": "markdown",
   "id": "1a9a8abe",
   "metadata": {
    "papermill": {
     "duration": 0.004986,
     "end_time": "2023-05-23T16:32:57.740258",
     "exception": false,
     "start_time": "2023-05-23T16:32:57.735272",
     "status": "completed"
    },
    "tags": []
   },
   "source": [
    "path train: '/kaggle/input/indonesian-food/dataset/train'<br>\n",
    "path test: '/kaggle/input/indonesian-food/dataset/test'<br>\n",
    "path valid: '/kaggle/input/indonesian-food/dataset/valid'<br>\n",
    "ada 4 kelas: bakso gado rendang sate"
   ]
  },
  {
   "cell_type": "code",
   "execution_count": 1,
   "id": "15bed48c",
   "metadata": {
    "execution": {
     "iopub.execute_input": "2023-05-23T16:32:57.753120Z",
     "iopub.status.busy": "2023-05-23T16:32:57.752330Z",
     "iopub.status.idle": "2023-05-23T16:32:57.757757Z",
     "shell.execute_reply": "2023-05-23T16:32:57.756916Z"
    },
    "papermill": {
     "duration": 0.015308,
     "end_time": "2023-05-23T16:32:57.760828",
     "exception": false,
     "start_time": "2023-05-23T16:32:57.745520",
     "status": "completed"
    },
    "tags": []
   },
   "outputs": [],
   "source": [
    "# import tensorflow as tf\n",
    "# from tensorflow import keras\n",
    "# from PIL import Image\n",
    "# import os\n",
    "# import numpy as np\n",
    "# # Let's check size of images\n",
    "# base_dir = '/kaggle/input/indonesian-food/dataset/train/bakso'\n",
    "# for image in list(os.walk(\"/kaggle/input/indonesian-food/dataset/train/bakso\"))[0][2]:\n",
    "#   a = Image.open(os.path.join(base_dir, image))\n",
    "#   print(np.asarray(a).shape)"
   ]
  },
  {
   "cell_type": "code",
   "execution_count": 2,
   "id": "8f3c19ff",
   "metadata": {
    "execution": {
     "iopub.execute_input": "2023-05-23T16:32:57.772379Z",
     "iopub.status.busy": "2023-05-23T16:32:57.771851Z",
     "iopub.status.idle": "2023-05-23T16:33:04.456690Z",
     "shell.execute_reply": "2023-05-23T16:33:04.455775Z"
    },
    "papermill": {
     "duration": 6.693603,
     "end_time": "2023-05-23T16:33:04.459525",
     "exception": false,
     "start_time": "2023-05-23T16:32:57.765922",
     "status": "completed"
    },
    "tags": []
   },
   "outputs": [
    {
     "name": "stderr",
     "output_type": "stream",
     "text": [
      "/opt/conda/lib/python3.10/site-packages/scipy/__init__.py:146: UserWarning: A NumPy version >=1.16.5 and <1.23.0 is required for this version of SciPy (detected version 1.23.5\n",
      "  warnings.warn(f\"A NumPy version >={np_minversion} and <{np_maxversion}\"\n"
     ]
    },
    {
     "name": "stdout",
     "output_type": "stream",
     "text": [
      "\\u2022 Using TensorFlow Version: 2.11.0\n"
     ]
    }
   ],
   "source": [
    "import tensorflow as tf\n",
    "\n",
    "print('\\\\u2022 Using TensorFlow Version:', tf.__version__)"
   ]
  },
  {
   "cell_type": "code",
   "execution_count": 3,
   "id": "677ddca7",
   "metadata": {
    "execution": {
     "iopub.execute_input": "2023-05-23T16:33:04.476671Z",
     "iopub.status.busy": "2023-05-23T16:33:04.475931Z",
     "iopub.status.idle": "2023-05-23T16:33:16.920308Z",
     "shell.execute_reply": "2023-05-23T16:33:16.919116Z"
    },
    "papermill": {
     "duration": 12.455079,
     "end_time": "2023-05-23T16:33:16.922620",
     "exception": false,
     "start_time": "2023-05-23T16:33:04.467541",
     "status": "completed"
    },
    "tags": []
   },
   "outputs": [
    {
     "name": "stdout",
     "output_type": "stream",
     "text": [
      "Collecting Keras-Preprocessing\r\n",
      "  Downloading Keras_Preprocessing-1.1.2-py2.py3-none-any.whl (42 kB)\r\n",
      "\u001b[2K     \u001b[90m━━━━━━━━━━━━━━━━━━━━━━━━━━━━━━━━━━━━━━━━\u001b[0m \u001b[32m42.6/42.6 kB\u001b[0m \u001b[31m1.6 MB/s\u001b[0m eta \u001b[36m0:00:00\u001b[0m\r\n",
      "\u001b[?25hRequirement already satisfied: numpy>=1.9.1 in /opt/conda/lib/python3.10/site-packages (from Keras-Preprocessing) (1.23.5)\r\n",
      "Requirement already satisfied: six>=1.9.0 in /opt/conda/lib/python3.10/site-packages (from Keras-Preprocessing) (1.16.0)\r\n",
      "Installing collected packages: Keras-Preprocessing\r\n",
      "Successfully installed Keras-Preprocessing-1.1.2\r\n",
      "\u001b[33mWARNING: Running pip as the 'root' user can result in broken permissions and conflicting behaviour with the system package manager. It is recommended to use a virtual environment instead: https://pip.pypa.io/warnings/venv\u001b[0m\u001b[33m\r\n",
      "\u001b[0m"
     ]
    }
   ],
   "source": [
    "!pip install Keras-Preprocessing"
   ]
  },
  {
   "cell_type": "code",
   "execution_count": null,
   "id": "a7c4bbbc",
   "metadata": {
    "papermill": {
     "duration": 0.005643,
     "end_time": "2023-05-23T16:33:16.934573",
     "exception": false,
     "start_time": "2023-05-23T16:33:16.928930",
     "status": "completed"
    },
    "tags": []
   },
   "outputs": [],
   "source": []
  },
  {
   "cell_type": "code",
   "execution_count": 4,
   "id": "3c25edf9",
   "metadata": {
    "execution": {
     "iopub.execute_input": "2023-05-23T16:33:16.947662Z",
     "iopub.status.busy": "2023-05-23T16:33:16.947325Z",
     "iopub.status.idle": "2023-05-23T16:33:16.952818Z",
     "shell.execute_reply": "2023-05-23T16:33:16.951760Z"
    },
    "papermill": {
     "duration": 0.014579,
     "end_time": "2023-05-23T16:33:16.954850",
     "exception": false,
     "start_time": "2023-05-23T16:33:16.940271",
     "status": "completed"
    },
    "tags": []
   },
   "outputs": [],
   "source": [
    "# import os\n",
    "\n",
    "# base_dir = '/kaggle/input/indonesian-food/dataset/train'\n",
    "\n",
    "# bakso_dir = os.path.join(base_dir, 'bakso')\n",
    "# gado_dir = os.path.join(base_dir, 'gado')\n",
    "# gudeg_dir = os.path.join(base_dir, 'gudeg')\n",
    "# rendang_dir = os.path.join(base_dir, 'rendang')\n",
    "# sate_dir = os.path.join(base_dir, 'sate')\n",
    "\n",
    "# print('total training bakso images:', len(os.listdir(bakso_dir)))\n",
    "# print('total training gado images:', len(os.listdir(gado_dir)))\n",
    "# print('total training gudeg images:', len(os.listdir(gudeg_dir)))\n",
    "# print('total training rendang images:', len(os.listdir(rendang_dir)))\n",
    "# print('total training sate images:', len(os.listdir(sate_dir)))\n",
    "\n",
    "# bakso_files = os.listdir(bakso_dir)\n",
    "# print(bakso_files[:10])\n",
    "\n",
    "# gado_files = os.listdir(gado_dir)\n",
    "# print(gado_files[:10])\n",
    "\n",
    "# gudeg_files = os.listdir(gudeg_dir)\n",
    "# print(gudeg_files[:10])\n",
    "\n",
    "# rendang_files = os.listdir(rendang_dir)\n",
    "# print(rendang_files[:10])\n",
    "\n",
    "# sate_files = os.listdir(sate_dir)\n",
    "# print(sate_files[:10])"
   ]
  },
  {
   "cell_type": "code",
   "execution_count": null,
   "id": "5ffcb17e",
   "metadata": {
    "papermill": {
     "duration": 0.005611,
     "end_time": "2023-05-23T16:33:16.966508",
     "exception": false,
     "start_time": "2023-05-23T16:33:16.960897",
     "status": "completed"
    },
    "tags": []
   },
   "outputs": [],
   "source": []
  },
  {
   "cell_type": "code",
   "execution_count": 5,
   "id": "69d13659",
   "metadata": {
    "execution": {
     "iopub.execute_input": "2023-05-23T16:33:16.980033Z",
     "iopub.status.busy": "2023-05-23T16:33:16.979200Z",
     "iopub.status.idle": "2023-05-23T16:33:20.622997Z",
     "shell.execute_reply": "2023-05-23T16:33:20.622236Z"
    },
    "papermill": {
     "duration": 3.675256,
     "end_time": "2023-05-23T16:33:20.647575",
     "exception": false,
     "start_time": "2023-05-23T16:33:16.972319",
     "status": "completed"
    },
    "tags": []
   },
   "outputs": [
    {
     "name": "stdout",
     "output_type": "stream",
     "text": [
      "Model: \"sequential\"\n",
      "_________________________________________________________________\n",
      " Layer (type)                Output Shape              Param #   \n",
      "=================================================================\n",
      " conv2d (Conv2D)             (None, 297, 297, 16)      448       \n",
      "                                                                 \n",
      " max_pooling2d (MaxPooling2D  (None, 148, 148, 16)     0         \n",
      " )                                                               \n",
      "                                                                 \n",
      " conv2d_1 (Conv2D)           (None, 146, 146, 32)      4640      \n",
      "                                                                 \n",
      " max_pooling2d_1 (MaxPooling  (None, 73, 73, 32)       0         \n",
      " 2D)                                                             \n",
      "                                                                 \n",
      " conv2d_2 (Conv2D)           (None, 71, 71, 64)        18496     \n",
      "                                                                 \n",
      " max_pooling2d_2 (MaxPooling  (None, 35, 35, 64)       0         \n",
      " 2D)                                                             \n",
      "                                                                 \n",
      " conv2d_3 (Conv2D)           (None, 33, 33, 128)       73856     \n",
      "                                                                 \n",
      " max_pooling2d_3 (MaxPooling  (None, 16, 16, 128)      0         \n",
      " 2D)                                                             \n",
      "                                                                 \n",
      " conv2d_4 (Conv2D)           (None, 14, 14, 256)       295168    \n",
      "                                                                 \n",
      " max_pooling2d_4 (MaxPooling  (None, 7, 7, 256)        0         \n",
      " 2D)                                                             \n",
      "                                                                 \n",
      " flatten (Flatten)           (None, 12544)             0         \n",
      "                                                                 \n",
      " dense (Dense)               (None, 256)               3211520   \n",
      "                                                                 \n",
      " dense_1 (Dense)             (None, 4)                 1028      \n",
      "                                                                 \n",
      "=================================================================\n",
      "Total params: 3,605,156\n",
      "Trainable params: 3,605,156\n",
      "Non-trainable params: 0\n",
      "_________________________________________________________________\n"
     ]
    }
   ],
   "source": [
    "import os\n",
    "import tensorflow as tf\n",
    "import tensorflow.keras.layers as tflayers\n",
    "from tensorflow import keras\n",
    "from tensorflow.keras.applications import Xception\n",
    "from tensorflow.keras.layers import Dense\n",
    "from tensorflow.keras.models import Sequential\n",
    "from tensorflow.keras.optimizers import Adam, RMSprop\n",
    "from tensorflow.keras.preprocessing.image import ImageDataGenerator\n",
    "from keras_tuner import HyperModel, RandomSearch\n",
    "from keras_tuner.engine.hyperparameters import HyperParameters\n",
    "\n",
    "IMAGE_SIZE = 299\n",
    "BATCH_SIZE = 32\n",
    "\n",
    "model = Sequential()\n",
    "\n",
    "# base_model = Xception(\n",
    "#     input_shape = (IMAGE_SIZE, IMAGE_SIZE, 3),\n",
    "#     include_top=False,\n",
    "#     weights='imagenet'\n",
    "# )\n",
    "# model.add(base_model)\n",
    "# model.add(tf.keras.layers.GlobalAveragePooling2D())\n",
    "\n",
    "# nontransfer learning\n",
    "model.add(tflayers.Conv2D(16, (3,3), activation='relu', input_shape=(IMAGE_SIZE, IMAGE_SIZE, 3)))\n",
    "model.add(tflayers.MaxPooling2D(2,2))\n",
    "model.add(tflayers.Conv2D(32, (3,3), activation='relu'))\n",
    "model.add(tflayers.MaxPooling2D(2,2))\n",
    "model.add(tflayers.Conv2D(64, (3,3), activation='relu'))\n",
    "model.add(tflayers.MaxPooling2D(2,2))\n",
    "model.add(tflayers.Conv2D(128, (3,3), activation='relu'))\n",
    "model.add(tflayers.MaxPooling2D(2,2))\n",
    "model.add(tflayers.Conv2D(256, (3,3), activation='relu'))\n",
    "model.add(tflayers.MaxPooling2D(2,2))\n",
    "# model.add(tflayers.Dropout(0.2))\n",
    "model.add(tflayers.Flatten())\n",
    "\n",
    "# Tune the hyperparameters for the Dense layer\n",
    "model.add(Dense(256, activation='relu'))\n",
    "\n",
    "model.add(Dense(4, activation='softmax'))\n",
    "\n",
    "# initial_LR = 0.001\n",
    "# optimizer = tf.keras.optimizers.Adam(learning_rate=initial_LR)\n",
    "# new_learning_rate = 0.0005\n",
    "# optimizer.learning_rate.assign(new_learning_rate)\n",
    "\n",
    "model.compile(\n",
    "    optimizer='adam', \n",
    "    loss='categorical_crossentropy', \n",
    "    metrics=['accuracy']\n",
    ")\n",
    "\n",
    "# Print the model summary\n",
    "model.summary()"
   ]
  },
  {
   "cell_type": "code",
   "execution_count": 6,
   "id": "765a9ee7",
   "metadata": {
    "execution": {
     "iopub.execute_input": "2023-05-23T16:33:20.666901Z",
     "iopub.status.busy": "2023-05-23T16:33:20.666533Z",
     "iopub.status.idle": "2023-05-23T16:33:23.184580Z",
     "shell.execute_reply": "2023-05-23T16:33:23.183644Z"
    },
    "papermill": {
     "duration": 2.530564,
     "end_time": "2023-05-23T16:33:23.187083",
     "exception": false,
     "start_time": "2023-05-23T16:33:20.656519",
     "status": "completed"
    },
    "tags": []
   },
   "outputs": [
    {
     "name": "stdout",
     "output_type": "stream",
     "text": [
      "Found 7754 images belonging to 4 classes.\n",
      "Found 349 images belonging to 4 classes.\n"
     ]
    }
   ],
   "source": [
    "\n",
    "TRAINING_DIR = \"/kaggle/input/indonesian-food/dataset/train\"\n",
    "training_datagen = ImageDataGenerator(\n",
    "    rescale=1./255,\n",
    "    horizontal_flip=True,\n",
    "    vertical_flip=True,\n",
    "    rotation_range=20,\n",
    "    width_shift_range=0.2,\n",
    "    height_shift_range=0.2\n",
    ")\n",
    "\n",
    "VALIDATION_DIR = \"/kaggle/input/indonesian-food/dataset/val\"\n",
    "validation_datagen = ImageDataGenerator(rescale = 1./255)\n",
    "\n",
    "train_generator = training_datagen.flow_from_directory(\n",
    "\tTRAINING_DIR,\n",
    "\ttarget_size=(IMAGE_SIZE, IMAGE_SIZE),\n",
    "\tclass_mode='categorical',\n",
    "    batch_size=BATCH_SIZE\n",
    ")\n",
    "\n",
    "validation_generator = validation_datagen.flow_from_directory(\n",
    "\tVALIDATION_DIR,\n",
    "\ttarget_size=(IMAGE_SIZE, IMAGE_SIZE),\n",
    "\tclass_mode='categorical',\n",
    "    batch_size=BATCH_SIZE\n",
    ")\n"
   ]
  },
  {
   "cell_type": "code",
   "execution_count": 7,
   "id": "5748baab",
   "metadata": {
    "execution": {
     "iopub.execute_input": "2023-05-23T16:33:23.207003Z",
     "iopub.status.busy": "2023-05-23T16:33:23.206189Z",
     "iopub.status.idle": "2023-05-23T16:33:23.210782Z",
     "shell.execute_reply": "2023-05-23T16:33:23.209829Z"
    },
    "papermill": {
     "duration": 0.016512,
     "end_time": "2023-05-23T16:33:23.212827",
     "exception": false,
     "start_time": "2023-05-23T16:33:23.196315",
     "status": "completed"
    },
    "tags": []
   },
   "outputs": [],
   "source": [
    "# # Perform hyperparameter tuning\n",
    "# tuner.search(train_generator, validation_data=validation_generator, epochs=20)\n",
    "\n",
    "# Get the best hyperparameters and build the final model\n",
    "# best_hps = tuner.get_best_hyperparameters(num_trials=1)[0]\n",
    "# model = tuner.hypermodel.build(best_hps)"
   ]
  },
  {
   "cell_type": "code",
   "execution_count": 8,
   "id": "1ab8b792",
   "metadata": {
    "execution": {
     "iopub.execute_input": "2023-05-23T16:33:23.233154Z",
     "iopub.status.busy": "2023-05-23T16:33:23.232103Z",
     "iopub.status.idle": "2023-05-23T18:56:43.017986Z",
     "shell.execute_reply": "2023-05-23T18:56:43.016935Z"
    },
    "papermill": {
     "duration": 8600.736922,
     "end_time": "2023-05-23T18:56:43.958957",
     "exception": false,
     "start_time": "2023-05-23T16:33:23.222035",
     "status": "completed"
    },
    "tags": []
   },
   "outputs": [
    {
     "name": "stdout",
     "output_type": "stream",
     "text": [
      "Epoch 1/50\n",
      "243/243 [==============================] - 201s 791ms/step - loss: 1.0435 - accuracy: 0.5084 - val_loss: 1.2338 - val_accuracy: 0.4814\n",
      "Epoch 2/50\n",
      "243/243 [==============================] - 173s 711ms/step - loss: 0.8352 - accuracy: 0.6273 - val_loss: 1.3349 - val_accuracy: 0.4241\n",
      "Epoch 3/50\n",
      "243/243 [==============================] - 182s 750ms/step - loss: 0.7984 - accuracy: 0.6539 - val_loss: 1.2808 - val_accuracy: 0.4728\n",
      "Epoch 4/50\n",
      "243/243 [==============================] - 172s 706ms/step - loss: 0.7075 - accuracy: 0.7116 - val_loss: 1.0834 - val_accuracy: 0.5673\n",
      "Epoch 5/50\n",
      "243/243 [==============================] - 165s 680ms/step - loss: 0.6725 - accuracy: 0.7238 - val_loss: 1.0477 - val_accuracy: 0.5759\n",
      "Epoch 6/50\n",
      "243/243 [==============================] - 165s 678ms/step - loss: 0.6085 - accuracy: 0.7547 - val_loss: 1.0900 - val_accuracy: 0.5415\n",
      "Epoch 7/50\n",
      "243/243 [==============================] - 165s 678ms/step - loss: 0.5895 - accuracy: 0.7645 - val_loss: 0.9695 - val_accuracy: 0.6246\n",
      "Epoch 8/50\n",
      "243/243 [==============================] - 165s 680ms/step - loss: 0.5419 - accuracy: 0.7903 - val_loss: 1.0894 - val_accuracy: 0.5960\n",
      "Epoch 9/50\n",
      "243/243 [==============================] - 167s 687ms/step - loss: 0.5292 - accuracy: 0.7977 - val_loss: 0.8786 - val_accuracy: 0.6476\n",
      "Epoch 10/50\n",
      "243/243 [==============================] - 166s 684ms/step - loss: 0.4779 - accuracy: 0.8143 - val_loss: 0.8586 - val_accuracy: 0.6905\n",
      "Epoch 11/50\n",
      "243/243 [==============================] - 166s 681ms/step - loss: 0.4522 - accuracy: 0.8281 - val_loss: 0.8899 - val_accuracy: 0.6877\n",
      "Epoch 12/50\n",
      "243/243 [==============================] - 166s 682ms/step - loss: 0.4364 - accuracy: 0.8323 - val_loss: 0.9893 - val_accuracy: 0.6476\n",
      "Epoch 13/50\n",
      "243/243 [==============================] - 164s 675ms/step - loss: 0.4146 - accuracy: 0.8418 - val_loss: 1.0133 - val_accuracy: 0.6590\n",
      "Epoch 14/50\n",
      "243/243 [==============================] - 166s 682ms/step - loss: 0.4012 - accuracy: 0.8479 - val_loss: 0.8539 - val_accuracy: 0.6848\n",
      "Epoch 15/50\n",
      "243/243 [==============================] - 165s 681ms/step - loss: 0.3878 - accuracy: 0.8540 - val_loss: 0.9272 - val_accuracy: 0.6848\n",
      "Epoch 16/50\n",
      "243/243 [==============================] - 164s 674ms/step - loss: 0.3759 - accuracy: 0.8584 - val_loss: 0.9773 - val_accuracy: 0.6877\n",
      "Epoch 17/50\n",
      "243/243 [==============================] - 165s 677ms/step - loss: 0.3593 - accuracy: 0.8663 - val_loss: 0.8856 - val_accuracy: 0.7192\n",
      "Epoch 18/50\n",
      "243/243 [==============================] - 166s 683ms/step - loss: 0.3670 - accuracy: 0.8599 - val_loss: 1.0392 - val_accuracy: 0.6791\n",
      "Epoch 19/50\n",
      "243/243 [==============================] - 165s 678ms/step - loss: 0.3419 - accuracy: 0.8745 - val_loss: 0.8002 - val_accuracy: 0.7421\n",
      "Epoch 20/50\n",
      "243/243 [==============================] - 167s 687ms/step - loss: 0.3291 - accuracy: 0.8757 - val_loss: 1.0242 - val_accuracy: 0.6734\n",
      "Epoch 21/50\n",
      "243/243 [==============================] - 166s 682ms/step - loss: 0.3092 - accuracy: 0.8887 - val_loss: 0.7200 - val_accuracy: 0.7679\n",
      "Epoch 22/50\n",
      "243/243 [==============================] - 164s 676ms/step - loss: 0.3117 - accuracy: 0.8855 - val_loss: 0.6511 - val_accuracy: 0.7421\n",
      "Epoch 23/50\n",
      "243/243 [==============================] - 166s 684ms/step - loss: 0.2903 - accuracy: 0.8888 - val_loss: 0.8128 - val_accuracy: 0.7593\n",
      "Epoch 24/50\n",
      "243/243 [==============================] - 170s 702ms/step - loss: 0.2896 - accuracy: 0.8918 - val_loss: 0.9084 - val_accuracy: 0.7249\n",
      "Epoch 25/50\n",
      "243/243 [==============================] - 166s 684ms/step - loss: 0.2861 - accuracy: 0.8922 - val_loss: 0.7804 - val_accuracy: 0.7307\n",
      "Epoch 26/50\n",
      "243/243 [==============================] - 167s 687ms/step - loss: 0.2813 - accuracy: 0.8941 - val_loss: 0.8570 - val_accuracy: 0.7564\n",
      "Epoch 27/50\n",
      "243/243 [==============================] - 165s 681ms/step - loss: 0.2676 - accuracy: 0.9013 - val_loss: 0.7016 - val_accuracy: 0.7908\n",
      "Epoch 28/50\n",
      "243/243 [==============================] - 166s 685ms/step - loss: 0.2650 - accuracy: 0.9039 - val_loss: 0.6878 - val_accuracy: 0.7708\n",
      "Epoch 29/50\n",
      "243/243 [==============================] - 174s 715ms/step - loss: 0.2323 - accuracy: 0.9160 - val_loss: 0.7550 - val_accuracy: 0.7564\n",
      "Epoch 30/50\n",
      "243/243 [==============================] - 170s 700ms/step - loss: 0.2339 - accuracy: 0.9126 - val_loss: 0.7548 - val_accuracy: 0.7708\n",
      "Epoch 31/50\n",
      "243/243 [==============================] - 164s 676ms/step - loss: 0.2610 - accuracy: 0.9033 - val_loss: 0.7420 - val_accuracy: 0.7421\n",
      "Epoch 32/50\n",
      "243/243 [==============================] - 168s 690ms/step - loss: 0.2309 - accuracy: 0.9155 - val_loss: 0.8417 - val_accuracy: 0.7335\n",
      "Epoch 33/50\n",
      "243/243 [==============================] - 169s 694ms/step - loss: 0.2250 - accuracy: 0.9175 - val_loss: 0.7562 - val_accuracy: 0.7794\n",
      "Epoch 34/50\n",
      "243/243 [==============================] - 168s 690ms/step - loss: 0.2158 - accuracy: 0.9242 - val_loss: 0.7308 - val_accuracy: 0.7736\n",
      "Epoch 35/50\n",
      "243/243 [==============================] - 165s 680ms/step - loss: 0.2208 - accuracy: 0.9238 - val_loss: 0.8636 - val_accuracy: 0.7622\n",
      "Epoch 36/50\n",
      "243/243 [==============================] - 168s 691ms/step - loss: 0.2251 - accuracy: 0.9190 - val_loss: 0.7180 - val_accuracy: 0.7851\n",
      "Epoch 37/50\n",
      "243/243 [==============================] - 166s 683ms/step - loss: 0.2124 - accuracy: 0.9203 - val_loss: 0.5826 - val_accuracy: 0.8338\n",
      "Epoch 38/50\n",
      "243/243 [==============================] - 181s 744ms/step - loss: 0.2065 - accuracy: 0.9257 - val_loss: 0.6588 - val_accuracy: 0.7765\n",
      "Epoch 39/50\n",
      "243/243 [==============================] - 176s 724ms/step - loss: 0.2054 - accuracy: 0.9264 - val_loss: 0.6108 - val_accuracy: 0.8166\n",
      "Epoch 40/50\n",
      "243/243 [==============================] - 176s 725ms/step - loss: 0.1984 - accuracy: 0.9296 - val_loss: 0.8047 - val_accuracy: 0.7822\n",
      "Epoch 41/50\n",
      "243/243 [==============================] - 170s 700ms/step - loss: 0.2107 - accuracy: 0.9225 - val_loss: 0.6984 - val_accuracy: 0.7880\n",
      "Epoch 42/50\n",
      "243/243 [==============================] - 168s 690ms/step - loss: 0.2025 - accuracy: 0.9264 - val_loss: 0.7494 - val_accuracy: 0.7593\n",
      "Epoch 43/50\n",
      "243/243 [==============================] - 165s 680ms/step - loss: 0.1832 - accuracy: 0.9315 - val_loss: 0.6434 - val_accuracy: 0.7765\n",
      "Epoch 44/50\n",
      "243/243 [==============================] - 169s 694ms/step - loss: 0.1932 - accuracy: 0.9247 - val_loss: 0.5780 - val_accuracy: 0.8109\n",
      "Epoch 45/50\n",
      "243/243 [==============================] - 169s 695ms/step - loss: 0.1693 - accuracy: 0.9373 - val_loss: 0.6810 - val_accuracy: 0.8223\n",
      "Epoch 46/50\n",
      "243/243 [==============================] - 164s 678ms/step - loss: 0.1891 - accuracy: 0.9283 - val_loss: 0.5920 - val_accuracy: 0.8252\n",
      "Epoch 47/50\n",
      "243/243 [==============================] - 169s 695ms/step - loss: 0.1855 - accuracy: 0.9310 - val_loss: 0.5004 - val_accuracy: 0.8166\n",
      "Epoch 48/50\n",
      "243/243 [==============================] - 168s 693ms/step - loss: 0.1883 - accuracy: 0.9296 - val_loss: 0.5680 - val_accuracy: 0.8138\n",
      "Epoch 49/50\n",
      "243/243 [==============================] - 171s 705ms/step - loss: 0.1841 - accuracy: 0.9298 - val_loss: 0.7624 - val_accuracy: 0.7822\n",
      "Epoch 50/50\n",
      "243/243 [==============================] - 167s 687ms/step - loss: 0.1705 - accuracy: 0.9399 - val_loss: 0.6401 - val_accuracy: 0.8309\n",
      "Best epoch: 37\n"
     ]
    }
   ],
   "source": [
    "# Build the model with the optimal hyperparameters and train it on the data for 50 epochs\n",
    "# model = tuner.hypermodel.build(best_hps)\n",
    "# Train the model\n",
    "history = model.fit(\n",
    "    train_generator, \n",
    "    epochs=50, \n",
    "    verbose=1, \n",
    "    validation_data = validation_generator\n",
    ")\n",
    "\n",
    "val_acc_per_epoch = history.history['val_accuracy']\n",
    "best_epoch = val_acc_per_epoch.index(max(val_acc_per_epoch)) + 1\n",
    "print('Best epoch: %d' % (best_epoch,))"
   ]
  },
  {
   "cell_type": "code",
   "execution_count": 9,
   "id": "c55b60ee",
   "metadata": {
    "execution": {
     "iopub.execute_input": "2023-05-23T18:56:45.924647Z",
     "iopub.status.busy": "2023-05-23T18:56:45.924288Z",
     "iopub.status.idle": "2023-05-23T18:56:46.618997Z",
     "shell.execute_reply": "2023-05-23T18:56:46.617898Z"
    },
    "papermill": {
     "duration": 1.654052,
     "end_time": "2023-05-23T18:56:46.621077",
     "exception": false,
     "start_time": "2023-05-23T18:56:44.967025",
     "status": "completed"
    },
    "tags": []
   },
   "outputs": [
    {
     "data": {
      "image/png": "[encoded data removed]",
      "text/plain": [
       "<Figure size 1200x400 with 2 Axes>"
      ]
     },
     "metadata": {},
     "output_type": "display_data"
    }
   ],
   "source": [
    "import matplotlib.pyplot as plt\n",
    "\n",
    "# Plot the results\n",
    "acc = history.history['accuracy']\n",
    "val_acc = history.history['val_accuracy']\n",
    "loss = history.history['loss']\n",
    "val_loss = history.history['val_loss']\n",
    "\n",
    "epochs = range(len(acc))\n",
    "\n",
    "figure, axis = plt.subplots(1, 2, figsize=(12, 4))\n",
    "\n",
    "axis[0].plot(epochs, acc, 'r', label='Training accuracy')\n",
    "axis[0].plot(epochs, val_acc, 'b', label='Validation accuracy')\n",
    "axis[0].set_title(\"Training and validation accuracy\")\n",
    "axis[0].legend(loc=0)\n",
    "\n",
    "axis[1].plot(epochs, loss, 'r', label='Training loss')\n",
    "axis[1].plot(epochs, val_loss, 'b', label='Validation loss')\n",
    "axis[1].set_title(\"Training and validation loss\")\n",
    "axis[1].legend(loc=0)\n",
    "\n",
    "\n",
    "plt.show()"
   ]
  },
  {
   "cell_type": "code",
   "execution_count": 10,
   "id": "bff3630c",
   "metadata": {
    "execution": {
     "iopub.execute_input": "2023-05-23T18:56:48.585007Z",
     "iopub.status.busy": "2023-05-23T18:56:48.584013Z",
     "iopub.status.idle": "2023-05-23T20:42:29.579051Z",
     "shell.execute_reply": "2023-05-23T20:42:29.578022Z"
    },
    "papermill": {
     "duration": 6342.022257,
     "end_time": "2023-05-23T20:42:29.581519",
     "exception": false,
     "start_time": "2023-05-23T18:56:47.559262",
     "status": "completed"
    },
    "tags": []
   },
   "outputs": [
    {
     "name": "stdout",
     "output_type": "stream",
     "text": [
      "Epoch 1/37\n",
      "243/243 [==============================] - 168s 691ms/step - loss: 0.1745 - accuracy: 0.9378 - val_loss: 0.6491 - val_accuracy: 0.8080\n",
      "Epoch 2/37\n",
      "243/243 [==============================] - 171s 702ms/step - loss: 0.1668 - accuracy: 0.9405 - val_loss: 0.6051 - val_accuracy: 0.8138\n",
      "Epoch 3/37\n",
      "243/243 [==============================] - 170s 700ms/step - loss: 0.1623 - accuracy: 0.9381 - val_loss: 0.8342 - val_accuracy: 0.7736\n",
      "Epoch 4/37\n",
      "243/243 [==============================] - 171s 702ms/step - loss: 0.1740 - accuracy: 0.9360 - val_loss: 0.7847 - val_accuracy: 0.8080\n",
      "Epoch 5/37\n",
      "243/243 [==============================] - 170s 698ms/step - loss: 0.1692 - accuracy: 0.9400 - val_loss: 0.6112 - val_accuracy: 0.8424\n",
      "Epoch 6/37\n",
      "243/243 [==============================] - 165s 679ms/step - loss: 0.1550 - accuracy: 0.9395 - val_loss: 0.7078 - val_accuracy: 0.8109\n",
      "Epoch 7/37\n",
      "243/243 [==============================] - 169s 696ms/step - loss: 0.1635 - accuracy: 0.9375 - val_loss: 0.6612 - val_accuracy: 0.8052\n",
      "Epoch 8/37\n",
      "243/243 [==============================] - 177s 726ms/step - loss: 0.1517 - accuracy: 0.9469 - val_loss: 0.7240 - val_accuracy: 0.7937\n",
      "Epoch 9/37\n",
      "243/243 [==============================] - 174s 716ms/step - loss: 0.1508 - accuracy: 0.9434 - val_loss: 0.6080 - val_accuracy: 0.8166\n",
      "Epoch 10/37\n",
      "243/243 [==============================] - 173s 713ms/step - loss: 0.1595 - accuracy: 0.9443 - val_loss: 0.6656 - val_accuracy: 0.8309\n",
      "Epoch 11/37\n",
      "243/243 [==============================] - 170s 699ms/step - loss: 0.1718 - accuracy: 0.9377 - val_loss: 0.5995 - val_accuracy: 0.8252\n",
      "Epoch 12/37\n",
      "243/243 [==============================] - 173s 711ms/step - loss: 0.1579 - accuracy: 0.9420 - val_loss: 0.6765 - val_accuracy: 0.8338\n",
      "Epoch 13/37\n",
      "243/243 [==============================] - 172s 707ms/step - loss: 0.1509 - accuracy: 0.9442 - val_loss: 0.6291 - val_accuracy: 0.8166\n",
      "Epoch 14/37\n",
      "243/243 [==============================] - 174s 718ms/step - loss: 0.1524 - accuracy: 0.9464 - val_loss: 0.7258 - val_accuracy: 0.7908\n",
      "Epoch 15/37\n",
      "243/243 [==============================] - 171s 702ms/step - loss: 0.1459 - accuracy: 0.9473 - val_loss: 0.6517 - val_accuracy: 0.8309\n",
      "Epoch 16/37\n",
      "243/243 [==============================] - 168s 690ms/step - loss: 0.1414 - accuracy: 0.9476 - val_loss: 0.8526 - val_accuracy: 0.7851\n",
      "Epoch 17/37\n",
      "243/243 [==============================] - 169s 694ms/step - loss: 0.1508 - accuracy: 0.9470 - val_loss: 0.6875 - val_accuracy: 0.8395\n",
      "Epoch 18/37\n",
      "243/243 [==============================] - 167s 687ms/step - loss: 0.1488 - accuracy: 0.9447 - val_loss: 0.6919 - val_accuracy: 0.8080\n",
      "Epoch 19/37\n",
      "243/243 [==============================] - 165s 677ms/step - loss: 0.1322 - accuracy: 0.9488 - val_loss: 0.9323 - val_accuracy: 0.7708\n",
      "Epoch 20/37\n",
      "243/243 [==============================] - 169s 695ms/step - loss: 0.1390 - accuracy: 0.9492 - val_loss: 0.9240 - val_accuracy: 0.8166\n",
      "Epoch 21/37\n",
      "243/243 [==============================] - 175s 719ms/step - loss: 0.1430 - accuracy: 0.9482 - val_loss: 0.8176 - val_accuracy: 0.7908\n",
      "Epoch 22/37\n",
      "243/243 [==============================] - 171s 702ms/step - loss: 0.1593 - accuracy: 0.9416 - val_loss: 0.6403 - val_accuracy: 0.8395\n",
      "Epoch 23/37\n",
      "243/243 [==============================] - 172s 706ms/step - loss: 0.1281 - accuracy: 0.9541 - val_loss: 0.6372 - val_accuracy: 0.8395\n",
      "Epoch 24/37\n",
      "243/243 [==============================] - 170s 698ms/step - loss: 0.1322 - accuracy: 0.9513 - val_loss: 0.5997 - val_accuracy: 0.8395\n",
      "Epoch 25/37\n",
      "243/243 [==============================] - 165s 681ms/step - loss: 0.1500 - accuracy: 0.9478 - val_loss: 0.6960 - val_accuracy: 0.8338\n",
      "Epoch 26/37\n",
      "243/243 [==============================] - 169s 696ms/step - loss: 0.1308 - accuracy: 0.9533 - val_loss: 0.5600 - val_accuracy: 0.8682\n",
      "Epoch 27/37\n",
      "243/243 [==============================] - 167s 689ms/step - loss: 0.1331 - accuracy: 0.9502 - val_loss: 0.6954 - val_accuracy: 0.8252\n",
      "Epoch 28/37\n",
      "243/243 [==============================] - 170s 700ms/step - loss: 0.1353 - accuracy: 0.9507 - val_loss: 0.8130 - val_accuracy: 0.8395\n",
      "Epoch 29/37\n",
      "243/243 [==============================] - 169s 692ms/step - loss: 0.1398 - accuracy: 0.9510 - val_loss: 0.6131 - val_accuracy: 0.8510\n",
      "Epoch 30/37\n",
      "243/243 [==============================] - 167s 689ms/step - loss: 0.1369 - accuracy: 0.9520 - val_loss: 0.6974 - val_accuracy: 0.8223\n",
      "Epoch 31/37\n",
      "243/243 [==============================] - 171s 702ms/step - loss: 0.1425 - accuracy: 0.9480 - val_loss: 0.7810 - val_accuracy: 0.8080\n",
      "Epoch 32/37\n",
      "243/243 [==============================] - 170s 700ms/step - loss: 0.1316 - accuracy: 0.9515 - val_loss: 0.7030 - val_accuracy: 0.8252\n",
      "Epoch 33/37\n",
      "243/243 [==============================] - 170s 701ms/step - loss: 0.1250 - accuracy: 0.9547 - val_loss: 0.6262 - val_accuracy: 0.8453\n",
      "Epoch 34/37\n",
      "243/243 [==============================] - 173s 711ms/step - loss: 0.1278 - accuracy: 0.9554 - val_loss: 0.6049 - val_accuracy: 0.8367\n",
      "Epoch 35/37\n",
      "243/243 [==============================] - 178s 735ms/step - loss: 0.1461 - accuracy: 0.9448 - val_loss: 0.6575 - val_accuracy: 0.8395\n",
      "Epoch 36/37\n",
      "243/243 [==============================] - 177s 728ms/step - loss: 0.1280 - accuracy: 0.9537 - val_loss: 0.6780 - val_accuracy: 0.8481\n",
      "Epoch 37/37\n",
      "243/243 [==============================] - 170s 700ms/step - loss: 0.1291 - accuracy: 0.9532 - val_loss: 0.6505 - val_accuracy: 0.8338\n"
     ]
    }
   ],
   "source": [
    "# hypermodel = tuner.hypermodel.build(best_hps)\n",
    "\n",
    "# Retrain the model\n",
    "historyFinal = model.fit(\n",
    "    train_generator, \n",
    "    epochs=best_epoch, \n",
    "    verbose=1,\n",
    "    validation_data = validation_generator\n",
    ")"
   ]
  },
  {
   "cell_type": "code",
   "execution_count": 11,
   "id": "7945908c",
   "metadata": {
    "execution": {
     "iopub.execute_input": "2023-05-23T20:42:32.912635Z",
     "iopub.status.busy": "2023-05-23T20:42:32.912137Z",
     "iopub.status.idle": "2023-05-23T20:42:32.916725Z",
     "shell.execute_reply": "2023-05-23T20:42:32.915839Z"
    },
    "papermill": {
     "duration": 1.62763,
     "end_time": "2023-05-23T20:42:32.918743",
     "exception": false,
     "start_time": "2023-05-23T20:42:31.291113",
     "status": "completed"
    },
    "tags": []
   },
   "outputs": [],
   "source": [
    "# eval_result = hypermodel.evaluate(img_test, label_test)\n",
    "# print(\"[test loss, test accuracy]:\", eval_result)"
   ]
  },
  {
   "cell_type": "code",
   "execution_count": 12,
   "id": "da0225d1",
   "metadata": {
    "execution": {
     "iopub.execute_input": "2023-05-23T20:42:36.229217Z",
     "iopub.status.busy": "2023-05-23T20:42:36.228841Z",
     "iopub.status.idle": "2023-05-23T20:42:36.679785Z",
     "shell.execute_reply": "2023-05-23T20:42:36.678877Z"
    },
    "papermill": {
     "duration": 2.060209,
     "end_time": "2023-05-23T20:42:36.682149",
     "exception": false,
     "start_time": "2023-05-23T20:42:34.621940",
     "status": "completed"
    },
    "tags": []
   },
   "outputs": [
    {
     "data": {
      "image/png": "[encoded data removed]",
      "text/plain": [
       "<Figure size 1200x400 with 2 Axes>"
      ]
     },
     "metadata": {},
     "output_type": "display_data"
    }
   ],
   "source": [
    "import matplotlib.pyplot as plt\n",
    "\n",
    "# Plot the results\n",
    "acc = historyFinal.history['accuracy']\n",
    "val_acc = historyFinal.history['val_accuracy']\n",
    "loss = historyFinal.history['loss']\n",
    "val_loss = historyFinal.history['val_loss']\n",
    "\n",
    "epochs = range(len(acc))\n",
    "\n",
    "figure, axis = plt.subplots(1, 2, figsize=(12, 4))\n",
    "\n",
    "axis[0].plot(epochs, acc, 'r', label='Training accuracy')\n",
    "axis[0].plot(epochs, val_acc, 'b', label='Validation accuracy')\n",
    "axis[0].set_title(\"Training and validation accuracy\")\n",
    "axis[0].legend(loc=0)\n",
    "\n",
    "axis[1].plot(epochs, loss, 'r', label='Training loss')\n",
    "axis[1].plot(epochs, val_loss, 'b', label='Validation loss')\n",
    "axis[1].set_title(\"Training and validation loss\")\n",
    "axis[1].legend(loc=0)\n",
    "\n",
    "\n",
    "plt.show()"
   ]
  },
  {
   "cell_type": "code",
   "execution_count": 13,
   "id": "4dcb539b",
   "metadata": {
    "execution": {
     "iopub.execute_input": "2023-05-23T20:42:40.105208Z",
     "iopub.status.busy": "2023-05-23T20:42:40.104810Z",
     "iopub.status.idle": "2023-05-23T20:42:40.238123Z",
     "shell.execute_reply": "2023-05-23T20:42:40.237058Z"
    },
    "papermill": {
     "duration": 1.819706,
     "end_time": "2023-05-23T20:42:40.240547",
     "exception": false,
     "start_time": "2023-05-23T20:42:38.420841",
     "status": "completed"
    },
    "tags": []
   },
   "outputs": [],
   "source": [
    "from datetime import datetime\n",
    "# current date and time\n",
    "now = datetime.now()\n",
    "\n",
    "time_stamp = datetime.timestamp(now)\n",
    "name = f'model-train-{time_stamp}'\n",
    "model.save(f'{name}.h5')"
   ]
  },
  {
   "cell_type": "code",
   "execution_count": 14,
   "id": "0cbdd864",
   "metadata": {
    "execution": {
     "iopub.execute_input": "2023-05-23T20:42:43.743081Z",
     "iopub.status.busy": "2023-05-23T20:42:43.742706Z",
     "iopub.status.idle": "2023-05-23T20:42:43.747174Z",
     "shell.execute_reply": "2023-05-23T20:42:43.746262Z"
    },
    "papermill": {
     "duration": 1.74829,
     "end_time": "2023-05-23T20:42:43.749222",
     "exception": false,
     "start_time": "2023-05-23T20:42:42.000932",
     "status": "completed"
    },
    "tags": []
   },
   "outputs": [],
   "source": [
    "# loaded_model = tf.keras.models.load_model('/kaggle/working/model-train-1684748493.064132.h5')"
   ]
  },
  {
   "cell_type": "code",
   "execution_count": 15,
   "id": "8d0e82c6",
   "metadata": {
    "execution": {
     "iopub.execute_input": "2023-05-23T20:42:47.091531Z",
     "iopub.status.busy": "2023-05-23T20:42:47.091175Z",
     "iopub.status.idle": "2023-05-23T20:43:42.761501Z",
     "shell.execute_reply": "2023-05-23T20:43:42.760419Z"
    },
    "papermill": {
     "duration": 57.398431,
     "end_time": "2023-05-23T20:43:42.763935",
     "exception": false,
     "start_time": "2023-05-23T20:42:45.365504",
     "status": "completed"
    },
    "tags": []
   },
   "outputs": [
    {
     "name": "stdout",
     "output_type": "stream",
     "text": [
      "['bakso', 'gado', 'rendang', 'sate']\n",
      "untuk folder sate\n",
      "Jumlah data 214\n",
      "Jumlah data benar 201\n",
      "Akurasi 93.93\n",
      "\n",
      "untuk folder bakso\n",
      "Jumlah data 214\n",
      "Jumlah data benar 169\n",
      "Akurasi 78.97\n",
      "\n",
      "untuk folder gado\n",
      "Jumlah data 216\n",
      "Jumlah data benar 196\n",
      "Akurasi 90.74\n",
      "\n",
      "untuk folder rendang\n",
      "Jumlah data 222\n",
      "Jumlah data benar 178\n",
      "Akurasi 80.18\n",
      "\n"
     ]
    }
   ],
   "source": [
    "import numpy as np\n",
    "import os\n",
    "from tensorflow.keras.utils import load_img, img_to_array\n",
    "import tensorflow as tf\n",
    "\n",
    "\n",
    "\n",
    "class_names = list(train_generator.class_indices)\n",
    "print(class_names)\n",
    " \n",
    "# predicting images\n",
    "TEST_DIR = '/kaggle/input/indonesian-food/dataset/test'\n",
    "for dirname, _, filenames in os.walk(TEST_DIR):\n",
    "    if dirname is not TEST_DIR:\n",
    "        last_dir = os.path.basename(os.path.normpath(dirname))\n",
    "        correct = 0\n",
    "        for idx, filename in enumerate(filenames):\n",
    "            path = filename\n",
    "\n",
    "            img = load_img(os.path.join(\n",
    "                os.path.join(TEST_DIR, dirname), filename), target_size=(IMAGE_SIZE, IMAGE_SIZE))\n",
    "            x = img_to_array(img)\n",
    "            x = np.expand_dims(x, axis=0)\n",
    "\n",
    "            images = np.vstack([x])\n",
    "            classes = model.predict(images, batch_size=BATCH_SIZE, verbose=0)\n",
    "#             classes = loaded_model.predict(images, batch_size=BATCH_SIZE, verbose=0)\n",
    "            score = tf.nn.softmax(classes[0])\n",
    "            \n",
    "            predicted_class = np.argmax(score)\n",
    "            predicted_class_name = class_names[np.argmax(score)]\n",
    "\n",
    "            if(last_dir==predicted_class_name): correct += 1\n",
    "#             print(\"Image: \", filename)\n",
    "#             print(\n",
    "#                 \"This image most likely belongs to {} with a {:.2f} percent confidence.\\n\"\n",
    "#                 .format(predicted_class_name, 100 * np.max(score))\n",
    "#             )\n",
    "        \n",
    "        print(f'untuk folder {last_dir}')\n",
    "        print(\"Jumlah data\",len(os.listdir(os.path.join(TEST_DIR, dirname))))\n",
    "        print(\"Jumlah data benar\", correct)\n",
    "        print(\n",
    "            \"Akurasi {:.2f}\\n\"\n",
    "            .format(100*(correct/len(os.listdir(os.path.join(TEST_DIR, dirname)))))\n",
    "        )\n"
   ]
  }
 ],
 "metadata": {
  "kernelspec": {
   "display_name": "Python 3",
   "language": "python",
   "name": "python3"
  },
  "language_info": {
   "codemirror_mode": {
    "name": "ipython",
    "version": 3
   },
   "file_extension": ".py",
   "mimetype": "text/x-python",
   "name": "python",
   "nbconvert_exporter": "python",
   "pygments_lexer": "ipython3",
   "version": "3.10.10"
  },
  "papermill": {
   "default_parameters": {},
   "duration": 15060.533775,
   "end_time": "2023-05-23T20:43:47.755415",
   "environment_variables": {},
   "exception": null,
   "input_path": "__notebook__.ipynb",
   "output_path": "__notebook__.ipynb",
   "parameters": {},
   "start_time": "2023-05-23T16:32:47.221640",
   "version": "2.4.0"
  }
 },
 "nbformat": 4,
 "nbformat_minor": 5
}
