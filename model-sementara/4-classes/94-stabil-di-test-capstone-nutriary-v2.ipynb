{
 "cells": [
  {
   "cell_type": "code",
   "execution_count": null,
   "id": "a3435e7b",
   "metadata": {
    "_cell_guid": "b1076dfc-b9ad-4769-8c92-a6c4dae69d19",
    "_uuid": "8f2839f25d086af736a60e9eeb907d3b93b6e0e5",
    "papermill": {
     "duration": 0.007298,
     "end_time": "2023-05-30T16:28:29.602863",
     "exception": false,
     "start_time": "2023-05-30T16:28:29.595565",
     "status": "completed"
    },
    "tags": []
   },
   "outputs": [],
   "source": []
  },
  {
   "cell_type": "markdown",
   "id": "0324dd35",
   "metadata": {
    "papermill": {
     "duration": 0.004881,
     "end_time": "2023-05-30T16:28:29.613076",
     "exception": false,
     "start_time": "2023-05-30T16:28:29.608195",
     "status": "completed"
    },
    "tags": []
   },
   "source": [
    "path train: '/kaggle/input/indonesian-food/dataset/train'<br>\n",
    "path test: '/kaggle/input/indonesian-food/dataset/test'<br>\n",
    "path valid: '/kaggle/input/indonesian-food/dataset/valid'<br>\n",
    "ada 5 kelas: bakso gado gudeg rendang sate"
   ]
  },
  {
   "cell_type": "code",
   "execution_count": 1,
   "id": "1534862f",
   "metadata": {
    "execution": {
     "iopub.execute_input": "2023-05-30T16:28:29.625416Z",
     "iopub.status.busy": "2023-05-30T16:28:29.624950Z",
     "iopub.status.idle": "2023-05-30T16:28:29.630508Z",
     "shell.execute_reply": "2023-05-30T16:28:29.629631Z"
    },
    "papermill": {
     "duration": 0.015132,
     "end_time": "2023-05-30T16:28:29.633536",
     "exception": false,
     "start_time": "2023-05-30T16:28:29.618404",
     "status": "completed"
    },
    "tags": []
   },
   "outputs": [],
   "source": [
    "# import tensorflow as tf\n",
    "# from tensorflow import keras\n",
    "# from PIL import Image\n",
    "# import os\n",
    "# import numpy as np\n",
    "# # Let's check size of images\n",
    "# base_dir = '/kaggle/input/indonesian-food/dataset/train/bakso'\n",
    "# for image in list(os.walk(\"/kaggle/input/indonesian-food/dataset/train/bakso\"))[0][2]:\n",
    "#   a = Image.open(os.path.join(base_dir, image))\n",
    "#   print(np.asarray(a).shape)"
   ]
  },
  {
   "cell_type": "code",
   "execution_count": 2,
   "id": "73930e13",
   "metadata": {
    "execution": {
     "iopub.execute_input": "2023-05-30T16:28:29.645727Z",
     "iopub.status.busy": "2023-05-30T16:28:29.644898Z",
     "iopub.status.idle": "2023-05-30T16:28:36.279672Z",
     "shell.execute_reply": "2023-05-30T16:28:36.278626Z"
    },
    "papermill": {
     "duration": 6.643215,
     "end_time": "2023-05-30T16:28:36.281860",
     "exception": false,
     "start_time": "2023-05-30T16:28:29.638645",
     "status": "completed"
    },
    "tags": []
   },
   "outputs": [
    {
     "name": "stderr",
     "output_type": "stream",
     "text": [
      "/opt/conda/lib/python3.10/site-packages/scipy/__init__.py:146: UserWarning: A NumPy version >=1.16.5 and <1.23.0 is required for this version of SciPy (detected version 1.23.5\n",
      "  warnings.warn(f\"A NumPy version >={np_minversion} and <{np_maxversion}\"\n"
     ]
    },
    {
     "name": "stdout",
     "output_type": "stream",
     "text": [
      "\\u2022 Using TensorFlow Version: 2.11.0\n"
     ]
    }
   ],
   "source": [
    "import tensorflow as tf\n",
    "\n",
    "print('\\\\u2022 Using TensorFlow Version:', tf.__version__)"
   ]
  },
  {
   "cell_type": "code",
   "execution_count": 3,
   "id": "adcc4871",
   "metadata": {
    "execution": {
     "iopub.execute_input": "2023-05-30T16:28:36.294572Z",
     "iopub.status.busy": "2023-05-30T16:28:36.294001Z",
     "iopub.status.idle": "2023-05-30T16:28:36.299025Z",
     "shell.execute_reply": "2023-05-30T16:28:36.298165Z"
    },
    "papermill": {
     "duration": 0.013276,
     "end_time": "2023-05-30T16:28:36.300872",
     "exception": false,
     "start_time": "2023-05-30T16:28:36.287596",
     "status": "completed"
    },
    "tags": []
   },
   "outputs": [],
   "source": [
    "# import os\n",
    "\n",
    "# base_dir = '/kaggle/input/indonesian-food/dataset/train'\n",
    "\n",
    "# bakso_dir = os.path.join(base_dir, 'bakso')\n",
    "# gado_dir = os.path.join(base_dir, 'gado')\n",
    "# gudeg_dir = os.path.join(base_dir, 'gudeg')\n",
    "# rendang_dir = os.path.join(base_dir, 'rendang')\n",
    "# sate_dir = os.path.join(base_dir, 'sate')\n",
    "\n",
    "# print('total training bakso images:', len(os.listdir(bakso_dir)))\n",
    "# print('total training gado images:', len(os.listdir(gado_dir)))\n",
    "# print('total training gudeg images:', len(os.listdir(gudeg_dir)))\n",
    "# print('total training rendang images:', len(os.listdir(rendang_dir)))\n",
    "# print('total training sate images:', len(os.listdir(sate_dir)))\n",
    "\n",
    "# bakso_files = os.listdir(bakso_dir)\n",
    "# print(bakso_files[:10])\n",
    "\n",
    "# gado_files = os.listdir(gado_dir)\n",
    "# print(gado_files[:10])\n",
    "\n",
    "# gudeg_files = os.listdir(gudeg_dir)\n",
    "# print(gudeg_files[:10])\n",
    "\n",
    "# rendang_files = os.listdir(rendang_dir)\n",
    "# print(rendang_files[:10])\n",
    "\n",
    "# sate_files = os.listdir(sate_dir)\n",
    "# print(sate_files[:10])"
   ]
  },
  {
   "cell_type": "code",
   "execution_count": 4,
   "id": "4af527ea",
   "metadata": {
    "execution": {
     "iopub.execute_input": "2023-05-30T16:28:36.312873Z",
     "iopub.status.busy": "2023-05-30T16:28:36.312615Z",
     "iopub.status.idle": "2023-05-30T16:29:10.467095Z",
     "shell.execute_reply": "2023-05-30T16:29:10.465923Z"
    },
    "papermill": {
     "duration": 34.163042,
     "end_time": "2023-05-30T16:29:10.469331",
     "exception": false,
     "start_time": "2023-05-30T16:28:36.306289",
     "status": "completed"
    },
    "tags": []
   },
   "outputs": [],
   "source": [
    "# Common imports\n",
    "import os\n",
    "import numpy as np\n",
    "import tensorflow as tf\n",
    "from tensorflow import keras\n",
    "from typing import Tuple, List\n",
    "\n",
    "# Data Imports\n",
    "import pandas as pd\n",
    "from tqdm import tqdm\n",
    "from glob import glob\n",
    "from tensorflow import data as tfd\n",
    "from tensorflow import image as tfi\n",
    "\n",
    "# Data Visualization\n",
    "import plotly.express as px\n",
    "import matplotlib.pyplot as plt\n",
    "from IPython.display import clear_output as cls\n",
    "\n",
    "# Model Architecture\n",
    "from tensorflow.keras import Sequential\n",
    "from tensorflow.keras.applications import ResNet50V2\n",
    "from tensorflow.keras.applications import ResNet152V2\n",
    "from tensorflow.keras.applications import InceptionV3\n",
    "from tensorflow.keras.applications import Xception\n",
    "from tensorflow.keras.layers import GlobalAveragePooling2D, Dropout, Dense\n",
    "import tensorflow.keras.layers as tflayers\n",
    "\n",
    "# Model Training\n",
    "from tensorflow.keras.callbacks import EarlyStopping\n",
    "from tensorflow.keras.callbacks import ModelCheckpoint\n",
    "from sklearn.metrics import precision_score, recall_score, f1_score, classification_report\n",
    "import tensorflow.keras.layers as tflayers\n",
    "from tensorflow.keras.models import Sequential\n",
    "from tensorflow.keras.optimizers import Adam, RMSprop\n",
    "from tensorflow.keras.preprocessing.image import ImageDataGenerator\n",
    "from keras_tuner import HyperModel, RandomSearch\n",
    "from keras_tuner.engine.hyperparameters import HyperParameters\n",
    "\n",
    "# Model Hypertunning\n",
    "!pip install -q keras_tuner\n",
    "!pip install Keras-Preprocessing\n",
    "cls()\n",
    "import keras_tuner as kt\n",
    "from keras_tuner import HyperModel, RandomSearch\n",
    "from keras_tuner.engine.hyperparameters import HyperParameters\n"
   ]
  },
  {
   "cell_type": "code",
   "execution_count": 5,
   "id": "b9165429",
   "metadata": {
    "execution": {
     "iopub.execute_input": "2023-05-30T16:29:10.482919Z",
     "iopub.status.busy": "2023-05-30T16:29:10.482009Z",
     "iopub.status.idle": "2023-05-30T16:29:10.487531Z",
     "shell.execute_reply": "2023-05-30T16:29:10.486602Z"
    },
    "papermill": {
     "duration": 0.014389,
     "end_time": "2023-05-30T16:29:10.489488",
     "exception": false,
     "start_time": "2023-05-30T16:29:10.475099",
     "status": "completed"
    },
    "tags": []
   },
   "outputs": [],
   "source": [
    "IMAGE_SIZE = 224\n",
    "BATCH_SIZE = 32\n",
    "CLASS_NAMES = ['bakso', 'gado', 'rendang', 'sate']"
   ]
  },
  {
   "cell_type": "code",
   "execution_count": 6,
   "id": "eeac2d27",
   "metadata": {
    "execution": {
     "iopub.execute_input": "2023-05-30T16:29:10.502425Z",
     "iopub.status.busy": "2023-05-30T16:29:10.501598Z",
     "iopub.status.idle": "2023-05-30T16:29:13.110131Z",
     "shell.execute_reply": "2023-05-30T16:29:13.109171Z"
    },
    "papermill": {
     "duration": 2.61746,
     "end_time": "2023-05-30T16:29:13.112512",
     "exception": false,
     "start_time": "2023-05-30T16:29:10.495052",
     "status": "completed"
    },
    "tags": []
   },
   "outputs": [],
   "source": [
    "# with tf.device('/gpu:0'):\n",
    "model = Sequential()\n",
    "\n",
    "# base_model = Xception(\n",
    "#     input_shape = (IMAGE_SIZE, IMAGE_SIZE, 3),\n",
    "#     include_top=False,\n",
    "#     weights='imagenet'\n",
    "# )\n",
    "# model.add(base_model)\n",
    "# model.add(tf.keras.layers.GlobalAveragePooling2D())\n",
    "\n",
    "# nontransfer learning\n",
    "model.add(tflayers.RandomFlip(\"horizontal_and_vertical\"))\n",
    "model.add(tflayers.RandomRotation(0.2))\n",
    "model.add(tflayers.Rescaling(1./255, offset=-1))\n",
    "model.add(tflayers.Conv2D(32, (3,3), activation='relu'))\n",
    "model.add(tflayers.MaxPooling2D(2,2))\n",
    "\n",
    "model.add(tflayers.Conv2D(64, (3,3), activation='relu'))\n",
    "model.add(tflayers.MaxPooling2D(2,2))\n",
    "\n",
    "model.add(tflayers.Conv2D(128, (3,3), activation='relu'))\n",
    "model.add(tflayers.MaxPooling2D(2,2))\n",
    "model.add(tflayers.Conv2D(256, (3,3), activation='relu'))\n",
    "model.add(tflayers.MaxPooling2D(2,2))\n",
    "model.add(tflayers.Conv2D(256, (3,3), activation='relu'))\n",
    "model.add(tflayers.MaxPooling2D(2,2))\n",
    "model.add(tflayers.Flatten())\n",
    "\n",
    "# Tune the hyperparameters for the Dense layer\n",
    "model.add(Dense(512, activation='relu'))\n",
    "model.add(tflayers.Dropout(0.2))\n",
    "model.add(Dense(4, activation='softmax'))\n",
    "\n",
    "initial_LR = 1e-3\n",
    "optimizer = tf.keras.optimizers.Adam(learning_rate=initial_LR)\n",
    "new_learning_rate = 9e-4\n",
    "optimizer.learning_rate.assign(new_learning_rate)\n",
    "\n",
    "model.compile(\n",
    "    optimizer=optimizer, \n",
    "    loss=tf.keras.losses.CategoricalCrossentropy(), \n",
    "    metrics=['accuracy']\n",
    ")\n",
    "\n",
    "# Print the model summary\n"
   ]
  },
  {
   "cell_type": "code",
   "execution_count": 7,
   "id": "b9bb82fe",
   "metadata": {
    "execution": {
     "iopub.execute_input": "2023-05-30T16:29:13.126708Z",
     "iopub.status.busy": "2023-05-30T16:29:13.125263Z",
     "iopub.status.idle": "2023-05-30T16:29:13.130606Z",
     "shell.execute_reply": "2023-05-30T16:29:13.129701Z"
    },
    "papermill": {
     "duration": 0.01405,
     "end_time": "2023-05-30T16:29:13.132512",
     "exception": false,
     "start_time": "2023-05-30T16:29:13.118462",
     "status": "completed"
    },
    "tags": []
   },
   "outputs": [],
   "source": [
    "# model.summary()"
   ]
  },
  {
   "cell_type": "code",
   "execution_count": 8,
   "id": "17777fed",
   "metadata": {
    "execution": {
     "iopub.execute_input": "2023-05-30T16:29:13.146205Z",
     "iopub.status.busy": "2023-05-30T16:29:13.144828Z",
     "iopub.status.idle": "2023-05-30T16:29:16.137018Z",
     "shell.execute_reply": "2023-05-30T16:29:16.136117Z"
    },
    "papermill": {
     "duration": 3.001366,
     "end_time": "2023-05-30T16:29:16.139613",
     "exception": false,
     "start_time": "2023-05-30T16:29:13.138247",
     "status": "completed"
    },
    "tags": []
   },
   "outputs": [
    {
     "name": "stdout",
     "output_type": "stream",
     "text": [
      "Found 7754 files belonging to 4 classes.\n",
      "Found 866 files belonging to 4 classes.\n"
     ]
    }
   ],
   "source": [
    "TRAINING_DIR = \"/kaggle/input/indonesian-food/dataset/train\"\n",
    "VALIDATION_DIR = \"/kaggle/input/indonesian-food/dataset/test\"\n",
    "\n",
    "train_generator = tf.keras.utils.image_dataset_from_directory(\n",
    "    TRAINING_DIR,\n",
    "    batch_size=BATCH_SIZE,\n",
    "    label_mode='categorical',\n",
    "    class_names=CLASS_NAMES,\n",
    "    image_size=(IMAGE_SIZE, IMAGE_SIZE)\n",
    "    \n",
    ")\n",
    "\n",
    "validation_generator = tf.keras.utils.image_dataset_from_directory(\n",
    "    VALIDATION_DIR,\n",
    "    batch_size=BATCH_SIZE,\n",
    "    label_mode='categorical',\n",
    "    class_names=CLASS_NAMES,\n",
    "    image_size=(IMAGE_SIZE, IMAGE_SIZE)\n",
    "    \n",
    ")"
   ]
  },
  {
   "cell_type": "code",
   "execution_count": 9,
   "id": "2e081318",
   "metadata": {
    "execution": {
     "iopub.execute_input": "2023-05-30T16:29:16.153239Z",
     "iopub.status.busy": "2023-05-30T16:29:16.152691Z",
     "iopub.status.idle": "2023-05-30T16:29:16.157159Z",
     "shell.execute_reply": "2023-05-30T16:29:16.156516Z"
    },
    "papermill": {
     "duration": 0.013564,
     "end_time": "2023-05-30T16:29:16.159218",
     "exception": false,
     "start_time": "2023-05-30T16:29:16.145654",
     "status": "completed"
    },
    "tags": []
   },
   "outputs": [],
   "source": [
    "# Perform hyperparameter tuning\n",
    "# tuner.search(\n",
    "#     train_generator, \n",
    "#     validation_data=validation_generator, \n",
    "#     epochs=10\n",
    "# #     steps_per_epoch=100\n",
    "# )\n",
    "\n",
    "# Get the best hyperparameters and build the final model\n",
    "# best_hps = tuner.get_best_hyperparameters(num_trials=1)[0]\n",
    "# model = tuner.hypermodel.build(best_hps)"
   ]
  },
  {
   "cell_type": "code",
   "execution_count": 10,
   "id": "a5cbc33e",
   "metadata": {
    "execution": {
     "iopub.execute_input": "2023-05-30T16:29:16.171951Z",
     "iopub.status.busy": "2023-05-30T16:29:16.171687Z",
     "iopub.status.idle": "2023-05-30T17:00:09.025156Z",
     "shell.execute_reply": "2023-05-30T17:00:09.024042Z"
    },
    "papermill": {
     "duration": 1852.865034,
     "end_time": "2023-05-30T17:00:09.030100",
     "exception": false,
     "start_time": "2023-05-30T16:29:16.165066",
     "status": "completed"
    },
    "tags": []
   },
   "outputs": [
    {
     "name": "stdout",
     "output_type": "stream",
     "text": [
      "Epoch 1/50\n",
      "243/243 [==============================] - 49s 153ms/step - loss: 1.1200 - accuracy: 0.4828 - val_loss: 0.8648 - val_accuracy: 0.6236\n",
      "Epoch 2/50\n",
      "243/243 [==============================] - 35s 141ms/step - loss: 0.8641 - accuracy: 0.6322 - val_loss: 0.9708 - val_accuracy: 0.5670\n",
      "Epoch 3/50\n",
      "243/243 [==============================] - 35s 140ms/step - loss: 0.7439 - accuracy: 0.6964 - val_loss: 0.6404 - val_accuracy: 0.7552\n",
      "Epoch 4/50\n",
      "243/243 [==============================] - 34s 140ms/step - loss: 0.6967 - accuracy: 0.7236 - val_loss: 0.6115 - val_accuracy: 0.7552\n",
      "Epoch 5/50\n",
      "243/243 [==============================] - 34s 140ms/step - loss: 0.6332 - accuracy: 0.7514 - val_loss: 0.5469 - val_accuracy: 0.7968\n",
      "Epoch 6/50\n",
      "243/243 [==============================] - 36s 145ms/step - loss: 0.5757 - accuracy: 0.7761 - val_loss: 0.4529 - val_accuracy: 0.8268\n",
      "Epoch 7/50\n",
      "243/243 [==============================] - 34s 139ms/step - loss: 0.5133 - accuracy: 0.7956 - val_loss: 0.4360 - val_accuracy: 0.8441\n",
      "Epoch 8/50\n",
      "243/243 [==============================] - 35s 141ms/step - loss: 0.4607 - accuracy: 0.8280 - val_loss: 0.4025 - val_accuracy: 0.8418\n",
      "Epoch 9/50\n",
      "243/243 [==============================] - 34s 140ms/step - loss: 0.4124 - accuracy: 0.8428 - val_loss: 0.4599 - val_accuracy: 0.8349\n",
      "Epoch 10/50\n",
      "243/243 [==============================] - 34s 140ms/step - loss: 0.3804 - accuracy: 0.8545 - val_loss: 0.3506 - val_accuracy: 0.8661\n",
      "Epoch 11/50\n",
      "243/243 [==============================] - 35s 141ms/step - loss: 0.3448 - accuracy: 0.8717 - val_loss: 0.3358 - val_accuracy: 0.8811\n",
      "Epoch 12/50\n",
      "243/243 [==============================] - 34s 140ms/step - loss: 0.3216 - accuracy: 0.8823 - val_loss: 0.4557 - val_accuracy: 0.8568\n",
      "Epoch 13/50\n",
      "243/243 [==============================] - 36s 144ms/step - loss: 0.3197 - accuracy: 0.8833 - val_loss: 0.3044 - val_accuracy: 0.8857\n",
      "Epoch 14/50\n",
      "243/243 [==============================] - 35s 144ms/step - loss: 0.2911 - accuracy: 0.8900 - val_loss: 0.3144 - val_accuracy: 0.8903\n",
      "Epoch 15/50\n",
      "243/243 [==============================] - 35s 144ms/step - loss: 0.2817 - accuracy: 0.9010 - val_loss: 0.3364 - val_accuracy: 0.8764\n",
      "Epoch 16/50\n",
      "243/243 [==============================] - 35s 144ms/step - loss: 0.2641 - accuracy: 0.9029 - val_loss: 0.2727 - val_accuracy: 0.8949\n",
      "Epoch 17/50\n",
      "243/243 [==============================] - 35s 143ms/step - loss: 0.2160 - accuracy: 0.9244 - val_loss: 0.3535 - val_accuracy: 0.8903\n",
      "Epoch 18/50\n",
      "243/243 [==============================] - 35s 143ms/step - loss: 0.2215 - accuracy: 0.9168 - val_loss: 0.4062 - val_accuracy: 0.8741\n",
      "Epoch 19/50\n",
      "243/243 [==============================] - 35s 143ms/step - loss: 0.1976 - accuracy: 0.9261 - val_loss: 0.2315 - val_accuracy: 0.9111\n",
      "Epoch 20/50\n",
      "243/243 [==============================] - 35s 142ms/step - loss: 0.1811 - accuracy: 0.9342 - val_loss: 0.2887 - val_accuracy: 0.9088\n",
      "Epoch 21/50\n",
      "243/243 [==============================] - 35s 141ms/step - loss: 0.1819 - accuracy: 0.9362 - val_loss: 0.2409 - val_accuracy: 0.9238\n",
      "Epoch 22/50\n",
      "243/243 [==============================] - 35s 141ms/step - loss: 0.1806 - accuracy: 0.9345 - val_loss: 0.2392 - val_accuracy: 0.9273\n",
      "Epoch 23/50\n",
      "243/243 [==============================] - 35s 142ms/step - loss: 0.1697 - accuracy: 0.9377 - val_loss: 0.2470 - val_accuracy: 0.9088\n",
      "Epoch 24/50\n",
      "243/243 [==============================] - 34s 140ms/step - loss: 0.1580 - accuracy: 0.9407 - val_loss: 0.2136 - val_accuracy: 0.9342\n",
      "Epoch 25/50\n",
      "243/243 [==============================] - 35s 144ms/step - loss: 0.1544 - accuracy: 0.9453 - val_loss: 0.2456 - val_accuracy: 0.9169\n",
      "Epoch 26/50\n",
      "243/243 [==============================] - 35s 144ms/step - loss: 0.1427 - accuracy: 0.9502 - val_loss: 0.2806 - val_accuracy: 0.9122\n",
      "Epoch 27/50\n",
      "243/243 [==============================] - 35s 142ms/step - loss: 0.1259 - accuracy: 0.9518 - val_loss: 0.2415 - val_accuracy: 0.9342\n",
      "Epoch 28/50\n",
      "243/243 [==============================] - 35s 142ms/step - loss: 0.1377 - accuracy: 0.9491 - val_loss: 0.2500 - val_accuracy: 0.9238\n",
      "Epoch 29/50\n",
      "243/243 [==============================] - 35s 140ms/step - loss: 0.1274 - accuracy: 0.9567 - val_loss: 0.2279 - val_accuracy: 0.9353\n",
      "Epoch 30/50\n",
      "243/243 [==============================] - 35s 140ms/step - loss: 0.1120 - accuracy: 0.9599 - val_loss: 0.2574 - val_accuracy: 0.9249\n",
      "Epoch 31/50\n",
      "243/243 [==============================] - 35s 141ms/step - loss: 0.1325 - accuracy: 0.9546 - val_loss: 0.2724 - val_accuracy: 0.9111\n",
      "Epoch 32/50\n",
      "243/243 [==============================] - 35s 140ms/step - loss: 0.1216 - accuracy: 0.9580 - val_loss: 0.2619 - val_accuracy: 0.9122\n",
      "Epoch 33/50\n",
      "243/243 [==============================] - 35s 143ms/step - loss: 0.1099 - accuracy: 0.9618 - val_loss: 0.3250 - val_accuracy: 0.9088\n",
      "Epoch 34/50\n",
      "243/243 [==============================] - 35s 140ms/step - loss: 0.1040 - accuracy: 0.9644 - val_loss: 0.3146 - val_accuracy: 0.9203\n",
      "Epoch 35/50\n",
      "243/243 [==============================] - 35s 141ms/step - loss: 0.0988 - accuracy: 0.9643 - val_loss: 0.3087 - val_accuracy: 0.9215\n",
      "Epoch 36/50\n",
      "243/243 [==============================] - 36s 145ms/step - loss: 0.0976 - accuracy: 0.9656 - val_loss: 0.2791 - val_accuracy: 0.9226\n",
      "Epoch 37/50\n",
      "243/243 [==============================] - 36s 146ms/step - loss: 0.1064 - accuracy: 0.9634 - val_loss: 0.3214 - val_accuracy: 0.9215\n",
      "Epoch 38/50\n",
      "243/243 [==============================] - 35s 143ms/step - loss: 0.1117 - accuracy: 0.9634 - val_loss: 0.2481 - val_accuracy: 0.9273\n",
      "Epoch 39/50\n",
      "243/243 [==============================] - 35s 144ms/step - loss: 0.0928 - accuracy: 0.9671 - val_loss: 0.3026 - val_accuracy: 0.9261\n",
      "Epoch 40/50\n",
      "243/243 [==============================] - 35s 141ms/step - loss: 0.0881 - accuracy: 0.9701 - val_loss: 0.3313 - val_accuracy: 0.9099\n",
      "Epoch 41/50\n",
      "243/243 [==============================] - 35s 142ms/step - loss: 0.0923 - accuracy: 0.9669 - val_loss: 0.2624 - val_accuracy: 0.9284\n",
      "Epoch 42/50\n",
      "243/243 [==============================] - 36s 148ms/step - loss: 0.0954 - accuracy: 0.9648 - val_loss: 0.2557 - val_accuracy: 0.9388\n",
      "Epoch 43/50\n",
      "243/243 [==============================] - 35s 141ms/step - loss: 0.0884 - accuracy: 0.9714 - val_loss: 0.2746 - val_accuracy: 0.9226\n",
      "Epoch 44/50\n",
      "243/243 [==============================] - 35s 142ms/step - loss: 0.0932 - accuracy: 0.9665 - val_loss: 0.3099 - val_accuracy: 0.9203\n",
      "Epoch 45/50\n",
      "243/243 [==============================] - 36s 143ms/step - loss: 0.0930 - accuracy: 0.9685 - val_loss: 0.2638 - val_accuracy: 0.9296\n",
      "Epoch 46/50\n",
      "243/243 [==============================] - 36s 145ms/step - loss: 0.0877 - accuracy: 0.9706 - val_loss: 0.4577 - val_accuracy: 0.8961\n",
      "Epoch 47/50\n",
      "243/243 [==============================] - 35s 141ms/step - loss: 0.0745 - accuracy: 0.9767 - val_loss: 0.2933 - val_accuracy: 0.9238\n",
      "Epoch 48/50\n",
      "243/243 [==============================] - 35s 144ms/step - loss: 0.1033 - accuracy: 0.9658 - val_loss: 0.2823 - val_accuracy: 0.9365\n",
      "Epoch 49/50\n",
      "243/243 [==============================] - 35s 142ms/step - loss: 0.0834 - accuracy: 0.9715 - val_loss: 0.2735 - val_accuracy: 0.9273\n",
      "Epoch 50/50\n",
      "243/243 [==============================] - 35s 140ms/step - loss: 0.0722 - accuracy: 0.9786 - val_loss: 0.3876 - val_accuracy: 0.9215\n",
      "Best epoch: 42\n"
     ]
    }
   ],
   "source": [
    "# Build the model with the optimal hyperparameters and train it on the data for 50 epochs\n",
    "# model = tuner.hypermodel.build(best_hps)\n",
    "# with tf.device('/gpu:0'):\n",
    "# Train the model\n",
    "history = model.fit(\n",
    "    train_generator, \n",
    "    epochs=50, \n",
    "    verbose=1, \n",
    "    validation_data = validation_generator\n",
    ")\n",
    "\n",
    "val_acc_per_epoch = history.history['val_accuracy']\n",
    "best_epoch = val_acc_per_epoch.index(max(val_acc_per_epoch)) + 1\n",
    "print('Best epoch: %d' % (best_epoch,))"
   ]
  },
  {
   "cell_type": "code",
   "execution_count": 11,
   "id": "38af2c38",
   "metadata": {
    "execution": {
     "iopub.execute_input": "2023-05-30T17:00:10.907151Z",
     "iopub.status.busy": "2023-05-30T17:00:10.906755Z",
     "iopub.status.idle": "2023-05-30T17:00:11.332379Z",
     "shell.execute_reply": "2023-05-30T17:00:11.331413Z"
    },
    "papermill": {
     "duration": 1.39424,
     "end_time": "2023-05-30T17:00:11.334408",
     "exception": false,
     "start_time": "2023-05-30T17:00:09.940168",
     "status": "completed"
    },
    "tags": []
   },
   "outputs": [
    {
     "data": {
      "image/png": "[encoded data removed]",
      "text/plain": [
       "<Figure size 1200x400 with 2 Axes>"
      ]
     },
     "metadata": {},
     "output_type": "display_data"
    }
   ],
   "source": [
    "import matplotlib.pyplot as plt\n",
    "\n",
    "# Plot the results\n",
    "acc = history.history['accuracy']\n",
    "val_acc = history.history['val_accuracy']\n",
    "loss = history.history['loss']\n",
    "val_loss = history.history['val_loss']\n",
    "\n",
    "epochs = range(len(acc))\n",
    "\n",
    "figure, axis = plt.subplots(1, 2, figsize=(12, 4))\n",
    "\n",
    "axis[0].plot(epochs, acc, 'r', label='Training accuracy')\n",
    "axis[0].plot(epochs, val_acc, 'b', label='Validation accuracy')\n",
    "axis[0].set_title(\"Training and validation accuracy\")\n",
    "axis[0].legend(loc=0)\n",
    "\n",
    "axis[1].plot(epochs, loss, 'r', label='Training loss')\n",
    "axis[1].plot(epochs, val_loss, 'b', label='Validation loss')\n",
    "axis[1].set_title(\"Training and validation loss\")\n",
    "axis[1].legend(loc=0)\n",
    "\n",
    "\n",
    "plt.show()"
   ]
  },
  {
   "cell_type": "code",
   "execution_count": 12,
   "id": "65f64b91",
   "metadata": {
    "execution": {
     "iopub.execute_input": "2023-05-30T17:00:13.262149Z",
     "iopub.status.busy": "2023-05-30T17:00:13.261770Z",
     "iopub.status.idle": "2023-05-30T17:00:13.266775Z",
     "shell.execute_reply": "2023-05-30T17:00:13.265735Z"
    },
    "papermill": {
     "duration": 1.017971,
     "end_time": "2023-05-30T17:00:13.269010",
     "exception": false,
     "start_time": "2023-05-30T17:00:12.251039",
     "status": "completed"
    },
    "tags": []
   },
   "outputs": [],
   "source": [
    "save_locally = tf.saved_model.SaveOptions(experimental_io_device='/job:localhost')\n",
    "checkpoints_cb = tf.keras.callbacks.ModelCheckpoint('./checkpoints', options=save_locally)"
   ]
  },
  {
   "cell_type": "code",
   "execution_count": 13,
   "id": "24fa69a4",
   "metadata": {
    "execution": {
     "iopub.execute_input": "2023-05-30T17:00:15.165181Z",
     "iopub.status.busy": "2023-05-30T17:00:15.164394Z",
     "iopub.status.idle": "2023-05-30T17:28:21.965012Z",
     "shell.execute_reply": "2023-05-30T17:28:21.963914Z"
    },
    "papermill": {
     "duration": 1687.731871,
     "end_time": "2023-05-30T17:28:21.967854",
     "exception": false,
     "start_time": "2023-05-30T17:00:14.235983",
     "status": "completed"
    },
    "tags": []
   },
   "outputs": [
    {
     "name": "stdout",
     "output_type": "stream",
     "text": [
      "Epoch 1/42\n",
      "243/243 [==============================] - 39s 159ms/step - loss: 0.0606 - accuracy: 0.9798 - val_loss: 0.3213 - val_accuracy: 0.9145\n",
      "Epoch 2/42\n",
      "243/243 [==============================] - 39s 158ms/step - loss: 0.0817 - accuracy: 0.9738 - val_loss: 0.3055 - val_accuracy: 0.9169\n",
      "Epoch 3/42\n",
      "243/243 [==============================] - 39s 159ms/step - loss: 0.0742 - accuracy: 0.9730 - val_loss: 0.3580 - val_accuracy: 0.9203\n",
      "Epoch 4/42\n",
      "243/243 [==============================] - 39s 160ms/step - loss: 0.0516 - accuracy: 0.9826 - val_loss: 0.3218 - val_accuracy: 0.9296\n",
      "Epoch 5/42\n",
      "243/243 [==============================] - 39s 157ms/step - loss: 0.0733 - accuracy: 0.9742 - val_loss: 0.4066 - val_accuracy: 0.9180\n",
      "Epoch 6/42\n",
      "243/243 [==============================] - 40s 161ms/step - loss: 0.0828 - accuracy: 0.9716 - val_loss: 0.2988 - val_accuracy: 0.9273\n",
      "Epoch 7/42\n",
      "243/243 [==============================] - 39s 161ms/step - loss: 0.0834 - accuracy: 0.9721 - val_loss: 0.3406 - val_accuracy: 0.9330\n",
      "Epoch 8/42\n",
      "243/243 [==============================] - 39s 158ms/step - loss: 0.0697 - accuracy: 0.9769 - val_loss: 0.3231 - val_accuracy: 0.9376\n",
      "Epoch 9/42\n",
      "243/243 [==============================] - 39s 160ms/step - loss: 0.0619 - accuracy: 0.9795 - val_loss: 0.3710 - val_accuracy: 0.9169\n",
      "Epoch 10/42\n",
      "243/243 [==============================] - 39s 158ms/step - loss: 0.0674 - accuracy: 0.9764 - val_loss: 0.3119 - val_accuracy: 0.9353\n",
      "Epoch 11/42\n",
      "243/243 [==============================] - 39s 161ms/step - loss: 0.0684 - accuracy: 0.9783 - val_loss: 0.3046 - val_accuracy: 0.9388\n",
      "Epoch 12/42\n",
      "243/243 [==============================] - 39s 157ms/step - loss: 0.0761 - accuracy: 0.9749 - val_loss: 0.2663 - val_accuracy: 0.9307\n",
      "Epoch 13/42\n",
      "243/243 [==============================] - 39s 160ms/step - loss: 0.0502 - accuracy: 0.9831 - val_loss: 0.2787 - val_accuracy: 0.9411\n",
      "Epoch 14/42\n",
      "243/243 [==============================] - 39s 159ms/step - loss: 0.0673 - accuracy: 0.9768 - val_loss: 0.4062 - val_accuracy: 0.9192\n",
      "Epoch 15/42\n",
      "243/243 [==============================] - 40s 161ms/step - loss: 0.0724 - accuracy: 0.9767 - val_loss: 0.3805 - val_accuracy: 0.9296\n",
      "Epoch 16/42\n",
      "243/243 [==============================] - 40s 161ms/step - loss: 0.0625 - accuracy: 0.9796 - val_loss: 0.3137 - val_accuracy: 0.9284\n",
      "Epoch 17/42\n",
      "243/243 [==============================] - 39s 159ms/step - loss: 0.0519 - accuracy: 0.9830 - val_loss: 0.2752 - val_accuracy: 0.9411\n",
      "Epoch 18/42\n",
      "243/243 [==============================] - 40s 163ms/step - loss: 0.0555 - accuracy: 0.9805 - val_loss: 0.3397 - val_accuracy: 0.9284\n",
      "Epoch 19/42\n",
      "243/243 [==============================] - 39s 160ms/step - loss: 0.0821 - accuracy: 0.9752 - val_loss: 0.4184 - val_accuracy: 0.9192\n",
      "Epoch 20/42\n",
      "243/243 [==============================] - 40s 161ms/step - loss: 0.0772 - accuracy: 0.9756 - val_loss: 0.4759 - val_accuracy: 0.9030\n",
      "Epoch 21/42\n",
      "243/243 [==============================] - 39s 161ms/step - loss: 0.0548 - accuracy: 0.9818 - val_loss: 0.3061 - val_accuracy: 0.9249\n",
      "Epoch 22/42\n",
      "243/243 [==============================] - 40s 162ms/step - loss: 0.0581 - accuracy: 0.9822 - val_loss: 0.3521 - val_accuracy: 0.9215\n",
      "Epoch 23/42\n",
      "243/243 [==============================] - 40s 162ms/step - loss: 0.0742 - accuracy: 0.9737 - val_loss: 0.2636 - val_accuracy: 0.9365\n",
      "Epoch 24/42\n",
      "243/243 [==============================] - 39s 160ms/step - loss: 0.0577 - accuracy: 0.9810 - val_loss: 0.3498 - val_accuracy: 0.9249\n",
      "Epoch 25/42\n",
      "243/243 [==============================] - 40s 163ms/step - loss: 0.0507 - accuracy: 0.9830 - val_loss: 0.4537 - val_accuracy: 0.9145\n",
      "Epoch 26/42\n",
      "243/243 [==============================] - 40s 162ms/step - loss: 0.0502 - accuracy: 0.9843 - val_loss: 0.3761 - val_accuracy: 0.9400\n",
      "Epoch 27/42\n",
      "243/243 [==============================] - 40s 163ms/step - loss: 0.0812 - accuracy: 0.9721 - val_loss: 0.2900 - val_accuracy: 0.9353\n",
      "Epoch 28/42\n",
      "243/243 [==============================] - 40s 163ms/step - loss: 0.0476 - accuracy: 0.9848 - val_loss: 0.4159 - val_accuracy: 0.9238\n",
      "Epoch 29/42\n",
      "243/243 [==============================] - 40s 161ms/step - loss: 0.0580 - accuracy: 0.9834 - val_loss: 0.3386 - val_accuracy: 0.9249\n",
      "Epoch 30/42\n",
      "243/243 [==============================] - 40s 160ms/step - loss: 0.0440 - accuracy: 0.9861 - val_loss: 0.3767 - val_accuracy: 0.9249\n",
      "Epoch 31/42\n",
      "243/243 [==============================] - 39s 161ms/step - loss: 0.0468 - accuracy: 0.9853 - val_loss: 0.4018 - val_accuracy: 0.9238\n",
      "Epoch 32/42\n",
      "243/243 [==============================] - 40s 163ms/step - loss: 0.0529 - accuracy: 0.9849 - val_loss: 0.3511 - val_accuracy: 0.9238\n",
      "Epoch 33/42\n",
      "243/243 [==============================] - 40s 163ms/step - loss: 0.0775 - accuracy: 0.9743 - val_loss: 0.4526 - val_accuracy: 0.9122\n",
      "Epoch 34/42\n",
      "243/243 [==============================] - 40s 163ms/step - loss: 0.0623 - accuracy: 0.9798 - val_loss: 0.3030 - val_accuracy: 0.9296\n",
      "Epoch 35/42\n",
      "243/243 [==============================] - 40s 161ms/step - loss: 0.0604 - accuracy: 0.9807 - val_loss: 0.3323 - val_accuracy: 0.9319\n",
      "Epoch 36/42\n",
      "243/243 [==============================] - 39s 160ms/step - loss: 0.0424 - accuracy: 0.9876 - val_loss: 0.3756 - val_accuracy: 0.9353\n",
      "Epoch 37/42\n",
      "243/243 [==============================] - 41s 167ms/step - loss: 0.0726 - accuracy: 0.9764 - val_loss: 0.3441 - val_accuracy: 0.9296\n",
      "Epoch 38/42\n",
      "243/243 [==============================] - 39s 160ms/step - loss: 0.0366 - accuracy: 0.9865 - val_loss: 0.3291 - val_accuracy: 0.9446\n",
      "Epoch 39/42\n",
      "243/243 [==============================] - 40s 164ms/step - loss: 0.0583 - accuracy: 0.9826 - val_loss: 0.3469 - val_accuracy: 0.9307\n",
      "Epoch 40/42\n",
      "243/243 [==============================] - 40s 163ms/step - loss: 0.0763 - accuracy: 0.9764 - val_loss: 0.3113 - val_accuracy: 0.9307\n",
      "Epoch 41/42\n",
      "243/243 [==============================] - 40s 164ms/step - loss: 0.0661 - accuracy: 0.9794 - val_loss: 0.3369 - val_accuracy: 0.9330\n",
      "Epoch 42/42\n",
      "243/243 [==============================] - 40s 161ms/step - loss: 0.0473 - accuracy: 0.9871 - val_loss: 0.3292 - val_accuracy: 0.9388\n"
     ]
    }
   ],
   "source": [
    "# hypermodel = tuner.hypermodel.build(best_hps)\n",
    "\n",
    "# Retrain the model\n",
    "historyFinal = model.fit(\n",
    "    train_generator, \n",
    "    epochs=best_epoch, \n",
    "    verbose=1,\n",
    "    validation_data = validation_generator,\n",
    "    callbacks=[checkpoints_cb]\n",
    ")"
   ]
  },
  {
   "cell_type": "code",
   "execution_count": 14,
   "id": "4a69cff7",
   "metadata": {
    "execution": {
     "iopub.execute_input": "2023-05-30T17:28:25.531747Z",
     "iopub.status.busy": "2023-05-30T17:28:25.530759Z",
     "iopub.status.idle": "2023-05-30T17:28:25.535459Z",
     "shell.execute_reply": "2023-05-30T17:28:25.534524Z"
    },
    "papermill": {
     "duration": 1.813872,
     "end_time": "2023-05-30T17:28:25.537511",
     "exception": false,
     "start_time": "2023-05-30T17:28:23.723639",
     "status": "completed"
    },
    "tags": []
   },
   "outputs": [],
   "source": [
    "# eval_result = hypermodel.evaluate(img_test, label_test)\n",
    "# print(\"[test loss, test accuracy]:\", eval_result)"
   ]
  },
  {
   "cell_type": "code",
   "execution_count": 15,
   "id": "639845e5",
   "metadata": {
    "execution": {
     "iopub.execute_input": "2023-05-30T17:28:29.042405Z",
     "iopub.status.busy": "2023-05-30T17:28:29.042026Z",
     "iopub.status.idle": "2023-05-30T17:28:29.423361Z",
     "shell.execute_reply": "2023-05-30T17:28:29.422376Z"
    },
    "papermill": {
     "duration": 2.066784,
     "end_time": "2023-05-30T17:28:29.425646",
     "exception": false,
     "start_time": "2023-05-30T17:28:27.358862",
     "status": "completed"
    },
    "tags": []
   },
   "outputs": [
    {
     "data": {
      "image/png": "[encoded data removed]",
      "text/plain": [
       "<Figure size 1200x400 with 2 Axes>"
      ]
     },
     "metadata": {},
     "output_type": "display_data"
    }
   ],
   "source": [
    "import matplotlib.pyplot as plt\n",
    "\n",
    "# Plot the results\n",
    "acc = historyFinal.history['accuracy']\n",
    "val_acc = historyFinal.history['val_accuracy']\n",
    "loss = historyFinal.history['loss']\n",
    "val_loss = historyFinal.history['val_loss']\n",
    "\n",
    "epochs = range(len(acc))\n",
    "\n",
    "figure, axis = plt.subplots(1, 2, figsize=(12, 4))\n",
    "\n",
    "axis[0].plot(epochs, acc, 'r', label='Training accuracy')\n",
    "axis[0].plot(epochs, val_acc, 'b', label='Validation accuracy')\n",
    "axis[0].set_title(\"Training and validation accuracy\")\n",
    "axis[0].legend(loc=0)\n",
    "\n",
    "axis[1].plot(epochs, loss, 'r', label='Training loss')\n",
    "axis[1].plot(epochs, val_loss, 'b', label='Validation loss')\n",
    "axis[1].set_title(\"Training and validation loss\")\n",
    "axis[1].legend(loc=0)\n",
    "\n",
    "\n",
    "plt.show()"
   ]
  },
  {
   "cell_type": "code",
   "execution_count": 16,
   "id": "5f635d2f",
   "metadata": {
    "execution": {
     "iopub.execute_input": "2023-05-30T17:28:32.898559Z",
     "iopub.status.busy": "2023-05-30T17:28:32.898200Z",
     "iopub.status.idle": "2023-05-30T17:28:34.715437Z",
     "shell.execute_reply": "2023-05-30T17:28:34.714509Z"
    },
    "papermill": {
     "duration": 3.55989,
     "end_time": "2023-05-30T17:28:34.718229",
     "exception": false,
     "start_time": "2023-05-30T17:28:31.158339",
     "status": "completed"
    },
    "tags": []
   },
   "outputs": [],
   "source": [
    "# Define the path to the directory where the checkpoints were saved\n",
    "checkpoint_dir = './checkpoints'\n",
    "\n",
    "# Load the best checkpoint using tf.keras.models.load_model()\n",
    "best_model = tf.keras.models.load_model(checkpoint_dir)"
   ]
  },
  {
   "cell_type": "code",
   "execution_count": 17,
   "id": "30a2f05b",
   "metadata": {
    "execution": {
     "iopub.execute_input": "2023-05-30T17:28:38.747260Z",
     "iopub.status.busy": "2023-05-30T17:28:38.746881Z",
     "iopub.status.idle": "2023-05-30T17:28:38.802210Z",
     "shell.execute_reply": "2023-05-30T17:28:38.801302Z"
    },
    "papermill": {
     "duration": 2.33537,
     "end_time": "2023-05-30T17:28:38.804425",
     "exception": false,
     "start_time": "2023-05-30T17:28:36.469055",
     "status": "completed"
    },
    "tags": []
   },
   "outputs": [],
   "source": [
    "from datetime import datetime\n",
    "# current date and time\n",
    "now = datetime.now()\n",
    "\n",
    "time_stamp = datetime.timestamp(now)\n",
    "name = f'model-train-{time_stamp}'\n",
    "best_model.save(f'{name}.h5')"
   ]
  },
  {
   "cell_type": "code",
   "execution_count": 18,
   "id": "87348553",
   "metadata": {
    "execution": {
     "iopub.execute_input": "2023-05-30T17:28:42.274688Z",
     "iopub.status.busy": "2023-05-30T17:28:42.274319Z",
     "iopub.status.idle": "2023-05-30T17:28:42.280171Z",
     "shell.execute_reply": "2023-05-30T17:28:42.278940Z"
    },
    "papermill": {
     "duration": 1.774095,
     "end_time": "2023-05-30T17:28:42.282887",
     "exception": false,
     "start_time": "2023-05-30T17:28:40.508792",
     "status": "completed"
    },
    "tags": []
   },
   "outputs": [],
   "source": [
    "# import tensorflow as tf\n",
    "# loaded_model = tf.keras.models.load_model(\n",
    "#     '/kaggle/input/models/model-train-1685459367.992634.h5'\n",
    "# )"
   ]
  },
  {
   "cell_type": "code",
   "execution_count": 19,
   "id": "150b44e5",
   "metadata": {
    "execution": {
     "iopub.execute_input": "2023-05-30T17:28:45.848773Z",
     "iopub.status.busy": "2023-05-30T17:28:45.847810Z",
     "iopub.status.idle": "2023-05-30T17:28:47.763525Z",
     "shell.execute_reply": "2023-05-30T17:28:47.762525Z"
    },
    "papermill": {
     "duration": 3.722648,
     "end_time": "2023-05-30T17:28:47.765620",
     "exception": false,
     "start_time": "2023-05-30T17:28:44.042972",
     "status": "completed"
    },
    "tags": []
   },
   "outputs": [
    {
     "name": "stdout",
     "output_type": "stream",
     "text": [
      "Found 349 files belonging to 4 classes.\n",
      "Test loss: 1.1581770181655884\n",
      "Test accuracy: 0.8223495483398438\n"
     ]
    }
   ],
   "source": [
    "TEST_DIR = '/kaggle/input/indonesian-food/dataset/val'\n",
    "test_dataset = tf.keras.utils.image_dataset_from_directory(\n",
    "    TEST_DIR,\n",
    "    batch_size=64,\n",
    "    label_mode='categorical',\n",
    "#     class_names=CLASS_NAMES,\n",
    "    image_size=(224, 224),\n",
    "    shuffle=False    \n",
    ")\n",
    "\n",
    "score = best_model.evaluate(test_dataset, verbose=0)\n",
    "# score = loaded_model.evaluate(test_dataset, verbose=0)\n",
    "\n",
    "print('Test loss:', score[0])\n",
    "print('Test accuracy:', score[1])"
   ]
  },
  {
   "cell_type": "code",
   "execution_count": 20,
   "id": "5965c3e2",
   "metadata": {
    "execution": {
     "iopub.execute_input": "2023-05-30T17:28:51.259151Z",
     "iopub.status.busy": "2023-05-30T17:28:51.258762Z",
     "iopub.status.idle": "2023-05-30T17:29:11.408614Z",
     "shell.execute_reply": "2023-05-30T17:29:11.407604Z"
    },
    "papermill": {
     "duration": 21.88885,
     "end_time": "2023-05-30T17:29:11.410935",
     "exception": false,
     "start_time": "2023-05-30T17:28:49.522085",
     "status": "completed"
    },
    "tags": []
   },
   "outputs": [
    {
     "name": "stdout",
     "output_type": "stream",
     "text": [
      "['bakso', 'gado', 'rendang', 'sate']\n",
      "untuk folder sate\n",
      "Jumlah data 89\n",
      "Jumlah data benar 79\n",
      "Akurasi 88.76\n",
      "\n",
      "untuk folder bakso\n",
      "Jumlah data 90\n",
      "Jumlah data benar 72\n",
      "Akurasi 80.00\n",
      "\n",
      "untuk folder gado\n",
      "Jumlah data 87\n",
      "Jumlah data benar 68\n",
      "Akurasi 78.16\n",
      "\n",
      "untuk folder rendang\n",
      "Jumlah data 83\n",
      "Jumlah data benar 67\n",
      "Akurasi 80.72\n",
      "\n"
     ]
    }
   ],
   "source": [
    "import numpy as np\n",
    "import os\n",
    "from tensorflow.keras.utils import load_img, img_to_array\n",
    "import tensorflow as tf\n",
    "import numpy as np\n",
    "from sklearn.metrics import classification_report\n",
    "from tensorflow.keras.utils import to_categorical\n",
    "\n",
    "true_labels = np.concatenate([y for _, y in test_dataset], axis=0)\n",
    "\n",
    "true_labels = to_categorical(true_labels, num_classes=4)\n",
    "\n",
    "class_names = CLASS_NAMES\n",
    "print(class_names)\n",
    " \n",
    "# predicting images\n",
    "TEST_DIR = '/kaggle/input/indonesian-food/dataset/val'\n",
    "for dirname, _, filenames in os.walk(TEST_DIR):\n",
    "    if dirname is not TEST_DIR:\n",
    "        last_dir = os.path.basename(os.path.normpath(dirname))\n",
    "        correct = 0\n",
    "        report = None\n",
    "        for idx, filename in enumerate(filenames):\n",
    "            path = filename\n",
    "\n",
    "            img = load_img(os.path.join(\n",
    "                os.path.join(TEST_DIR, dirname), filename), target_size=(IMAGE_SIZE, IMAGE_SIZE))\n",
    "            x = img_to_array(img)\n",
    "            x = np.expand_dims(x, axis=0)\n",
    "\n",
    "            images = np.vstack([x])\n",
    "            classes = best_model.predict(images, batch_size=128, verbose=0)\n",
    "#             classes = loaded_model.predict(images, batch_size=128, verbose=0)\n",
    "            score = tf.nn.softmax(classes[0])\n",
    "            \n",
    "            predicted_class = np.argmax(score)\n",
    "            predicted_class_name = class_names[np.argmax(score)]\n",
    "\n",
    "            if(last_dir==predicted_class_name): correct += 1\n",
    "#             print(\"Image: \", filename)\n",
    "#             print(\n",
    "#                 \"This image most likely belongs to {} with a {:.2f} percent confidence.\\n\"\n",
    "#                 .format(predicted_class_name, 100 * np.max(score))\n",
    "#             )\n",
    "    \n",
    "        print(f'untuk folder {last_dir}')\n",
    "        print(\"Jumlah data\",len(os.listdir(os.path.join(TEST_DIR, dirname))))\n",
    "        print(\"Jumlah data benar\", correct)\n",
    "        print(\n",
    "            \"Akurasi {:.2f}\\n\"\n",
    "            .format(100*(correct/len(os.listdir(os.path.join(TEST_DIR, dirname)))))\n",
    "        )\n"
   ]
  },
  {
   "cell_type": "code",
   "execution_count": 21,
   "id": "07f0f48f",
   "metadata": {
    "execution": {
     "iopub.execute_input": "2023-05-30T17:29:14.930478Z",
     "iopub.status.busy": "2023-05-30T17:29:14.928606Z",
     "iopub.status.idle": "2023-05-30T17:29:16.219948Z",
     "shell.execute_reply": "2023-05-30T17:29:16.219016Z"
    },
    "papermill": {
     "duration": 3.050515,
     "end_time": "2023-05-30T17:29:16.222259",
     "exception": false,
     "start_time": "2023-05-30T17:29:13.171744",
     "status": "completed"
    },
    "tags": []
   },
   "outputs": [
    {
     "name": "stdout",
     "output_type": "stream",
     "text": [
      "11/11 [==============================] - 0s 16ms/step\n",
      "              precision    recall  f1-score   support\n",
      "\n",
      "       bakso     0.0000    0.0000    0.0000        90\n",
      "        gado     0.0000    0.0000    0.0000        87\n",
      "     rendang     0.2378    1.0000    0.3843        83\n",
      "        sate     0.0000    0.0000    0.0000        89\n",
      "\n",
      "   micro avg     0.2378    0.2378    0.2378       349\n",
      "   macro avg     0.0595    0.2500    0.0961       349\n",
      "weighted avg     0.0566    0.2378    0.0914       349\n",
      " samples avg     0.2378    0.2378    0.2378       349\n",
      "\n"
     ]
    },
    {
     "name": "stderr",
     "output_type": "stream",
     "text": [
      "/opt/conda/lib/python3.10/site-packages/sklearn/metrics/_classification.py:1344: UndefinedMetricWarning: Precision and F-score are ill-defined and being set to 0.0 in labels with no predicted samples. Use `zero_division` parameter to control this behavior.\n",
      "  _warn_prf(average, modifier, msg_start, len(result))\n"
     ]
    }
   ],
   "source": [
    "import numpy as np\n",
    "import os\n",
    "from sklearn.metrics import classification_report\n",
    "from tensorflow.keras.preprocessing.image import load_img, img_to_array\n",
    "from tensorflow.keras.utils import to_categorical\n",
    "\n",
    "TEST_DIR = '/kaggle/input/indonesian-food/dataset/val'\n",
    "CLASS_NAMES = ['bakso', 'gado', 'rendang', 'sate']\n",
    "num_classes = len(CLASS_NAMES)\n",
    "\n",
    "# Function to load and preprocess images\n",
    "def load_images(directory):\n",
    "    images = []\n",
    "    labels = []\n",
    "    for class_name in CLASS_NAMES:\n",
    "        class_dir = os.path.join(directory, class_name)\n",
    "        for filename in os.listdir(class_dir):\n",
    "            img_path = os.path.join(class_dir, filename)\n",
    "            img = load_img(img_path, target_size=(IMAGE_SIZE, IMAGE_SIZE))\n",
    "            img = img_to_array(img) / 255.0\n",
    "            images.append(img)\n",
    "            labels.append(CLASS_NAMES.index(class_name))\n",
    "    return np.array(images), np.array(labels)\n",
    "\n",
    "# Load the test images and labels\n",
    "test_images, true_labels = load_images(TEST_DIR)\n",
    "\n",
    "# Preprocess the true labels to one-hot encoded format\n",
    "true_labels = to_categorical(true_labels, num_classes=num_classes)\n",
    "\n",
    "# Get the predicted probabilities from the model\n",
    "# predicted_probabilities = loaded_model.predict(test_images)\n",
    "predicted_probabilities = best_model.predict(test_images)\n",
    "\n",
    "# Convert the predicted probabilities to predicted labels\n",
    "predicted_labels = np.argmax(predicted_probabilities, axis=1)\n",
    "predicted_labels = to_categorical(predicted_labels, num_classes=num_classes)\n",
    "\n",
    "# Compute the classification report for each class\n",
    "report = classification_report(\n",
    "    true_labels, \n",
    "    predicted_labels, \n",
    "    target_names=CLASS_NAMES, \n",
    "    digits=4,\n",
    "#     output_dict=True\n",
    ")\n",
    "\n",
    "print(report)\n"
   ]
  }
 ],
 "metadata": {
  "kernelspec": {
   "display_name": "Python 3",
   "language": "python",
   "name": "python3"
  },
  "language_info": {
   "codemirror_mode": {
    "name": "ipython",
    "version": 3
   },
   "file_extension": ".py",
   "mimetype": "text/x-python",
   "name": "python",
   "nbconvert_exporter": "python",
   "pygments_lexer": "ipython3",
   "version": "3.10.10"
  },
  "papermill": {
   "default_parameters": {},
   "duration": 3661.551347,
   "end_time": "2023-05-30T17:29:20.908282",
   "environment_variables": {},
   "exception": null,
   "input_path": "__notebook__.ipynb",
   "output_path": "__notebook__.ipynb",
   "parameters": {},
   "start_time": "2023-05-30T16:28:19.356935",
   "version": "2.4.0"
  }
 },
 "nbformat": 4,
 "nbformat_minor": 5
}
