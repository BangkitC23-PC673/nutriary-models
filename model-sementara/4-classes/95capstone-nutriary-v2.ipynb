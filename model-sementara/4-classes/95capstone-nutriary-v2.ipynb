{
 "cells": [
  {
   "cell_type": "code",
   "execution_count": null,
   "id": "3d45bfa3",
   "metadata": {
    "_cell_guid": "b1076dfc-b9ad-4769-8c92-a6c4dae69d19",
    "_uuid": "8f2839f25d086af736a60e9eeb907d3b93b6e0e5",
    "papermill": {
     "duration": 0.007459,
     "end_time": "2023-05-29T00:38:44.284224",
     "exception": false,
     "start_time": "2023-05-29T00:38:44.276765",
     "status": "completed"
    },
    "tags": []
   },
   "outputs": [],
   "source": []
  },
  {
   "cell_type": "markdown",
   "id": "bd0cd559",
   "metadata": {
    "papermill": {
     "duration": 0.004631,
     "end_time": "2023-05-29T00:38:44.293882",
     "exception": false,
     "start_time": "2023-05-29T00:38:44.289251",
     "status": "completed"
    },
    "tags": []
   },
   "source": [
    "path train: '/kaggle/input/indonesian-food/dataset/train'<br>\n",
    "path test: '/kaggle/input/indonesian-food/dataset/test'<br>\n",
    "path valid: '/kaggle/input/indonesian-food/dataset/valid'<br>\n",
    "ada 5 kelas: bakso gado gudeg rendang sate"
   ]
  },
  {
   "cell_type": "code",
   "execution_count": 1,
   "id": "806b4fe2",
   "metadata": {
    "execution": {
     "iopub.execute_input": "2023-05-29T00:38:44.306222Z",
     "iopub.status.busy": "2023-05-29T00:38:44.305251Z",
     "iopub.status.idle": "2023-05-29T00:38:44.311036Z",
     "shell.execute_reply": "2023-05-29T00:38:44.310117Z"
    },
    "papermill": {
     "duration": 0.015508,
     "end_time": "2023-05-29T00:38:44.314208",
     "exception": false,
     "start_time": "2023-05-29T00:38:44.298700",
     "status": "completed"
    },
    "tags": []
   },
   "outputs": [],
   "source": [
    "# import tensorflow as tf\n",
    "# from tensorflow import keras\n",
    "# from PIL import Image\n",
    "# import os\n",
    "# import numpy as np\n",
    "# # Let's check size of images\n",
    "# base_dir = '/kaggle/input/indonesian-food/dataset/train/bakso'\n",
    "# for image in list(os.walk(\"/kaggle/input/indonesian-food/dataset/train/bakso\"))[0][2]:\n",
    "#   a = Image.open(os.path.join(base_dir, image))\n",
    "#   print(np.asarray(a).shape)"
   ]
  },
  {
   "cell_type": "code",
   "execution_count": 2,
   "id": "56478ae3",
   "metadata": {
    "execution": {
     "iopub.execute_input": "2023-05-29T00:38:44.325301Z",
     "iopub.status.busy": "2023-05-29T00:38:44.324792Z",
     "iopub.status.idle": "2023-05-29T00:38:50.893884Z",
     "shell.execute_reply": "2023-05-29T00:38:50.892168Z"
    },
    "papermill": {
     "duration": 6.57709,
     "end_time": "2023-05-29T00:38:50.896043",
     "exception": false,
     "start_time": "2023-05-29T00:38:44.318953",
     "status": "completed"
    },
    "tags": []
   },
   "outputs": [
    {
     "name": "stderr",
     "output_type": "stream",
     "text": [
      "/opt/conda/lib/python3.10/site-packages/scipy/__init__.py:146: UserWarning: A NumPy version >=1.16.5 and <1.23.0 is required for this version of SciPy (detected version 1.23.5\n",
      "  warnings.warn(f\"A NumPy version >={np_minversion} and <{np_maxversion}\"\n"
     ]
    },
    {
     "name": "stdout",
     "output_type": "stream",
     "text": [
      "\\u2022 Using TensorFlow Version: 2.11.0\n"
     ]
    }
   ],
   "source": [
    "import tensorflow as tf\n",
    "\n",
    "print('\\\\u2022 Using TensorFlow Version:', tf.__version__)"
   ]
  },
  {
   "cell_type": "code",
   "execution_count": 3,
   "id": "4fa86583",
   "metadata": {
    "execution": {
     "iopub.execute_input": "2023-05-29T00:38:50.909510Z",
     "iopub.status.busy": "2023-05-29T00:38:50.907814Z",
     "iopub.status.idle": "2023-05-29T00:39:03.412321Z",
     "shell.execute_reply": "2023-05-29T00:39:03.411213Z"
    },
    "papermill": {
     "duration": 12.513367,
     "end_time": "2023-05-29T00:39:03.415062",
     "exception": false,
     "start_time": "2023-05-29T00:38:50.901695",
     "status": "completed"
    },
    "tags": []
   },
   "outputs": [
    {
     "name": "stdout",
     "output_type": "stream",
     "text": [
      "Collecting Keras-Preprocessing\r\n",
      "  Downloading Keras_Preprocessing-1.1.2-py2.py3-none-any.whl (42 kB)\r\n",
      "\u001b[2K     \u001b[90m━━━━━━━━━━━━━━━━━━━━━━━━━━━━━━━━━━━━━━━━\u001b[0m \u001b[32m42.6/42.6 kB\u001b[0m \u001b[31m3.4 MB/s\u001b[0m eta \u001b[36m0:00:00\u001b[0m\r\n",
      "\u001b[?25hRequirement already satisfied: six>=1.9.0 in /opt/conda/lib/python3.10/site-packages (from Keras-Preprocessing) (1.16.0)\r\n",
      "Requirement already satisfied: numpy>=1.9.1 in /opt/conda/lib/python3.10/site-packages (from Keras-Preprocessing) (1.23.5)\r\n",
      "Installing collected packages: Keras-Preprocessing\r\n",
      "Successfully installed Keras-Preprocessing-1.1.2\r\n",
      "\u001b[33mWARNING: Running pip as the 'root' user can result in broken permissions and conflicting behaviour with the system package manager. It is recommended to use a virtual environment instead: https://pip.pypa.io/warnings/venv\u001b[0m\u001b[33m\r\n",
      "\u001b[0m"
     ]
    }
   ],
   "source": [
    "!pip install Keras-Preprocessing"
   ]
  },
  {
   "cell_type": "code",
   "execution_count": null,
   "id": "9bfd8f88",
   "metadata": {
    "papermill": {
     "duration": 0.005634,
     "end_time": "2023-05-29T00:39:03.426691",
     "exception": false,
     "start_time": "2023-05-29T00:39:03.421057",
     "status": "completed"
    },
    "tags": []
   },
   "outputs": [],
   "source": []
  },
  {
   "cell_type": "code",
   "execution_count": 4,
   "id": "e2792ba0",
   "metadata": {
    "execution": {
     "iopub.execute_input": "2023-05-29T00:39:03.439473Z",
     "iopub.status.busy": "2023-05-29T00:39:03.439090Z",
     "iopub.status.idle": "2023-05-29T00:39:03.444434Z",
     "shell.execute_reply": "2023-05-29T00:39:03.443494Z"
    },
    "papermill": {
     "duration": 0.014173,
     "end_time": "2023-05-29T00:39:03.446525",
     "exception": false,
     "start_time": "2023-05-29T00:39:03.432352",
     "status": "completed"
    },
    "tags": []
   },
   "outputs": [],
   "source": [
    "# import os\n",
    "\n",
    "# base_dir = '/kaggle/input/indonesian-food/dataset/train'\n",
    "\n",
    "# bakso_dir = os.path.join(base_dir, 'bakso')\n",
    "# gado_dir = os.path.join(base_dir, 'gado')\n",
    "# gudeg_dir = os.path.join(base_dir, 'gudeg')\n",
    "# rendang_dir = os.path.join(base_dir, 'rendang')\n",
    "# sate_dir = os.path.join(base_dir, 'sate')\n",
    "\n",
    "# print('total training bakso images:', len(os.listdir(bakso_dir)))\n",
    "# print('total training gado images:', len(os.listdir(gado_dir)))\n",
    "# print('total training gudeg images:', len(os.listdir(gudeg_dir)))\n",
    "# print('total training rendang images:', len(os.listdir(rendang_dir)))\n",
    "# print('total training sate images:', len(os.listdir(sate_dir)))\n",
    "\n",
    "# bakso_files = os.listdir(bakso_dir)\n",
    "# print(bakso_files[:10])\n",
    "\n",
    "# gado_files = os.listdir(gado_dir)\n",
    "# print(gado_files[:10])\n",
    "\n",
    "# gudeg_files = os.listdir(gudeg_dir)\n",
    "# print(gudeg_files[:10])\n",
    "\n",
    "# rendang_files = os.listdir(rendang_dir)\n",
    "# print(rendang_files[:10])\n",
    "\n",
    "# sate_files = os.listdir(sate_dir)\n",
    "# print(sate_files[:10])"
   ]
  },
  {
   "cell_type": "code",
   "execution_count": null,
   "id": "e918b52f",
   "metadata": {
    "papermill": {
     "duration": 0.005374,
     "end_time": "2023-05-29T00:39:03.457453",
     "exception": false,
     "start_time": "2023-05-29T00:39:03.452079",
     "status": "completed"
    },
    "tags": []
   },
   "outputs": [],
   "source": []
  },
  {
   "cell_type": "code",
   "execution_count": 5,
   "id": "c4e25f83",
   "metadata": {
    "execution": {
     "iopub.execute_input": "2023-05-29T00:39:03.470273Z",
     "iopub.status.busy": "2023-05-29T00:39:03.469508Z",
     "iopub.status.idle": "2023-05-29T00:39:06.993220Z",
     "shell.execute_reply": "2023-05-29T00:39:06.992407Z"
    },
    "papermill": {
     "duration": 3.555602,
     "end_time": "2023-05-29T00:39:07.018460",
     "exception": false,
     "start_time": "2023-05-29T00:39:03.462858",
     "status": "completed"
    },
    "tags": []
   },
   "outputs": [
    {
     "name": "stdout",
     "output_type": "stream",
     "text": [
      "Model: \"sequential\"\n",
      "_________________________________________________________________\n",
      " Layer (type)                Output Shape              Param #   \n",
      "=================================================================\n",
      " conv2d (Conv2D)             (None, 222, 222, 32)      896       \n",
      "                                                                 \n",
      " max_pooling2d (MaxPooling2D  (None, 111, 111, 32)     0         \n",
      " )                                                               \n",
      "                                                                 \n",
      " conv2d_1 (Conv2D)           (None, 109, 109, 64)      18496     \n",
      "                                                                 \n",
      " max_pooling2d_1 (MaxPooling  (None, 54, 54, 64)       0         \n",
      " 2D)                                                             \n",
      "                                                                 \n",
      " conv2d_2 (Conv2D)           (None, 52, 52, 128)       73856     \n",
      "                                                                 \n",
      " max_pooling2d_2 (MaxPooling  (None, 26, 26, 128)      0         \n",
      " 2D)                                                             \n",
      "                                                                 \n",
      " conv2d_3 (Conv2D)           (None, 24, 24, 256)       295168    \n",
      "                                                                 \n",
      " max_pooling2d_3 (MaxPooling  (None, 12, 12, 256)      0         \n",
      " 2D)                                                             \n",
      "                                                                 \n",
      " conv2d_4 (Conv2D)           (None, 10, 10, 256)       590080    \n",
      "                                                                 \n",
      " max_pooling2d_4 (MaxPooling  (None, 5, 5, 256)        0         \n",
      " 2D)                                                             \n",
      "                                                                 \n",
      " flatten (Flatten)           (None, 6400)              0         \n",
      "                                                                 \n",
      " dense (Dense)               (None, 512)               3277312   \n",
      "                                                                 \n",
      " dense_1 (Dense)             (None, 4)                 2052      \n",
      "                                                                 \n",
      "=================================================================\n",
      "Total params: 4,257,860\n",
      "Trainable params: 4,257,860\n",
      "Non-trainable params: 0\n",
      "_________________________________________________________________\n"
     ]
    }
   ],
   "source": [
    "import os\n",
    "import tensorflow as tf\n",
    "import tensorflow.keras.layers as tflayers\n",
    "from tensorflow import keras\n",
    "from tensorflow.keras.applications import Xception\n",
    "from tensorflow.keras.layers import Dense\n",
    "from tensorflow.keras.models import Sequential\n",
    "from tensorflow.keras.optimizers import Adam, RMSprop\n",
    "from tensorflow.keras.preprocessing.image import ImageDataGenerator\n",
    "from keras_tuner import HyperModel, RandomSearch\n",
    "from keras_tuner.engine.hyperparameters import HyperParameters\n",
    "\n",
    "IMAGE_SIZE = 224\n",
    "BATCH_SIZE = 128\n",
    "# with tf.device('/gpu:0'):\n",
    "model = Sequential()\n",
    "\n",
    "# base_model = Xception(\n",
    "#     input_shape = (IMAGE_SIZE, IMAGE_SIZE, 3),\n",
    "#     include_top=False,\n",
    "#     weights='imagenet'\n",
    "# )\n",
    "# model.add(base_model)\n",
    "# model.add(tf.keras.layers.GlobalAveragePooling2D())\n",
    "\n",
    "# nontransfer learning\n",
    "model.add(tflayers.Conv2D(32, (3,3), activation='relu', input_shape=(IMAGE_SIZE, IMAGE_SIZE, 3)))\n",
    "model.add(tflayers.MaxPooling2D(2,2))\n",
    "\n",
    "model.add(tflayers.Conv2D(64, (3,3), activation='relu'))\n",
    "model.add(tflayers.MaxPooling2D(2,2))\n",
    "\n",
    "model.add(tflayers.Conv2D(128, (3,3), activation='relu'))\n",
    "model.add(tflayers.MaxPooling2D(2,2))\n",
    "model.add(tflayers.Conv2D(256, (3,3), activation='relu'))\n",
    "model.add(tflayers.MaxPooling2D(2,2))\n",
    "model.add(tflayers.Conv2D(256, (3,3), activation='relu'))\n",
    "model.add(tflayers.MaxPooling2D(2,2))\n",
    "model.add(tflayers.Flatten())\n",
    "\n",
    "# Tune the hyperparameters for the Dense layer\n",
    "model.add(Dense(512, activation='relu'))\n",
    "#     model.add(tflayers.Dropout(0.5))\n",
    "model.add(Dense(4, activation='softmax'))\n",
    "\n",
    "# initial_LR = 0.001\n",
    "# optimizer = tf.keras.optimizers.Adam(learning_rate=initial_LR)\n",
    "# new_learning_rate = 0.0005\n",
    "# optimizer.learning_rate.assign(new_learning_rate)\n",
    "\n",
    "model.compile(\n",
    "    optimizer='adam', \n",
    "    loss=tf.keras.losses.CategoricalCrossentropy(), \n",
    "    metrics=['accuracy']\n",
    ")\n",
    "\n",
    "# Print the model summary\n",
    "model.summary()"
   ]
  },
  {
   "cell_type": "code",
   "execution_count": 6,
   "id": "61cc1cc6",
   "metadata": {
    "execution": {
     "iopub.execute_input": "2023-05-29T00:39:07.036755Z",
     "iopub.status.busy": "2023-05-29T00:39:07.036450Z",
     "iopub.status.idle": "2023-05-29T00:39:16.451870Z",
     "shell.execute_reply": "2023-05-29T00:39:16.450813Z"
    },
    "papermill": {
     "duration": 9.427303,
     "end_time": "2023-05-29T00:39:16.454271",
     "exception": false,
     "start_time": "2023-05-29T00:39:07.026968",
     "status": "completed"
    },
    "tags": []
   },
   "outputs": [
    {
     "name": "stdout",
     "output_type": "stream",
     "text": [
      "Found 7754 images belonging to 4 classes.\n",
      "Found 866 images belonging to 4 classes.\n"
     ]
    }
   ],
   "source": [
    "TRAINING_DIR = \"/kaggle/input/indonesian-food/dataset/train\"\n",
    "VALIDATION_DIR = \"/kaggle/input/indonesian-food/dataset/test\"\n",
    "\n",
    "augmentation_parameters = {\n",
    "    'rotation_range': 20,\n",
    "    'width_shift_range': 0.2,\n",
    "    'height_shift_range': 0.2,\n",
    "    'zoom_range': 0.2,\n",
    "    'horizontal_flip': True,\n",
    "    'vertical_flip': True,\n",
    "    'brightness_range': (0.8, 1.2),\n",
    "#     'channel_shift_range': 20,\n",
    "}\n",
    "\n",
    "# with tf.device('/gpu:0'):\n",
    "training_datagen = ImageDataGenerator(\n",
    "    rescale=1./255,\n",
    "    **augmentation_parameters\n",
    ")\n",
    "\n",
    "validation_datagen = ImageDataGenerator(rescale = 1./255)\n",
    "\n",
    "train_generator = training_datagen.flow_from_directory(\n",
    "    TRAINING_DIR,\n",
    "    target_size=(IMAGE_SIZE, IMAGE_SIZE),\n",
    "    class_mode='categorical',\n",
    "    batch_size=BATCH_SIZE\n",
    ")\n",
    "\n",
    "validation_generator = validation_datagen.flow_from_directory(\n",
    "    VALIDATION_DIR,\n",
    "    target_size=(IMAGE_SIZE, IMAGE_SIZE),\n",
    "    class_mode='categorical',\n",
    "    batch_size=BATCH_SIZE\n",
    ")\n",
    "\n"
   ]
  },
  {
   "cell_type": "code",
   "execution_count": 7,
   "id": "75ee295a",
   "metadata": {
    "execution": {
     "iopub.execute_input": "2023-05-29T00:39:16.473754Z",
     "iopub.status.busy": "2023-05-29T00:39:16.472891Z",
     "iopub.status.idle": "2023-05-29T00:39:16.477502Z",
     "shell.execute_reply": "2023-05-29T00:39:16.476686Z"
    },
    "papermill": {
     "duration": 0.016301,
     "end_time": "2023-05-29T00:39:16.479364",
     "exception": false,
     "start_time": "2023-05-29T00:39:16.463063",
     "status": "completed"
    },
    "tags": []
   },
   "outputs": [],
   "source": [
    "# Perform hyperparameter tuning\n",
    "# tuner.search(\n",
    "#     train_generator, \n",
    "#     validation_data=validation_generator, \n",
    "#     epochs=10\n",
    "# #     steps_per_epoch=100\n",
    "# )\n",
    "\n",
    "# Get the best hyperparameters and build the final model\n",
    "# best_hps = tuner.get_best_hyperparameters(num_trials=1)[0]\n",
    "# model = tuner.hypermodel.build(best_hps)"
   ]
  },
  {
   "cell_type": "code",
   "execution_count": 8,
   "id": "e45ff37b",
   "metadata": {
    "execution": {
     "iopub.execute_input": "2023-05-29T00:39:16.498496Z",
     "iopub.status.busy": "2023-05-29T00:39:16.497762Z",
     "iopub.status.idle": "2023-05-29T02:17:42.219210Z",
     "shell.execute_reply": "2023-05-29T02:17:42.218174Z"
    },
    "papermill": {
     "duration": 5905.980721,
     "end_time": "2023-05-29T02:17:42.468721",
     "exception": false,
     "start_time": "2023-05-29T00:39:16.488000",
     "status": "completed"
    },
    "tags": []
   },
   "outputs": [
    {
     "name": "stdout",
     "output_type": "stream",
     "text": [
      "Epoch 1/50\n",
      "61/61 [==============================] - 173s 3s/step - loss: 1.1055 - accuracy: 0.4928 - val_loss: 1.0383 - val_accuracy: 0.4954\n",
      "Epoch 2/50\n",
      "61/61 [==============================] - 113s 2s/step - loss: 0.9209 - accuracy: 0.5948 - val_loss: 0.8597 - val_accuracy: 0.6374\n",
      "Epoch 3/50\n",
      "61/61 [==============================] - 113s 2s/step - loss: 0.8374 - accuracy: 0.6399 - val_loss: 0.8456 - val_accuracy: 0.6293\n",
      "Epoch 4/50\n",
      "61/61 [==============================] - 114s 2s/step - loss: 0.7824 - accuracy: 0.6759 - val_loss: 0.7809 - val_accuracy: 0.6744\n",
      "Epoch 5/50\n",
      "61/61 [==============================] - 114s 2s/step - loss: 0.7622 - accuracy: 0.6806 - val_loss: 0.7268 - val_accuracy: 0.7044\n",
      "Epoch 6/50\n",
      "61/61 [==============================] - 114s 2s/step - loss: 0.6668 - accuracy: 0.7266 - val_loss: 0.5587 - val_accuracy: 0.7748\n",
      "Epoch 7/50\n",
      "61/61 [==============================] - 115s 2s/step - loss: 0.6564 - accuracy: 0.7381 - val_loss: 0.6922 - val_accuracy: 0.7125\n",
      "Epoch 8/50\n",
      "61/61 [==============================] - 115s 2s/step - loss: 0.6112 - accuracy: 0.7573 - val_loss: 0.6494 - val_accuracy: 0.7564\n",
      "Epoch 9/50\n",
      "61/61 [==============================] - 114s 2s/step - loss: 0.5897 - accuracy: 0.7676 - val_loss: 0.5721 - val_accuracy: 0.7818\n",
      "Epoch 10/50\n",
      "61/61 [==============================] - 115s 2s/step - loss: 0.5831 - accuracy: 0.7742 - val_loss: 0.5362 - val_accuracy: 0.7921\n",
      "Epoch 11/50\n",
      "61/61 [==============================] - 113s 2s/step - loss: 0.5128 - accuracy: 0.8015 - val_loss: 0.3980 - val_accuracy: 0.8568\n",
      "Epoch 12/50\n",
      "61/61 [==============================] - 114s 2s/step - loss: 0.5229 - accuracy: 0.8026 - val_loss: 0.5600 - val_accuracy: 0.7771\n",
      "Epoch 13/50\n",
      "61/61 [==============================] - 114s 2s/step - loss: 0.5097 - accuracy: 0.8055 - val_loss: 0.4258 - val_accuracy: 0.8314\n",
      "Epoch 14/50\n",
      "61/61 [==============================] - 113s 2s/step - loss: 0.4626 - accuracy: 0.8249 - val_loss: 0.3714 - val_accuracy: 0.8522\n",
      "Epoch 15/50\n",
      "61/61 [==============================] - 113s 2s/step - loss: 0.4297 - accuracy: 0.8326 - val_loss: 0.3734 - val_accuracy: 0.8626\n",
      "Epoch 16/50\n",
      "61/61 [==============================] - 114s 2s/step - loss: 0.4182 - accuracy: 0.8420 - val_loss: 0.3609 - val_accuracy: 0.8753\n",
      "Epoch 17/50\n",
      "61/61 [==============================] - 115s 2s/step - loss: 0.4066 - accuracy: 0.8459 - val_loss: 0.3314 - val_accuracy: 0.8684\n",
      "Epoch 18/50\n",
      "61/61 [==============================] - 112s 2s/step - loss: 0.3974 - accuracy: 0.8472 - val_loss: 0.2865 - val_accuracy: 0.8926\n",
      "Epoch 19/50\n",
      "61/61 [==============================] - 116s 2s/step - loss: 0.3535 - accuracy: 0.8676 - val_loss: 0.3239 - val_accuracy: 0.8891\n",
      "Epoch 20/50\n",
      "61/61 [==============================] - 113s 2s/step - loss: 0.3721 - accuracy: 0.8623 - val_loss: 0.3116 - val_accuracy: 0.8961\n",
      "Epoch 21/50\n",
      "61/61 [==============================] - 115s 2s/step - loss: 0.3440 - accuracy: 0.8708 - val_loss: 0.2763 - val_accuracy: 0.9065\n",
      "Epoch 22/50\n",
      "61/61 [==============================] - 112s 2s/step - loss: 0.3281 - accuracy: 0.8753 - val_loss: 0.2850 - val_accuracy: 0.8903\n",
      "Epoch 23/50\n",
      "61/61 [==============================] - 114s 2s/step - loss: 0.2898 - accuracy: 0.8950 - val_loss: 0.2422 - val_accuracy: 0.9273\n",
      "Epoch 24/50\n",
      "61/61 [==============================] - 113s 2s/step - loss: 0.3313 - accuracy: 0.8781 - val_loss: 0.2716 - val_accuracy: 0.9030\n",
      "Epoch 25/50\n",
      "61/61 [==============================] - 114s 2s/step - loss: 0.2774 - accuracy: 0.8988 - val_loss: 0.2371 - val_accuracy: 0.9226\n",
      "Epoch 26/50\n",
      "61/61 [==============================] - 114s 2s/step - loss: 0.2946 - accuracy: 0.8921 - val_loss: 0.2673 - val_accuracy: 0.9065\n",
      "Epoch 27/50\n",
      "61/61 [==============================] - 113s 2s/step - loss: 0.2974 - accuracy: 0.8928 - val_loss: 0.2397 - val_accuracy: 0.9122\n",
      "Epoch 28/50\n",
      "61/61 [==============================] - 115s 2s/step - loss: 0.2844 - accuracy: 0.8949 - val_loss: 0.2033 - val_accuracy: 0.9388\n",
      "Epoch 29/50\n",
      "61/61 [==============================] - 114s 2s/step - loss: 0.2746 - accuracy: 0.8986 - val_loss: 0.2490 - val_accuracy: 0.9157\n",
      "Epoch 30/50\n",
      "61/61 [==============================] - 113s 2s/step - loss: 0.2514 - accuracy: 0.9060 - val_loss: 0.3141 - val_accuracy: 0.8926\n",
      "Epoch 31/50\n",
      "61/61 [==============================] - 113s 2s/step - loss: 0.2508 - accuracy: 0.9086 - val_loss: 0.2271 - val_accuracy: 0.9261\n",
      "Epoch 32/50\n",
      "61/61 [==============================] - 113s 2s/step - loss: 0.2294 - accuracy: 0.9176 - val_loss: 0.2457 - val_accuracy: 0.9180\n",
      "Epoch 33/50\n",
      "61/61 [==============================] - 112s 2s/step - loss: 0.2589 - accuracy: 0.9092 - val_loss: 0.2153 - val_accuracy: 0.9388\n",
      "Epoch 34/50\n",
      "61/61 [==============================] - 113s 2s/step - loss: 0.2280 - accuracy: 0.9207 - val_loss: 0.1943 - val_accuracy: 0.9480\n",
      "Epoch 35/50\n",
      "61/61 [==============================] - 112s 2s/step - loss: 0.2248 - accuracy: 0.9169 - val_loss: 0.2644 - val_accuracy: 0.9145\n",
      "Epoch 36/50\n",
      "61/61 [==============================] - 113s 2s/step - loss: 0.2113 - accuracy: 0.9246 - val_loss: 0.1791 - val_accuracy: 0.9457\n",
      "Epoch 37/50\n",
      "61/61 [==============================] - 113s 2s/step - loss: 0.2147 - accuracy: 0.9226 - val_loss: 0.1742 - val_accuracy: 0.9503\n",
      "Epoch 38/50\n",
      "61/61 [==============================] - 114s 2s/step - loss: 0.2071 - accuracy: 0.9264 - val_loss: 0.1766 - val_accuracy: 0.9423\n",
      "Epoch 39/50\n",
      "61/61 [==============================] - 113s 2s/step - loss: 0.2204 - accuracy: 0.9190 - val_loss: 0.2111 - val_accuracy: 0.9319\n",
      "Epoch 40/50\n",
      "61/61 [==============================] - 114s 2s/step - loss: 0.2093 - accuracy: 0.9239 - val_loss: 0.2061 - val_accuracy: 0.9342\n",
      "Epoch 41/50\n",
      "61/61 [==============================] - 113s 2s/step - loss: 0.1856 - accuracy: 0.9346 - val_loss: 0.1675 - val_accuracy: 0.9446\n",
      "Epoch 42/50\n",
      "61/61 [==============================] - 113s 2s/step - loss: 0.2016 - accuracy: 0.9260 - val_loss: 0.1800 - val_accuracy: 0.9411\n",
      "Epoch 43/50\n",
      "61/61 [==============================] - 114s 2s/step - loss: 0.1827 - accuracy: 0.9314 - val_loss: 0.1658 - val_accuracy: 0.9492\n",
      "Epoch 44/50\n",
      "61/61 [==============================] - 113s 2s/step - loss: 0.1763 - accuracy: 0.9356 - val_loss: 0.1706 - val_accuracy: 0.9492\n",
      "Epoch 45/50\n",
      "61/61 [==============================] - 113s 2s/step - loss: 0.1898 - accuracy: 0.9302 - val_loss: 0.2020 - val_accuracy: 0.9480\n",
      "Epoch 46/50\n",
      "61/61 [==============================] - 113s 2s/step - loss: 0.1869 - accuracy: 0.9324 - val_loss: 0.1956 - val_accuracy: 0.9249\n",
      "Epoch 47/50\n",
      "61/61 [==============================] - 114s 2s/step - loss: 0.1786 - accuracy: 0.9372 - val_loss: 0.1632 - val_accuracy: 0.9550\n",
      "Epoch 48/50\n",
      "61/61 [==============================] - 112s 2s/step - loss: 0.1774 - accuracy: 0.9367 - val_loss: 0.1487 - val_accuracy: 0.9527\n",
      "Epoch 49/50\n",
      "61/61 [==============================] - 113s 2s/step - loss: 0.1735 - accuracy: 0.9367 - val_loss: 0.2272 - val_accuracy: 0.9307\n",
      "Epoch 50/50\n",
      "61/61 [==============================] - 113s 2s/step - loss: 0.1742 - accuracy: 0.9360 - val_loss: 0.1656 - val_accuracy: 0.9469\n",
      "Best epoch: 47\n"
     ]
    }
   ],
   "source": [
    "# Build the model with the optimal hyperparameters and train it on the data for 50 epochs\n",
    "# model = tuner.hypermodel.build(best_hps)\n",
    "# with tf.device('/gpu:0'):\n",
    "# Train the model\n",
    "history = model.fit(\n",
    "    train_generator, \n",
    "    epochs=50, \n",
    "    verbose=1, \n",
    "    validation_data = validation_generator\n",
    ")\n",
    "\n",
    "val_acc_per_epoch = history.history['val_accuracy']\n",
    "best_epoch = val_acc_per_epoch.index(max(val_acc_per_epoch)) + 1\n",
    "print('Best epoch: %d' % (best_epoch,))"
   ]
  },
  {
   "cell_type": "code",
   "execution_count": 9,
   "id": "9a64e322",
   "metadata": {
    "execution": {
     "iopub.execute_input": "2023-05-29T02:17:42.954594Z",
     "iopub.status.busy": "2023-05-29T02:17:42.954228Z",
     "iopub.status.idle": "2023-05-29T02:17:43.355250Z",
     "shell.execute_reply": "2023-05-29T02:17:43.354195Z"
    },
    "papermill": {
     "duration": 0.646491,
     "end_time": "2023-05-29T02:17:43.357522",
     "exception": false,
     "start_time": "2023-05-29T02:17:42.711031",
     "status": "completed"
    },
    "tags": []
   },
   "outputs": [
    {
     "data": {
      "image/png": "[encoded data removed]",
      "text/plain": [
       "<Figure size 1200x400 with 2 Axes>"
      ]
     },
     "metadata": {},
     "output_type": "display_data"
    }
   ],
   "source": [
    "import matplotlib.pyplot as plt\n",
    "\n",
    "# Plot the results\n",
    "acc = history.history['accuracy']\n",
    "val_acc = history.history['val_accuracy']\n",
    "loss = history.history['loss']\n",
    "val_loss = history.history['val_loss']\n",
    "\n",
    "epochs = range(len(acc))\n",
    "\n",
    "figure, axis = plt.subplots(1, 2, figsize=(12, 4))\n",
    "\n",
    "axis[0].plot(epochs, acc, 'r', label='Training accuracy')\n",
    "axis[0].plot(epochs, val_acc, 'b', label='Validation accuracy')\n",
    "axis[0].set_title(\"Training and validation accuracy\")\n",
    "axis[0].legend(loc=0)\n",
    "\n",
    "axis[1].plot(epochs, loss, 'r', label='Training loss')\n",
    "axis[1].plot(epochs, val_loss, 'b', label='Validation loss')\n",
    "axis[1].set_title(\"Training and validation loss\")\n",
    "axis[1].legend(loc=0)\n",
    "\n",
    "\n",
    "plt.show()"
   ]
  },
  {
   "cell_type": "code",
   "execution_count": 10,
   "id": "ee0c3153",
   "metadata": {
    "execution": {
     "iopub.execute_input": "2023-05-29T02:17:43.842851Z",
     "iopub.status.busy": "2023-05-29T02:17:43.841954Z",
     "iopub.status.idle": "2023-05-29T02:17:43.847331Z",
     "shell.execute_reply": "2023-05-29T02:17:43.846450Z"
    },
    "papermill": {
     "duration": 0.250037,
     "end_time": "2023-05-29T02:17:43.849293",
     "exception": false,
     "start_time": "2023-05-29T02:17:43.599256",
     "status": "completed"
    },
    "tags": []
   },
   "outputs": [],
   "source": [
    "save_locally = tf.saved_model.SaveOptions(experimental_io_device='/job:localhost')\n",
    "checkpoints_cb = tf.keras.callbacks.ModelCheckpoint('./checkpoints', options=save_locally)"
   ]
  },
  {
   "cell_type": "code",
   "execution_count": 11,
   "id": "9c4dd16f",
   "metadata": {
    "execution": {
     "iopub.execute_input": "2023-05-29T02:17:44.334700Z",
     "iopub.status.busy": "2023-05-29T02:17:44.332990Z",
     "iopub.status.idle": "2023-05-29T03:49:35.808568Z",
     "shell.execute_reply": "2023-05-29T03:49:35.807552Z"
    },
    "papermill": {
     "duration": 5511.720431,
     "end_time": "2023-05-29T03:49:35.811144",
     "exception": false,
     "start_time": "2023-05-29T02:17:44.090713",
     "status": "completed"
    },
    "tags": []
   },
   "outputs": [
    {
     "name": "stdout",
     "output_type": "stream",
     "text": [
      "Epoch 1/47\n",
      "61/61 [==============================] - 116s 2s/step - loss: 0.1583 - accuracy: 0.9411 - val_loss: 0.1626 - val_accuracy: 0.9469\n",
      "Epoch 2/47\n",
      "61/61 [==============================] - 115s 2s/step - loss: 0.1653 - accuracy: 0.9395 - val_loss: 0.1717 - val_accuracy: 0.9480\n",
      "Epoch 3/47\n",
      "61/61 [==============================] - 114s 2s/step - loss: 0.1571 - accuracy: 0.9435 - val_loss: 0.1696 - val_accuracy: 0.9515\n",
      "Epoch 4/47\n",
      "61/61 [==============================] - 115s 2s/step - loss: 0.1409 - accuracy: 0.9498 - val_loss: 0.1882 - val_accuracy: 0.9434\n",
      "Epoch 5/47\n",
      "61/61 [==============================] - 117s 2s/step - loss: 0.1571 - accuracy: 0.9439 - val_loss: 0.1541 - val_accuracy: 0.9550\n",
      "Epoch 6/47\n",
      "61/61 [==============================] - 115s 2s/step - loss: 0.1394 - accuracy: 0.9503 - val_loss: 0.1891 - val_accuracy: 0.9342\n",
      "Epoch 7/47\n",
      "61/61 [==============================] - 115s 2s/step - loss: 0.1596 - accuracy: 0.9413 - val_loss: 0.1739 - val_accuracy: 0.9446\n",
      "Epoch 8/47\n",
      "61/61 [==============================] - 115s 2s/step - loss: 0.1519 - accuracy: 0.9442 - val_loss: 0.1896 - val_accuracy: 0.9457\n",
      "Epoch 9/47\n",
      "61/61 [==============================] - 115s 2s/step - loss: 0.1577 - accuracy: 0.9439 - val_loss: 0.1793 - val_accuracy: 0.9515\n",
      "Epoch 10/47\n",
      "61/61 [==============================] - 115s 2s/step - loss: 0.1433 - accuracy: 0.9480 - val_loss: 0.1586 - val_accuracy: 0.9561\n",
      "Epoch 11/47\n",
      "61/61 [==============================] - 115s 2s/step - loss: 0.1361 - accuracy: 0.9516 - val_loss: 0.1831 - val_accuracy: 0.9469\n",
      "Epoch 12/47\n",
      "61/61 [==============================] - 115s 2s/step - loss: 0.1456 - accuracy: 0.9480 - val_loss: 0.1858 - val_accuracy: 0.9457\n",
      "Epoch 13/47\n",
      "61/61 [==============================] - 114s 2s/step - loss: 0.1295 - accuracy: 0.9510 - val_loss: 0.1814 - val_accuracy: 0.9527\n",
      "Epoch 14/47\n",
      "61/61 [==============================] - 115s 2s/step - loss: 0.1379 - accuracy: 0.9516 - val_loss: 0.1585 - val_accuracy: 0.9446\n",
      "Epoch 15/47\n",
      "61/61 [==============================] - 116s 2s/step - loss: 0.1278 - accuracy: 0.9536 - val_loss: 0.1782 - val_accuracy: 0.9446\n",
      "Epoch 16/47\n",
      "61/61 [==============================] - 116s 2s/step - loss: 0.1315 - accuracy: 0.9501 - val_loss: 0.1554 - val_accuracy: 0.9561\n",
      "Epoch 17/47\n",
      "61/61 [==============================] - 117s 2s/step - loss: 0.1189 - accuracy: 0.9585 - val_loss: 0.1769 - val_accuracy: 0.9469\n",
      "Epoch 18/47\n",
      "61/61 [==============================] - 117s 2s/step - loss: 0.1372 - accuracy: 0.9516 - val_loss: 0.1507 - val_accuracy: 0.9515\n",
      "Epoch 19/47\n",
      "61/61 [==============================] - 116s 2s/step - loss: 0.1337 - accuracy: 0.9507 - val_loss: 0.1545 - val_accuracy: 0.9538\n",
      "Epoch 20/47\n",
      "61/61 [==============================] - 118s 2s/step - loss: 0.1506 - accuracy: 0.9440 - val_loss: 0.1995 - val_accuracy: 0.9376\n",
      "Epoch 21/47\n",
      "61/61 [==============================] - 116s 2s/step - loss: 0.1360 - accuracy: 0.9524 - val_loss: 0.2090 - val_accuracy: 0.9215\n",
      "Epoch 22/47\n",
      "61/61 [==============================] - 115s 2s/step - loss: 0.1170 - accuracy: 0.9574 - val_loss: 0.1575 - val_accuracy: 0.9515\n",
      "Epoch 23/47\n",
      "61/61 [==============================] - 117s 2s/step - loss: 0.1103 - accuracy: 0.9601 - val_loss: 0.1461 - val_accuracy: 0.9527\n",
      "Epoch 24/47\n",
      "61/61 [==============================] - 116s 2s/step - loss: 0.1118 - accuracy: 0.9576 - val_loss: 0.1449 - val_accuracy: 0.9573\n",
      "Epoch 25/47\n",
      "61/61 [==============================] - 116s 2s/step - loss: 0.1206 - accuracy: 0.9565 - val_loss: 0.1299 - val_accuracy: 0.9607\n",
      "Epoch 26/47\n",
      "61/61 [==============================] - 118s 2s/step - loss: 0.1090 - accuracy: 0.9598 - val_loss: 0.1800 - val_accuracy: 0.9400\n",
      "Epoch 27/47\n",
      "61/61 [==============================] - 120s 2s/step - loss: 0.1231 - accuracy: 0.9551 - val_loss: 0.1305 - val_accuracy: 0.9515\n",
      "Epoch 28/47\n",
      "61/61 [==============================] - 118s 2s/step - loss: 0.0908 - accuracy: 0.9670 - val_loss: 0.1271 - val_accuracy: 0.9654\n",
      "Epoch 29/47\n",
      "61/61 [==============================] - 117s 2s/step - loss: 0.1092 - accuracy: 0.9614 - val_loss: 0.2085 - val_accuracy: 0.9342\n",
      "Epoch 30/47\n",
      "61/61 [==============================] - 115s 2s/step - loss: 0.1342 - accuracy: 0.9520 - val_loss: 0.1471 - val_accuracy: 0.9492\n",
      "Epoch 31/47\n",
      "61/61 [==============================] - 116s 2s/step - loss: 0.1166 - accuracy: 0.9562 - val_loss: 0.1628 - val_accuracy: 0.9492\n",
      "Epoch 32/47\n",
      "61/61 [==============================] - 115s 2s/step - loss: 0.1067 - accuracy: 0.9640 - val_loss: 0.1410 - val_accuracy: 0.9515\n",
      "Epoch 33/47\n",
      "61/61 [==============================] - 116s 2s/step - loss: 0.1079 - accuracy: 0.9594 - val_loss: 0.1310 - val_accuracy: 0.9619\n",
      "Epoch 34/47\n",
      "61/61 [==============================] - 116s 2s/step - loss: 0.1135 - accuracy: 0.9611 - val_loss: 0.1424 - val_accuracy: 0.9561\n",
      "Epoch 35/47\n",
      "61/61 [==============================] - 117s 2s/step - loss: 0.1021 - accuracy: 0.9635 - val_loss: 0.1380 - val_accuracy: 0.9550\n",
      "Epoch 36/47\n",
      "61/61 [==============================] - 116s 2s/step - loss: 0.1112 - accuracy: 0.9621 - val_loss: 0.1824 - val_accuracy: 0.9469\n",
      "Epoch 37/47\n",
      "61/61 [==============================] - 118s 2s/step - loss: 0.1025 - accuracy: 0.9627 - val_loss: 0.1721 - val_accuracy: 0.9434\n",
      "Epoch 38/47\n",
      "61/61 [==============================] - 116s 2s/step - loss: 0.1021 - accuracy: 0.9636 - val_loss: 0.1494 - val_accuracy: 0.9503\n",
      "Epoch 39/47\n",
      "61/61 [==============================] - 115s 2s/step - loss: 0.1012 - accuracy: 0.9638 - val_loss: 0.1486 - val_accuracy: 0.9584\n",
      "Epoch 40/47\n",
      "61/61 [==============================] - 116s 2s/step - loss: 0.1005 - accuracy: 0.9647 - val_loss: 0.1382 - val_accuracy: 0.9630\n",
      "Epoch 41/47\n",
      "61/61 [==============================] - 121s 2s/step - loss: 0.1118 - accuracy: 0.9614 - val_loss: 0.1747 - val_accuracy: 0.9550\n",
      "Epoch 42/47\n",
      "61/61 [==============================] - 116s 2s/step - loss: 0.1057 - accuracy: 0.9613 - val_loss: 0.1503 - val_accuracy: 0.9550\n",
      "Epoch 43/47\n",
      "61/61 [==============================] - 115s 2s/step - loss: 0.1033 - accuracy: 0.9644 - val_loss: 0.1239 - val_accuracy: 0.9573\n",
      "Epoch 44/47\n",
      "61/61 [==============================] - 114s 2s/step - loss: 0.0893 - accuracy: 0.9663 - val_loss: 0.2060 - val_accuracy: 0.9434\n",
      "Epoch 45/47\n",
      "61/61 [==============================] - 115s 2s/step - loss: 0.0974 - accuracy: 0.9656 - val_loss: 0.1407 - val_accuracy: 0.9550\n",
      "Epoch 46/47\n",
      "61/61 [==============================] - 118s 2s/step - loss: 0.1157 - accuracy: 0.9569 - val_loss: 0.1279 - val_accuracy: 0.9596\n",
      "Epoch 47/47\n",
      "61/61 [==============================] - 114s 2s/step - loss: 0.0954 - accuracy: 0.9670 - val_loss: 0.1636 - val_accuracy: 0.9527\n"
     ]
    }
   ],
   "source": [
    "# hypermodel = tuner.hypermodel.build(best_hps)\n",
    "\n",
    "# Retrain the model\n",
    "historyFinal = model.fit(\n",
    "    train_generator, \n",
    "    epochs=best_epoch, \n",
    "    verbose=1,\n",
    "    validation_data = validation_generator,\n",
    "    callbacks=[checkpoints_cb]\n",
    ")"
   ]
  },
  {
   "cell_type": "code",
   "execution_count": 12,
   "id": "bc559cce",
   "metadata": {
    "execution": {
     "iopub.execute_input": "2023-05-29T03:49:36.742455Z",
     "iopub.status.busy": "2023-05-29T03:49:36.742052Z",
     "iopub.status.idle": "2023-05-29T03:49:36.746588Z",
     "shell.execute_reply": "2023-05-29T03:49:36.745533Z"
    },
    "papermill": {
     "duration": 0.472147,
     "end_time": "2023-05-29T03:49:36.749082",
     "exception": false,
     "start_time": "2023-05-29T03:49:36.276935",
     "status": "completed"
    },
    "tags": []
   },
   "outputs": [],
   "source": [
    "# eval_result = hypermodel.evaluate(img_test, label_test)\n",
    "# print(\"[test loss, test accuracy]:\", eval_result)"
   ]
  },
  {
   "cell_type": "code",
   "execution_count": 13,
   "id": "bae760db",
   "metadata": {
    "execution": {
     "iopub.execute_input": "2023-05-29T03:49:37.696102Z",
     "iopub.status.busy": "2023-05-29T03:49:37.695015Z",
     "iopub.status.idle": "2023-05-29T03:49:38.080322Z",
     "shell.execute_reply": "2023-05-29T03:49:38.079363Z"
    },
    "papermill": {
     "duration": 0.868366,
     "end_time": "2023-05-29T03:49:38.082668",
     "exception": false,
     "start_time": "2023-05-29T03:49:37.214302",
     "status": "completed"
    },
    "tags": []
   },
   "outputs": [
    {
     "data": {
      "image/png": "[encoded data removed]",
      "text/plain": [
       "<Figure size 1200x400 with 2 Axes>"
      ]
     },
     "metadata": {},
     "output_type": "display_data"
    }
   ],
   "source": [
    "import matplotlib.pyplot as plt\n",
    "\n",
    "# Plot the results\n",
    "acc = historyFinal.history['accuracy']\n",
    "val_acc = historyFinal.history['val_accuracy']\n",
    "loss = historyFinal.history['loss']\n",
    "val_loss = historyFinal.history['val_loss']\n",
    "\n",
    "epochs = range(len(acc))\n",
    "\n",
    "figure, axis = plt.subplots(1, 2, figsize=(12, 4))\n",
    "\n",
    "axis[0].plot(epochs, acc, 'r', label='Training accuracy')\n",
    "axis[0].plot(epochs, val_acc, 'b', label='Validation accuracy')\n",
    "axis[0].set_title(\"Training and validation accuracy\")\n",
    "axis[0].legend(loc=0)\n",
    "\n",
    "axis[1].plot(epochs, loss, 'r', label='Training loss')\n",
    "axis[1].plot(epochs, val_loss, 'b', label='Validation loss')\n",
    "axis[1].set_title(\"Training and validation loss\")\n",
    "axis[1].legend(loc=0)\n",
    "\n",
    "\n",
    "plt.show()"
   ]
  },
  {
   "cell_type": "code",
   "execution_count": 14,
   "id": "3f595ea3",
   "metadata": {
    "execution": {
     "iopub.execute_input": "2023-05-29T03:49:39.078377Z",
     "iopub.status.busy": "2023-05-29T03:49:39.077575Z",
     "iopub.status.idle": "2023-05-29T03:49:39.717634Z",
     "shell.execute_reply": "2023-05-29T03:49:39.716703Z"
    },
    "papermill": {
     "duration": 1.10587,
     "end_time": "2023-05-29T03:49:39.720585",
     "exception": false,
     "start_time": "2023-05-29T03:49:38.614715",
     "status": "completed"
    },
    "tags": []
   },
   "outputs": [],
   "source": [
    "# Define the path to the directory where the checkpoints were saved\n",
    "checkpoint_dir = './checkpoints'\n",
    "\n",
    "# Load the best checkpoint using tf.keras.models.load_model()\n",
    "best_model = tf.keras.models.load_model(checkpoint_dir)"
   ]
  },
  {
   "cell_type": "code",
   "execution_count": 15,
   "id": "0286ee8d",
   "metadata": {
    "execution": {
     "iopub.execute_input": "2023-05-29T03:49:40.654314Z",
     "iopub.status.busy": "2023-05-29T03:49:40.653927Z",
     "iopub.status.idle": "2023-05-29T03:49:40.707525Z",
     "shell.execute_reply": "2023-05-29T03:49:40.706573Z"
    },
    "papermill": {
     "duration": 0.52299,
     "end_time": "2023-05-29T03:49:40.710027",
     "exception": false,
     "start_time": "2023-05-29T03:49:40.187037",
     "status": "completed"
    },
    "tags": []
   },
   "outputs": [],
   "source": [
    "from datetime import datetime\n",
    "# current date and time\n",
    "now = datetime.now()\n",
    "\n",
    "time_stamp = datetime.timestamp(now)\n",
    "name = f'model-train-{time_stamp}'\n",
    "best_model.save(f'{name}.h5')"
   ]
  },
  {
   "cell_type": "code",
   "execution_count": 16,
   "id": "5f0fbbb2",
   "metadata": {
    "execution": {
     "iopub.execute_input": "2023-05-29T03:49:41.641306Z",
     "iopub.status.busy": "2023-05-29T03:49:41.640521Z",
     "iopub.status.idle": "2023-05-29T03:49:41.644985Z",
     "shell.execute_reply": "2023-05-29T03:49:41.644032Z"
    },
    "papermill": {
     "duration": 0.47234,
     "end_time": "2023-05-29T03:49:41.647010",
     "exception": false,
     "start_time": "2023-05-29T03:49:41.174670",
     "status": "completed"
    },
    "tags": []
   },
   "outputs": [],
   "source": [
    "# import tensorflow as tf\n",
    "# loaded_model = tf.keras.models.load_model(\n",
    "#     '/kaggle/input/models/model-train-1685123377.707976.h5'\n",
    "# )"
   ]
  },
  {
   "cell_type": "code",
   "execution_count": 17,
   "id": "24c8a142",
   "metadata": {
    "execution": {
     "iopub.execute_input": "2023-05-29T03:49:42.582120Z",
     "iopub.status.busy": "2023-05-29T03:49:42.581768Z",
     "iopub.status.idle": "2023-05-29T03:50:03.159908Z",
     "shell.execute_reply": "2023-05-29T03:50:03.158826Z"
    },
    "papermill": {
     "duration": 21.051426,
     "end_time": "2023-05-29T03:50:03.162032",
     "exception": false,
     "start_time": "2023-05-29T03:49:42.110606",
     "status": "completed"
    },
    "tags": []
   },
   "outputs": [
    {
     "name": "stdout",
     "output_type": "stream",
     "text": [
      "['bakso', 'gado', 'rendang', 'sate']\n",
      "untuk folder sate\n",
      "Jumlah data 89\n",
      "Jumlah data benar 75\n",
      "Akurasi 84.27\n",
      "\n",
      "untuk folder bakso\n",
      "Jumlah data 90\n",
      "Jumlah data benar 73\n",
      "Akurasi 81.11\n",
      "\n",
      "untuk folder rendang\n",
      "Jumlah data 83\n",
      "Jumlah data benar 72\n",
      "Akurasi 86.75\n",
      "\n",
      "untuk folder gado gado\n",
      "Jumlah data 87\n",
      "Jumlah data benar 0\n",
      "Akurasi 0.00\n",
      "\n"
     ]
    }
   ],
   "source": [
    "import numpy as np\n",
    "import os\n",
    "from tensorflow.keras.utils import load_img, img_to_array\n",
    "import tensorflow as tf\n",
    "\n",
    "\n",
    "\n",
    "class_names = list(train_generator.class_indices)\n",
    "print(class_names)\n",
    " \n",
    "# predicting images\n",
    "TEST_DIR = '/kaggle/input/indonesian-food/dataset/val'\n",
    "for dirname, _, filenames in os.walk(TEST_DIR):\n",
    "    if dirname is not TEST_DIR:\n",
    "        last_dir = os.path.basename(os.path.normpath(dirname))\n",
    "        correct = 0\n",
    "        for idx, filename in enumerate(filenames):\n",
    "            path = filename\n",
    "\n",
    "            img = load_img(os.path.join(\n",
    "                os.path.join(TEST_DIR, dirname), filename), target_size=(IMAGE_SIZE, IMAGE_SIZE))\n",
    "            x = img_to_array(img)\n",
    "            x = np.expand_dims(x, axis=0)\n",
    "\n",
    "            images = np.vstack([x])\n",
    "            classes = best_model.predict(images, batch_size=128, verbose=0)\n",
    "#             classes = loaded_model.predict(images, batch_size=128, verbose=0)\n",
    "            score = tf.nn.softmax(classes[0])\n",
    "            \n",
    "            predicted_class = np.argmax(score)\n",
    "            predicted_class_name = class_names[np.argmax(score)]\n",
    "\n",
    "            if(last_dir==predicted_class_name): correct += 1\n",
    "#             print(\"Image: \", filename)\n",
    "#             print(\n",
    "#                 \"This image most likely belongs to {} with a {:.2f} percent confidence.\\n\"\n",
    "#                 .format(predicted_class_name, 100 * np.max(score))\n",
    "#             )\n",
    "        \n",
    "        print(f'untuk folder {last_dir}')\n",
    "        print(\"Jumlah data\",len(os.listdir(os.path.join(TEST_DIR, dirname))))\n",
    "        print(\"Jumlah data benar\", correct)\n",
    "        print(\n",
    "            \"Akurasi {:.2f}\\n\"\n",
    "            .format(100*(correct/len(os.listdir(os.path.join(TEST_DIR, dirname)))))\n",
    "        )\n"
   ]
  }
 ],
 "metadata": {
  "kernelspec": {
   "display_name": "Python 3",
   "language": "python",
   "name": "python3"
  },
  "language_info": {
   "codemirror_mode": {
    "name": "ipython",
    "version": 3
   },
   "file_extension": ".py",
   "mimetype": "text/x-python",
   "name": "python",
   "nbconvert_exporter": "python",
   "pygments_lexer": "ipython3",
   "version": "3.10.10"
  },
  "papermill": {
   "default_parameters": {},
   "duration": 11492.941224,
   "end_time": "2023-05-29T03:50:07.193365",
   "environment_variables": {},
   "exception": null,
   "input_path": "__notebook__.ipynb",
   "output_path": "__notebook__.ipynb",
   "parameters": {},
   "start_time": "2023-05-29T00:38:34.252141",
   "version": "2.4.0"
  }
 },
 "nbformat": 4,
 "nbformat_minor": 5
}
